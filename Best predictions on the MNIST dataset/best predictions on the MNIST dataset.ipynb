{
  "cells": [
    {
      "cell_type": "markdown",
      "metadata": {
        "id": "c5d7f994"
      },
      "source": [
        "# Homework\n",
        "\n",
        "Task\n",
        "* Find the hyperparameters that yield get the best predictions on the test dataset\n",
        "\n",
        "Team\n",
        "* Yufei Chu\n",
        "* Kavish Vijay Daftari"
      ],
      "id": "c5d7f994"
    },
    {
      "cell_type": "markdown",
      "metadata": {
        "id": "TQWAJdAiMlLw"
      },
      "source": [
        "Imoprting the libraries"
      ],
      "id": "TQWAJdAiMlLw"
    },
    {
      "cell_type": "code",
      "execution_count": 1,
      "metadata": {
        "id": "973f95f1"
      },
      "outputs": [],
      "source": [
        "import numpy as np\n",
        "from urllib import request\n",
        "import gzip\n",
        "import pickle"
      ],
      "id": "973f95f1"
    },
    {
      "cell_type": "markdown",
      "metadata": {
        "id": "HgecIqUtMqel"
      },
      "source": [
        "Code to define two functions, download_mnist() and save_mnist(), that can be used to download and save the MNIST dataset."
      ],
      "id": "HgecIqUtMqel"
    },
    {
      "cell_type": "code",
      "execution_count": 2,
      "metadata": {
        "id": "91622440"
      },
      "outputs": [],
      "source": [
        "filename = [\n",
        "    [\"training_images\",\"train-images-idx3-ubyte.gz\"],\n",
        "    [\"test_images\",\"t10k-images-idx3-ubyte.gz\"],\n",
        "    [\"training_labels\",\"train-labels-idx1-ubyte.gz\"],\n",
        "    [\"test_labels\",\"t10k-labels-idx1-ubyte.gz\"]\n",
        "]\n",
        "\n",
        "def download_mnist():\n",
        "    base_url = \"http://yann.lecun.com/exdb/mnist/\"\n",
        "    for name in filename:\n",
        "        print(\"Downloading \"+name[1]+\"...\")\n",
        "        request.urlretrieve(base_url+name[1], name[1])\n",
        "    print(\"Download complete.\")\n",
        "\n",
        "def save_mnist():\n",
        "    mnist = {}\n",
        "    for name in filename[:2]:\n",
        "        with gzip.open(name[1], 'rb') as f:\n",
        "            mnist[name[0]] = np.frombuffer(f.read(), np.uint8, offset=16).reshape(-1,28*28)\n",
        "    for name in filename[-2:]:\n",
        "        with gzip.open(name[1], 'rb') as f:\n",
        "            mnist[name[0]] = np.frombuffer(f.read(), np.uint8, offset=8)\n",
        "    with open(\"mnist.pkl\", 'wb') as f:\n",
        "        pickle.dump(mnist,f)\n",
        "    print(\"Save complete.\")"
      ],
      "id": "91622440"
    },
    {
      "cell_type": "code",
      "execution_count": 3,
      "metadata": {
        "colab": {
          "base_uri": "https://localhost:8080/"
        },
        "id": "cae5a0a7",
        "outputId": "41fd0b09-1db9-462f-fe73-cadee2683e14"
      },
      "outputs": [
        {
          "output_type": "stream",
          "name": "stdout",
          "text": [
            "Downloading train-images-idx3-ubyte.gz...\n",
            "Downloading t10k-images-idx3-ubyte.gz...\n",
            "Downloading train-labels-idx1-ubyte.gz...\n",
            "Downloading t10k-labels-idx1-ubyte.gz...\n",
            "Download complete.\n",
            "Save complete.\n"
          ]
        }
      ],
      "source": [
        "download_mnist()\n",
        "save_mnist()"
      ],
      "id": "cae5a0a7"
    },
    {
      "cell_type": "code",
      "execution_count": 4,
      "metadata": {
        "id": "afe4a9fd"
      },
      "outputs": [],
      "source": [
        "def load():\n",
        "    with open(r\"mnist.pkl\",'rb') as f:\n",
        "        mnist = pickle.load(f)\n",
        "    return mnist[\"training_images\"], mnist[\"training_labels\"], mnist[\"test_images\"], mnist[\"test_labels\"]"
      ],
      "id": "afe4a9fd"
    },
    {
      "cell_type": "markdown",
      "metadata": {
        "id": "PIu9rFA8M981"
      },
      "source": [
        "\n",
        "Loading MINST dataset and storing the training and test images and labels into separate numpy arrays for further processing."
      ],
      "id": "PIu9rFA8M981"
    },
    {
      "cell_type": "code",
      "execution_count": 5,
      "metadata": {
        "id": "29377d79"
      },
      "outputs": [],
      "source": [
        "X_train, y_train, X_test, y_test = load()"
      ],
      "id": "29377d79"
    },
    {
      "cell_type": "code",
      "execution_count": 6,
      "metadata": {
        "colab": {
          "base_uri": "https://localhost:8080/"
        },
        "id": "cce9951b",
        "outputId": "b7b0f680-b352-44db-e4b7-99d4ce3deabe"
      },
      "outputs": [
        {
          "output_type": "execute_result",
          "data": {
            "text/plain": [
              "((60000, 784), (60000,), (10000, 784), (10000,))"
            ]
          },
          "metadata": {},
          "execution_count": 6
        }
      ],
      "source": [
        "X_train.shape, y_train.shape, X_test.shape, y_test.shape"
      ],
      "id": "cce9951b"
    },
    {
      "cell_type": "code",
      "execution_count": 7,
      "metadata": {
        "colab": {
          "base_uri": "https://localhost:8080/"
        },
        "id": "550d4eea",
        "outputId": "2166998a-04ce-41db-b120-abec0770958e"
      },
      "outputs": [
        {
          "output_type": "execute_result",
          "data": {
            "text/plain": [
              "47040000"
            ]
          },
          "metadata": {},
          "execution_count": 7
        }
      ],
      "source": [
        "X_train.size"
      ],
      "id": "550d4eea"
    },
    {
      "cell_type": "markdown",
      "metadata": {
        "id": "31469813"
      },
      "source": [
        "Check if there are any *non-zero* elements in our matrices, use `np.any()`, which returns True if it finds at least one non-zero element:"
      ],
      "id": "31469813"
    },
    {
      "cell_type": "code",
      "execution_count": 8,
      "metadata": {
        "colab": {
          "base_uri": "https://localhost:8080/"
        },
        "id": "a708b3d6",
        "outputId": "c86c630f-2898-41f1-d187-ad444dac1fca"
      },
      "outputs": [
        {
          "output_type": "execute_result",
          "data": {
            "text/plain": [
              "(True, True)"
            ]
          },
          "metadata": {},
          "execution_count": 8
        }
      ],
      "source": [
        "np.any(X_train), np.any(X_test)"
      ],
      "id": "a708b3d6"
    },
    {
      "cell_type": "markdown",
      "metadata": {
        "id": "d66b3618"
      },
      "source": [
        "The sparsity of our dataset:"
      ],
      "id": "d66b3618"
    },
    {
      "cell_type": "code",
      "execution_count": 9,
      "metadata": {
        "colab": {
          "base_uri": "https://localhost:8080/"
        },
        "id": "93b89c05",
        "outputId": "ed49ec9f-f0cf-45f7-f21d-311e9fa0ea91"
      },
      "outputs": [
        {
          "output_type": "execute_result",
          "data": {
            "text/plain": [
              "(0.19120229591836735, 0.1927575255102041)"
            ]
          },
          "metadata": {},
          "execution_count": 9
        }
      ],
      "source": [
        "np.count_nonzero(X_train, axis=None) / X_train.size, np.count_nonzero(X_test, axis=None) / X_test.size"
      ],
      "id": "93b89c05"
    },
    {
      "cell_type": "code",
      "execution_count": 10,
      "metadata": {
        "colab": {
          "base_uri": "https://localhost:8080/"
        },
        "id": "6cb45f09",
        "outputId": "fb76052e-9c3f-4dac-e727-fa327120ed49"
      },
      "outputs": [
        {
          "output_type": "execute_result",
          "data": {
            "text/plain": [
              "(True, True)"
            ]
          },
          "metadata": {},
          "execution_count": 10
        }
      ],
      "source": [
        "np.any(y_train), np.any(y_test)"
      ],
      "id": "6cb45f09"
    },
    {
      "cell_type": "code",
      "execution_count": 11,
      "metadata": {
        "colab": {
          "base_uri": "https://localhost:8080/"
        },
        "id": "adabba47",
        "outputId": "5929182d-e9cc-4071-d28c-283daa925edc"
      },
      "outputs": [
        {
          "output_type": "execute_result",
          "data": {
            "text/plain": [
              "array([5, 0, 4, ..., 5, 6, 8], dtype=uint8)"
            ]
          },
          "metadata": {},
          "execution_count": 11
        }
      ],
      "source": [
        "y_train"
      ],
      "id": "adabba47"
    },
    {
      "cell_type": "markdown",
      "metadata": {
        "id": "4ac7ad9a"
      },
      "source": [
        "Prepare data so that it is *normalized* and *batched*:"
      ],
      "id": "4ac7ad9a"
    },
    {
      "cell_type": "code",
      "execution_count": 12,
      "metadata": {
        "id": "eec0f086"
      },
      "outputs": [],
      "source": [
        "def norm(X, x_min, x_max):\n",
        "    nom = (X - X.min(axis=0)) * (x_max-x_min)\n",
        "    denom = X.max(axis=0) - X.min(axis=0)\n",
        "    denom[denom==0] = 1\n",
        "    return x_min + nom/denom "
      ],
      "id": "eec0f086"
    },
    {
      "cell_type": "code",
      "execution_count": 13,
      "metadata": {
        "id": "bc31a9ea"
      },
      "outputs": [],
      "source": [
        "def prep_data(X, y):\n",
        "\n",
        "    X_ = []\n",
        "    y_ = []\n",
        "\n",
        "    itr = int(len(y) / batch_size) + 1\n",
        "    for j in range(1, itr):\n",
        "        rng = j * batch_size\n",
        "        X_.append(X[rng - batch_size : rng, :])\n",
        "        y_.append(y[rng - batch_size : rng])\n",
        "\n",
        "    X, y = np.array(X_), np.array(y_)\n",
        "    X = norm(X, 0, 1)\n",
        "\n",
        "    return X, y"
      ],
      "id": "bc31a9ea"
    },
    {
      "cell_type": "markdown",
      "metadata": {
        "id": "58ccbad1"
      },
      "source": [
        "## Tuning the hyperpatameter learning rates to 0.01"
      ],
      "id": "58ccbad1"
    },
    {
      "cell_type": "markdown",
      "metadata": {
        "id": "b63a6dda"
      },
      "source": [
        "Our hyperparameters: `eta` and `alpha` are the multiplicative and additive **learning rates**, used to put the brakes on *giant* weight updates (baby steps!). `n_iter` is the number of training epochs, and `batch_size` is the size of our minibatch:"
      ],
      "id": "b63a6dda"
    },
    {
      "cell_type": "code",
      "execution_count": 18,
      "metadata": {
        "id": "d89b970d"
      },
      "outputs": [],
      "source": [
        "eta=0.01\n",
        "alpha=0.01\n",
        "n_iter=100\n",
        "batch_size=50"
      ],
      "id": "d89b970d"
    },
    {
      "cell_type": "code",
      "execution_count": 19,
      "metadata": {
        "colab": {
          "base_uri": "https://localhost:8080/"
        },
        "id": "96cc9419",
        "outputId": "087f0a3e-6c0f-49dc-e164-4c9932088cb1"
      },
      "outputs": [
        {
          "output_type": "execute_result",
          "data": {
            "text/plain": [
              "(0.01, 0.01, 100, 50)"
            ]
          },
          "metadata": {},
          "execution_count": 19
        }
      ],
      "source": [
        "eta, alpha, n_iter, batch_size"
      ],
      "id": "96cc9419"
    },
    {
      "cell_type": "markdown",
      "metadata": {
        "id": "0a0ebc91"
      },
      "source": [
        "Let's prepare our data:"
      ],
      "id": "0a0ebc91"
    },
    {
      "cell_type": "code",
      "execution_count": 20,
      "metadata": {
        "id": "33e9a7ec"
      },
      "outputs": [],
      "source": [
        "X_train, y_train = prep_data(X_train, y_train)"
      ],
      "id": "33e9a7ec"
    },
    {
      "cell_type": "code",
      "execution_count": 21,
      "metadata": {
        "colab": {
          "base_uri": "https://localhost:8080/"
        },
        "id": "34ed9aad",
        "outputId": "cb93c874-0b6c-450b-87af-6af4ee737d58"
      },
      "outputs": [
        {
          "output_type": "execute_result",
          "data": {
            "text/plain": [
              "((1200, 50, 784), (1200, 50))"
            ]
          },
          "metadata": {},
          "execution_count": 21
        }
      ],
      "source": [
        "X_train.shape, y_train.shape"
      ],
      "id": "34ed9aad"
    },
    {
      "cell_type": "code",
      "execution_count": 22,
      "metadata": {
        "colab": {
          "base_uri": "https://localhost:8080/"
        },
        "id": "bf7e695c",
        "outputId": "fc92f555-e79f-4aee-a63f-442580901829"
      },
      "outputs": [
        {
          "output_type": "execute_result",
          "data": {
            "text/plain": [
              "60000"
            ]
          },
          "metadata": {},
          "execution_count": 22
        }
      ],
      "source": [
        "1200 * 50"
      ],
      "id": "bf7e695c"
    },
    {
      "cell_type": "code",
      "execution_count": 23,
      "metadata": {
        "colab": {
          "base_uri": "https://localhost:8080/"
        },
        "id": "02eaac1c",
        "outputId": "86447ffa-e27f-4eca-88e2-b6f508c5a35b"
      },
      "outputs": [
        {
          "output_type": "execute_result",
          "data": {
            "text/plain": [
              "0.19120229591836735"
            ]
          },
          "metadata": {},
          "execution_count": 23
        }
      ],
      "source": [
        "np.count_nonzero(X_train, axis=None) / X_train.size"
      ],
      "id": "02eaac1c"
    },
    {
      "cell_type": "markdown",
      "metadata": {
        "id": "7bbc3011"
      },
      "source": [
        "One-hot encode our labels so that instead of many categories denoted by integers one through 10, we only have two categories: `0` and `1`, albeit in more dimensions."
      ],
      "id": "7bbc3011"
    },
    {
      "cell_type": "code",
      "execution_count": 24,
      "metadata": {
        "id": "05658499"
      },
      "outputs": [],
      "source": [
        "def one_hot_enc(y, num_labels=10):\n",
        "    one_hot = np.zeros((num_labels, y.shape[0]), dtype=np.float32)\n",
        "\n",
        "    for i, val in enumerate(y):\n",
        "        one_hot[val,i] = 1.0\n",
        "\n",
        "    return one_hot"
      ],
      "id": "05658499"
    },
    {
      "cell_type": "code",
      "execution_count": 25,
      "metadata": {
        "id": "b0c925b0"
      },
      "outputs": [],
      "source": [
        "def one_hot_enc_v2(y, num_labels=10):\n",
        "    one_hot = np.zeros((y.shape[0], num_labels), dtype=np.float32)\n",
        "\n",
        "    for i, val in enumerate(y):\n",
        "        one_hot[i,val] = 1.0\n",
        "\n",
        "    return one_hot"
      ],
      "id": "b0c925b0"
    },
    {
      "cell_type": "markdown",
      "metadata": {
        "id": "98511555"
      },
      "source": [
        "Initialize our weights:"
      ],
      "id": "98511555"
    },
    {
      "cell_type": "code",
      "execution_count": 26,
      "metadata": {
        "id": "171b4c4d"
      },
      "outputs": [],
      "source": [
        "def init_weights(n_input, n_hidden_1, n_hidden_2, n_output, batch_size):\n",
        "    #w1 = np.random.randn(n_hidden_1, n_input + 1)\n",
        "    #w2 = np.random.randn(n_hidden_2, n_hidden_1 + 1)\n",
        "    #w3 = np.random.randn(n_output, n_hidden_2 + 1)\n",
        "    \n",
        "    w1 = np.random.randn(n_input, n_hidden_1)\n",
        "    w2 = np.random.randn(n_hidden_1, n_hidden_2)\n",
        "    w3 = np.random.randn(n_hidden_2, n_output)\n",
        "    \n",
        "    return w1, w2, w3"
      ],
      "id": "171b4c4d"
    },
    {
      "cell_type": "markdown",
      "metadata": {
        "id": "20dff60f"
      },
      "source": [
        "Binary cross-entropy loss:"
      ],
      "id": "20dff60f"
    },
    {
      "cell_type": "code",
      "execution_count": 27,
      "metadata": {
        "id": "3c042dca"
      },
      "outputs": [],
      "source": [
        "def compute_loss(prediction, label):\n",
        "    term_1 = -1*label * np.log(prediction)\n",
        "    term_2 = (1 - label) * (np.log(1 - prediction))\n",
        "\n",
        "    loss = np.sum(term_1 - term_2)\n",
        "    return loss"
      ],
      "id": "3c042dca"
    },
    {
      "cell_type": "markdown",
      "metadata": {
        "id": "07cd9ea1"
      },
      "source": [
        "Initialize the number of neurons per layer:"
      ],
      "id": "07cd9ea1"
    },
    {
      "cell_type": "code",
      "execution_count": 28,
      "metadata": {
        "colab": {
          "base_uri": "https://localhost:8080/"
        },
        "id": "1b82cb41",
        "outputId": "5aa9599b-9808-4251-a256-d1a9e5c01fb4"
      },
      "outputs": [
        {
          "output_type": "execute_result",
          "data": {
            "text/plain": [
              "784"
            ]
          },
          "metadata": {},
          "execution_count": 28
        }
      ],
      "source": [
        "n_hidden_1, n_hidden_2, n_output = 100, 100, 10\n",
        "n_input = len(X_train[0,0,:]) #returns the flattened image size (28*28 = 784)\n",
        "n_input"
      ],
      "id": "1b82cb41"
    },
    {
      "cell_type": "markdown",
      "metadata": {
        "id": "071f935e"
      },
      "source": [
        "Initialize the weight1, weight2, weight3"
      ],
      "id": "071f935e"
    },
    {
      "cell_type": "code",
      "execution_count": 29,
      "metadata": {
        "id": "c7464bcf"
      },
      "outputs": [],
      "source": [
        "w1, w2, w3 = init_weights(n_input, n_hidden_1, n_hidden_2, n_output, batch_size)"
      ],
      "id": "c7464bcf"
    },
    {
      "cell_type": "markdown",
      "metadata": {
        "id": "9a82a4db"
      },
      "source": [
        "Initialize Markovian weight history, losses and accuracy per epoch:"
      ],
      "id": "9a82a4db"
    },
    {
      "cell_type": "code",
      "execution_count": 30,
      "metadata": {
        "id": "379cc76b"
      },
      "outputs": [],
      "source": [
        "delta_w1_prev = np.zeros(w1.shape)\n",
        "delta_w2_prev = np.zeros(w2.shape)\n",
        "delta_w3_prev = np.zeros(w3.shape)\n",
        "\n",
        "train_losses = []\n",
        "train_acc = []"
      ],
      "id": "379cc76b"
    },
    {
      "cell_type": "markdown",
      "metadata": {
        "id": "eac26d8d"
      },
      "source": [
        "Here is the full code for the **feedforward pass** (we return input and all outputs):"
      ],
      "id": "eac26d8d"
    },
    {
      "cell_type": "code",
      "execution_count": 31,
      "metadata": {
        "id": "dd794910"
      },
      "outputs": [],
      "source": [
        "def compute_forward_pass(inputs):   \n",
        "    a1 = inputs\n",
        "\n",
        "    # outputs of first hidden layer\n",
        "    z2 = np.matmul(a1, w1)\n",
        "    a2 = 1/(1 + np.exp(-z2))\n",
        "\n",
        "    # outputs of second hidden layer\n",
        "    z3 = np.matmul(a2, w2)\n",
        "    a3 = 1/(1 + np.exp(-z3))\n",
        "\n",
        "    # outputs of final layer\n",
        "    z4 = np.matmul(a3, w3)\n",
        "    a4 = 1/(1 + np.exp(-z4))\n",
        "    \n",
        "    return a1, z2, a2, z3, a3, z4, a4"
      ],
      "id": "dd794910"
    },
    {
      "cell_type": "markdown",
      "metadata": {
        "id": "253c7d6b"
      },
      "source": [
        "In **backpropagation**, we evaluate the gradients of the loss with respect to the weights of each layer. \n",
        "\n",
        "The **gradient descent algorithm** consists in subtracting the respective gradient from each layer's weights (subject to an additive and multiplicative \"*brake*\" in order to take baby steps in that direction) so that we may reach the point where we minimize the difference between labels and predictions.\n",
        "\n",
        "<br />\n",
        "<center>\n",
        "<img src =ipynb.images/duck-baby-steps.png width = 400 />\n",
        "</center>"
      ],
      "id": "253c7d6b"
    },
    {
      "cell_type": "markdown",
      "metadata": {
        "id": "d5b13611"
      },
      "source": [
        "## 2 Hidden layers equations\n",
        "Our equations for two hidden layers are ($\\hat{y}$ is the output of the network while $y$ is the label, $z$ is the output of hidden layer 2, $r$ is the output of hidden layer 1, and $x$ is the input):\n",
        "\n",
        "$$\\frac{\\partial \\;\\text{Loss}(y, \\hat{y})}{\\partial W^3} = \n",
        "2(y - \\hat{y}) * \\sigma'(W^3 z) \\otimes z$$\n",
        "\n",
        "$$\\frac{\\partial \\;\\text{Loss}(y, \\hat{y})}{\\partial W^2} = \n",
        "2(y - \\hat{y}) * \\sigma'(W^3 z)  \\otimes W^3 *\n",
        "\\sigma'(W^2 r) \\otimes r$$\n",
        "\n",
        "$$\\frac{\\partial \\;\\text{Loss}(y, \\hat{y})}{\\partial W^1} =\n",
        "2(y - \\hat{y}) * \\sigma'(W^3 z) \\otimes W^3 \n",
        "* \\sigma'(W^2 r) \\otimes W^2 * \\sigma'(W^1 x) \\otimes x$$\n",
        "\n",
        "`a` for activation: `a1` is the input data, `a2` is the output of hidden layer 1, `a3` is the output of hidden layer 2, `a4` is the output of the final layer.\n",
        "\n",
        "`z` for linear data: `z1` is the input data, `z2` is the linear output of hidden layer 1 *before its activation function*, `z3` is the linear output of hidden layer 2 *before its activation function*, `z4` is the linear output of the final layer *before its activation function*.\n",
        "\n",
        "In analogy with our `ml_dense_pruned` notebook, $\\hat{y}$ is the output of the network while $y$ is the label, $z$ is the output of hidden layer 2, $r$ is the output of hidden layer 1, and $x$ is the input. In code, $z = $ `self.layer2` is the output of hidden layer 2, and $r = $ `self.layer1` is the output of hidden layer 1. \n",
        "\n",
        "$\\sigma'(W^3 z) = $ `sigmoid_derivative_3`.\n",
        "\n",
        "$\\sigma'(W^2 r) = $ `sigmoid_derivative_2`.\n",
        "\n",
        "$\\sigma'(W^1 z) = $ `sigmoid_derivative_1`."
      ],
      "id": "d5b13611"
    },
    {
      "cell_type": "markdown",
      "metadata": {
        "id": "be91ded8"
      },
      "source": [
        "Here's our activation function and its derivative:"
      ],
      "id": "be91ded8"
    },
    {
      "cell_type": "code",
      "execution_count": 32,
      "metadata": {
        "id": "d8909706"
      },
      "outputs": [],
      "source": [
        "def sigmoid(x):\n",
        "    try:\n",
        "        x = np.vectorize(round)(x)\n",
        "        return 1.0/(1+ np.exp(-x))\n",
        "    except:\n",
        "        print(x)\n",
        "        print(np.exp(-x))\n",
        "        return 1.0/(1+ np.exp(-x))"
      ],
      "id": "d8909706"
    },
    {
      "cell_type": "code",
      "execution_count": 33,
      "metadata": {
        "id": "4922d8ef"
      },
      "outputs": [],
      "source": [
        "def sigmoid_derivative(x):\n",
        "    return sigmoid(x) * (1.0 - sigmoid(x))"
      ],
      "id": "4922d8ef"
    },
    {
      "cell_type": "markdown",
      "metadata": {
        "id": "d9fafd30"
      },
      "source": [
        "Backpropagation pass:"
      ],
      "id": "d9fafd30"
    },
    {
      "cell_type": "code",
      "execution_count": 34,
      "metadata": {
        "id": "dcefef0f"
      },
      "outputs": [],
      "source": [
        "def compute_backward_pass_fullmath(outputs, label, verbose=False):\n",
        "    a1, z2, a2, z3, a3, z4, a4 = outputs\n",
        "\n",
        "    #\n",
        "    # LAST LAYER\n",
        "    #\n",
        "    \n",
        "    # from ml-dense-pruned:\n",
        "    # sigmoid_derivative_3 = sigmoid_derivative(np.dot(self.layer2, self.weights3)) # s'(W3 z) derivative of final layer output\n",
        "    # d_weights3 = np.dot(self.layer2.T, \n",
        "    #                        (2*(self.y - self.output) * sigmoid_derivative_3))\n",
        "    sigmoid_derivative_3 = sigmoid_derivative(np.dot(a3, w3)) # s'(W3 z) derivative of final layer output [50, 10]\n",
        "    if verbose: print(\"sigmoid_derivative_3:\", sigmoid_derivative_3.shape, \"should be [50, 10]\")\n",
        "    d_weights3 = np.dot(a3.T, \n",
        "                           (2 * (label - a4) * sigmoid_derivative_3)) # [50, 100].T * [50, 10]\n",
        "    if verbose: print(\"d_weights3:\", d_weights3.shape, \"should be [100, 10]\")\n",
        "    \n",
        "    \n",
        "    # \n",
        "    # 2ND HIDDEN LAYER\n",
        "    #\n",
        "\n",
        "    # from ml-dense-pruned:\n",
        "    # sigmoid_derivative_2 = sigmoid_derivative(np.dot(self.layer1, self.weights2)) # s'(r W2) derivative of hidden layer 2 out\n",
        "    # d_weights2 = np.dot(self.layer1.T,  \n",
        "    #                        np.dot(2*(self.y - self.output) * sigmoid_derivative_3, self.weights3.T) * \n",
        "    #                        sigmoid_derivative_2)\n",
        "    sigmoid_derivative_2 = sigmoid_derivative(np.dot(a2, w2)) # s'(r W2) derivative of hidden layer 2 out\n",
        "    if verbose: print(\"sigmoid_derivative_2:\", sigmoid_derivative_2.shape, \"should be [50, 100]\")\n",
        "    d_weights2 = np.dot(a2.T,  \n",
        "                        np.dot((2 * (label - a4) * sigmoid_derivative_3), w3.T) * \n",
        "                        sigmoid_derivative_2) # [50, 100].T * ([50, 10] * [100, 10].T)[50, 100] = [50, 100].T * [50, 100] \n",
        "                                                                                                # = [100, 100]\n",
        "    if verbose: print(\"d_weights2:\", d_weights2.shape, \"should be [100, 100]\")\n",
        "    \n",
        "    \n",
        "    # \n",
        "    # 1ST HIDDEN LAYER\n",
        "    #\n",
        "    \n",
        "    # from ml-dense-pruned:\n",
        "    # sigmoid_derivative_1 = sigmoid_derivative(np.dot(self.input, self.weights1))  # s'(x W1) derivative of hidden layer 1 out\n",
        "    # d_weights1 = np.dot(self.input.T,  \n",
        "    #                        np.dot(\n",
        "    #                            np.dot(2*(self.y - self.output) * sigmoid_derivative_3, self.weights3.T) *\n",
        "    #                                sigmoid_derivative_2, self.weights2.T) *   \n",
        "    #                        sigmoid_derivative_1)\n",
        "    sigmoid_derivative_1 = sigmoid_derivative(np.dot(a1, w1))  # s'(x W1) derivative of hidden layer 1 out [50, 100]\n",
        "    if verbose: print(\"sigmoid_derivative_1:\", sigmoid_derivative_1.shape, \"should be [50, 100]\")\n",
        "    d_weights1 = np.dot(a1.T,  \n",
        "                           np.dot(\n",
        "                               np.dot((2 * (label - a4) * sigmoid_derivative_3), w3.T) *\n",
        "                                   sigmoid_derivative_2, w2.T) *   \n",
        "                           sigmoid_derivative_1) # [50, 784].T * (([50, 100] * [100, 100].T) . [50, 100]) * [100, 100].T)\n",
        "                                                # = [50, 784].T * [50, 100] * [100, 100].T\n",
        "                                                # = [50, 784].T * [50, 100].T\n",
        "                                                # = [784, 100]\n",
        "    if verbose: print(\"d_weights1:\", d_weights1.shape, \"should be [784, 100]\")\n",
        "\n",
        "    return d_weights1, d_weights2, d_weights3"
      ],
      "id": "dcefef0f"
    },
    {
      "cell_type": "markdown",
      "metadata": {
        "id": "98f47361"
      },
      "source": [
        "Predict from the output of 10 neurons, representing the digit predicted in a one-hot encoded fashion:"
      ],
      "id": "98f47361"
    },
    {
      "cell_type": "code",
      "execution_count": 35,
      "metadata": {
        "id": "6554a432"
      },
      "outputs": [],
      "source": [
        "def predict(a4):\n",
        "    prediction = np.argmax(a4, axis=1)\n",
        "    return prediction"
      ],
      "id": "6554a432"
    },
    {
      "cell_type": "markdown",
      "metadata": {
        "id": "6ae0a046"
      },
      "source": [
        "The training dataset:"
      ],
      "id": "6ae0a046"
    },
    {
      "cell_type": "code",
      "execution_count": 36,
      "metadata": {
        "colab": {
          "base_uri": "https://localhost:8080/"
        },
        "id": "6c8e29c6",
        "outputId": "a91a9d57-bced-4ae7-bd4c-3db473423b82"
      },
      "outputs": [
        {
          "output_type": "execute_result",
          "data": {
            "text/plain": [
              "((1200, 50, 784), (1200, 50))"
            ]
          },
          "metadata": {},
          "execution_count": 36
        }
      ],
      "source": [
        "X_train.shape, y_train.shape"
      ],
      "id": "6c8e29c6"
    },
    {
      "cell_type": "code",
      "execution_count": 37,
      "metadata": {
        "colab": {
          "base_uri": "https://localhost:8080/"
        },
        "id": "1cbdd927",
        "outputId": "a374a78d-b83b-4a0c-c5e1-2ae5321810fc"
      },
      "outputs": [
        {
          "output_type": "execute_result",
          "data": {
            "text/plain": [
              "array([[0., 0., 0., ..., 0., 0., 0.],\n",
              "       [0., 0., 0., ..., 0., 0., 0.],\n",
              "       [0., 0., 0., ..., 0., 0., 0.],\n",
              "       ...,\n",
              "       [0., 0., 0., ..., 0., 0., 0.],\n",
              "       [0., 0., 0., ..., 0., 0., 0.],\n",
              "       [0., 0., 0., ..., 0., 0., 0.]])"
            ]
          },
          "metadata": {},
          "execution_count": 37
        }
      ],
      "source": [
        "X_train[:, 0, ]"
      ],
      "id": "1cbdd927"
    },
    {
      "cell_type": "code",
      "execution_count": 38,
      "metadata": {
        "colab": {
          "base_uri": "https://localhost:8080/"
        },
        "id": "0ac3ac47",
        "outputId": "09ae04c5-38e2-458f-cb0d-4de1831acfe2"
      },
      "outputs": [
        {
          "output_type": "execute_result",
          "data": {
            "text/plain": [
              "True"
            ]
          },
          "metadata": {},
          "execution_count": 38
        }
      ],
      "source": [
        "np.any(X_train)"
      ],
      "id": "0ac3ac47"
    },
    {
      "cell_type": "code",
      "execution_count": 39,
      "metadata": {
        "colab": {
          "base_uri": "https://localhost:8080/"
        },
        "id": "f3a2472d",
        "outputId": "65861ca0-c6bf-4116-e40e-68092ba73a4f"
      },
      "outputs": [
        {
          "output_type": "execute_result",
          "data": {
            "text/plain": [
              "array([[5, 0, 4, ..., 5, 9, 3],\n",
              "       [3, 0, 7, ..., 8, 3, 1],\n",
              "       [5, 7, 1, ..., 6, 7, 3],\n",
              "       ...,\n",
              "       [5, 7, 4, ..., 2, 0, 9],\n",
              "       [4, 0, 1, ..., 5, 9, 8],\n",
              "       [8, 4, 0, ..., 5, 6, 8]], dtype=uint8)"
            ]
          },
          "metadata": {},
          "execution_count": 39
        }
      ],
      "source": [
        "y_train"
      ],
      "id": "f3a2472d"
    },
    {
      "cell_type": "markdown",
      "metadata": {
        "id": "d9b453d7"
      },
      "source": [
        "This is how to iterate over the training dataset:"
      ],
      "id": "d9b453d7"
    },
    {
      "cell_type": "markdown",
      "metadata": {
        "id": "c3771b5f"
      },
      "source": [
        "Let's debug *one batch* of one epoch:"
      ],
      "id": "c3771b5f"
    },
    {
      "cell_type": "markdown",
      "metadata": {
        "id": "ff18391e"
      },
      "source": [
        "## Set the hyperparameter learning rate = 0.01, epoch = 100:"
      ],
      "id": "ff18391e"
    },
    {
      "cell_type": "code",
      "execution_count": 40,
      "metadata": {
        "id": "6812d622"
      },
      "outputs": [],
      "source": [
        "eta=0.01\n",
        "alpha=0.01\n",
        "batch_size=50\n",
        "n_iter = 100"
      ],
      "id": "6812d622"
    },
    {
      "cell_type": "code",
      "execution_count": null,
      "metadata": {
        "colab": {
          "background_save": true,
          "base_uri": "https://localhost:8080/"
        },
        "id": "28e50593",
        "outputId": "f89d5fd5-8121-4670-8fc3-78dd51bb2c04"
      },
      "outputs": [
        {
          "name": "stderr",
          "output_type": "stream",
          "text": [
            "  1%|          | 1/100 [00:26<44:25, 26.92s/it]"
          ]
        },
        {
          "name": "stdout",
          "output_type": "stream",
          "text": [
            "epoch  0 loss 207.64 training accuracy 0.49\n"
          ]
        },
        {
          "name": "stderr",
          "output_type": "stream",
          "text": [
            "\r  2%|▏         | 2/100 [00:43<34:01, 20.83s/it]"
          ]
        },
        {
          "name": "stdout",
          "output_type": "stream",
          "text": [
            "epoch  1 loss 159.16 training accuracy 0.62\n"
          ]
        },
        {
          "name": "stderr",
          "output_type": "stream",
          "text": [
            "\r  3%|▎         | 3/100 [00:59<30:21, 18.78s/it]"
          ]
        },
        {
          "name": "stdout",
          "output_type": "stream",
          "text": [
            "epoch  2 loss 139.03 training accuracy 0.67\n"
          ]
        },
        {
          "name": "stderr",
          "output_type": "stream",
          "text": [
            "\r  4%|▍         | 4/100 [01:16<28:24, 17.75s/it]"
          ]
        },
        {
          "name": "stdout",
          "output_type": "stream",
          "text": [
            "epoch  3 loss 127.70 training accuracy 0.71\n"
          ]
        },
        {
          "name": "stderr",
          "output_type": "stream",
          "text": [
            "\r  5%|▌         | 5/100 [01:34<28:15, 17.85s/it]"
          ]
        },
        {
          "name": "stdout",
          "output_type": "stream",
          "text": [
            "epoch  4 loss 120.33 training accuracy 0.73\n"
          ]
        },
        {
          "name": "stderr",
          "output_type": "stream",
          "text": [
            "\r  6%|▌         | 6/100 [01:51<27:39, 17.66s/it]"
          ]
        },
        {
          "name": "stdout",
          "output_type": "stream",
          "text": [
            "epoch  5 loss 115.04 training accuracy 0.75\n"
          ]
        },
        {
          "name": "stderr",
          "output_type": "stream",
          "text": [
            "\r  7%|▋         | 7/100 [02:07<26:44, 17.25s/it]"
          ]
        },
        {
          "name": "stdout",
          "output_type": "stream",
          "text": [
            "epoch  6 loss 110.98 training accuracy 0.76\n"
          ]
        },
        {
          "name": "stderr",
          "output_type": "stream",
          "text": [
            "\r  8%|▊         | 8/100 [02:24<25:58, 16.95s/it]"
          ]
        },
        {
          "name": "stdout",
          "output_type": "stream",
          "text": [
            "epoch  7 loss 107.69 training accuracy 0.77\n"
          ]
        },
        {
          "name": "stderr",
          "output_type": "stream",
          "text": [
            "\r  9%|▉         | 9/100 [02:40<25:28, 16.79s/it]"
          ]
        },
        {
          "name": "stdout",
          "output_type": "stream",
          "text": [
            "epoch  8 loss 104.94 training accuracy 0.78\n"
          ]
        },
        {
          "name": "stderr",
          "output_type": "stream",
          "text": [
            "\r 10%|█         | 10/100 [02:56<24:58, 16.65s/it]"
          ]
        },
        {
          "name": "stdout",
          "output_type": "stream",
          "text": [
            "epoch  9 loss 102.54 training accuracy 0.78\n"
          ]
        },
        {
          "name": "stderr",
          "output_type": "stream",
          "text": [
            "\r 11%|█         | 11/100 [03:13<24:32, 16.55s/it]"
          ]
        },
        {
          "name": "stdout",
          "output_type": "stream",
          "text": [
            "epoch  10 loss 100.32 training accuracy 0.79\n"
          ]
        },
        {
          "name": "stderr",
          "output_type": "stream",
          "text": [
            "\r 12%|█▏        | 12/100 [03:28<23:46, 16.21s/it]"
          ]
        },
        {
          "name": "stdout",
          "output_type": "stream",
          "text": [
            "epoch  11 loss 98.10 training accuracy 0.79\n"
          ]
        },
        {
          "name": "stderr",
          "output_type": "stream",
          "text": [
            "\r 13%|█▎        | 13/100 [03:44<23:12, 16.01s/it]"
          ]
        },
        {
          "name": "stdout",
          "output_type": "stream",
          "text": [
            "epoch  12 loss 94.45 training accuracy 0.80\n"
          ]
        },
        {
          "name": "stderr",
          "output_type": "stream",
          "text": [
            "\r 14%|█▍        | 14/100 [04:00<23:19, 16.27s/it]"
          ]
        },
        {
          "name": "stdout",
          "output_type": "stream",
          "text": [
            "epoch  13 loss 89.35 training accuracy 0.81\n"
          ]
        },
        {
          "name": "stderr",
          "output_type": "stream",
          "text": [
            "\r 15%|█▌        | 15/100 [04:16<22:52, 16.15s/it]"
          ]
        },
        {
          "name": "stdout",
          "output_type": "stream",
          "text": [
            "epoch  14 loss 84.83 training accuracy 0.82\n"
          ]
        },
        {
          "name": "stderr",
          "output_type": "stream",
          "text": [
            "\r 16%|█▌        | 16/100 [04:32<22:16, 15.91s/it]"
          ]
        },
        {
          "name": "stdout",
          "output_type": "stream",
          "text": [
            "epoch  15 loss 80.82 training accuracy 0.83\n"
          ]
        },
        {
          "name": "stderr",
          "output_type": "stream",
          "text": [
            "\r 17%|█▋        | 17/100 [04:47<21:50, 15.79s/it]"
          ]
        },
        {
          "name": "stdout",
          "output_type": "stream",
          "text": [
            "epoch  16 loss 77.24 training accuracy 0.83\n"
          ]
        },
        {
          "name": "stderr",
          "output_type": "stream",
          "text": [
            "\r 18%|█▊        | 18/100 [05:04<21:50, 15.98s/it]"
          ]
        },
        {
          "name": "stdout",
          "output_type": "stream",
          "text": [
            "epoch  17 loss 74.02 training accuracy 0.84\n"
          ]
        },
        {
          "name": "stderr",
          "output_type": "stream",
          "text": [
            "\r 19%|█▉        | 19/100 [05:20<21:53, 16.22s/it]"
          ]
        },
        {
          "name": "stdout",
          "output_type": "stream",
          "text": [
            "epoch  18 loss 71.11 training accuracy 0.85\n"
          ]
        },
        {
          "name": "stderr",
          "output_type": "stream",
          "text": [
            "\r 20%|██        | 20/100 [05:36<21:13, 15.92s/it]"
          ]
        },
        {
          "name": "stdout",
          "output_type": "stream",
          "text": [
            "epoch  19 loss 68.46 training accuracy 0.85\n"
          ]
        },
        {
          "name": "stderr",
          "output_type": "stream",
          "text": [
            "\r 21%|██        | 21/100 [05:52<21:15, 16.14s/it]"
          ]
        },
        {
          "name": "stdout",
          "output_type": "stream",
          "text": [
            "epoch  20 loss 66.05 training accuracy 0.86\n"
          ]
        },
        {
          "name": "stderr",
          "output_type": "stream",
          "text": [
            "\r 22%|██▏       | 22/100 [06:08<20:57, 16.13s/it]"
          ]
        },
        {
          "name": "stdout",
          "output_type": "stream",
          "text": [
            "epoch  21 loss 63.84 training accuracy 0.86\n"
          ]
        },
        {
          "name": "stderr",
          "output_type": "stream",
          "text": [
            "\r 23%|██▎       | 23/100 [06:24<20:25, 15.92s/it]"
          ]
        },
        {
          "name": "stdout",
          "output_type": "stream",
          "text": [
            "epoch  22 loss 61.80 training accuracy 0.87\n"
          ]
        },
        {
          "name": "stderr",
          "output_type": "stream",
          "text": [
            "\r 24%|██▍       | 24/100 [06:39<19:55, 15.74s/it]"
          ]
        },
        {
          "name": "stdout",
          "output_type": "stream",
          "text": [
            "epoch  23 loss 59.92 training accuracy 0.87\n"
          ]
        },
        {
          "name": "stderr",
          "output_type": "stream",
          "text": [
            "\r 25%|██▌       | 25/100 [06:55<19:32, 15.64s/it]"
          ]
        },
        {
          "name": "stdout",
          "output_type": "stream",
          "text": [
            "epoch  24 loss 58.17 training accuracy 0.87\n"
          ]
        },
        {
          "name": "stderr",
          "output_type": "stream",
          "text": [
            "\r 26%|██▌       | 26/100 [07:10<19:18, 15.65s/it]"
          ]
        },
        {
          "name": "stdout",
          "output_type": "stream",
          "text": [
            "epoch  25 loss 56.55 training accuracy 0.88\n"
          ]
        },
        {
          "name": "stderr",
          "output_type": "stream",
          "text": [
            "\r 27%|██▋       | 27/100 [07:26<18:58, 15.60s/it]"
          ]
        },
        {
          "name": "stdout",
          "output_type": "stream",
          "text": [
            "epoch  26 loss 55.04 training accuracy 0.88\n"
          ]
        },
        {
          "name": "stderr",
          "output_type": "stream",
          "text": [
            "\r 28%|██▊       | 28/100 [07:41<18:38, 15.54s/it]"
          ]
        },
        {
          "name": "stdout",
          "output_type": "stream",
          "text": [
            "epoch  27 loss 53.62 training accuracy 0.88\n"
          ]
        },
        {
          "name": "stderr",
          "output_type": "stream",
          "text": [
            "\r 29%|██▉       | 29/100 [07:57<18:38, 15.76s/it]"
          ]
        },
        {
          "name": "stdout",
          "output_type": "stream",
          "text": [
            "epoch  28 loss 52.30 training accuracy 0.89\n"
          ]
        },
        {
          "name": "stderr",
          "output_type": "stream",
          "text": [
            "\r 30%|███       | 30/100 [08:14<18:35, 15.94s/it]"
          ]
        },
        {
          "name": "stdout",
          "output_type": "stream",
          "text": [
            "epoch  29 loss 51.05 training accuracy 0.89\n"
          ]
        },
        {
          "name": "stderr",
          "output_type": "stream",
          "text": [
            "\r 31%|███       | 31/100 [08:29<18:02, 15.69s/it]"
          ]
        },
        {
          "name": "stdout",
          "output_type": "stream",
          "text": [
            "epoch  30 loss 49.88 training accuracy 0.89\n"
          ]
        },
        {
          "name": "stderr",
          "output_type": "stream",
          "text": [
            "\r 32%|███▏      | 32/100 [08:44<17:36, 15.54s/it]"
          ]
        },
        {
          "name": "stdout",
          "output_type": "stream",
          "text": [
            "epoch  31 loss 48.77 training accuracy 0.89\n"
          ]
        },
        {
          "name": "stderr",
          "output_type": "stream",
          "text": [
            "\r 33%|███▎      | 33/100 [08:59<17:15, 15.45s/it]"
          ]
        },
        {
          "name": "stdout",
          "output_type": "stream",
          "text": [
            "epoch  32 loss 47.73 training accuracy 0.90\n"
          ]
        },
        {
          "name": "stderr",
          "output_type": "stream",
          "text": [
            "\r 34%|███▍      | 34/100 [09:15<16:56, 15.40s/it]"
          ]
        },
        {
          "name": "stdout",
          "output_type": "stream",
          "text": [
            "epoch  33 loss 46.74 training accuracy 0.90\n"
          ]
        },
        {
          "name": "stderr",
          "output_type": "stream",
          "text": [
            "\r 35%|███▌      | 35/100 [09:30<16:44, 15.45s/it]"
          ]
        },
        {
          "name": "stdout",
          "output_type": "stream",
          "text": [
            "epoch  34 loss 45.80 training accuracy 0.90\n"
          ]
        },
        {
          "name": "stderr",
          "output_type": "stream",
          "text": [
            "\r 36%|███▌      | 36/100 [09:45<16:24, 15.39s/it]"
          ]
        },
        {
          "name": "stdout",
          "output_type": "stream",
          "text": [
            "epoch  35 loss 44.91 training accuracy 0.90\n"
          ]
        },
        {
          "name": "stderr",
          "output_type": "stream",
          "text": [
            "\r 37%|███▋      | 37/100 [10:01<16:14, 15.47s/it]"
          ]
        },
        {
          "name": "stdout",
          "output_type": "stream",
          "text": [
            "epoch  36 loss 44.06 training accuracy 0.90\n"
          ]
        },
        {
          "name": "stderr",
          "output_type": "stream",
          "text": [
            "\r 38%|███▊      | 38/100 [10:18<16:23, 15.86s/it]"
          ]
        },
        {
          "name": "stdout",
          "output_type": "stream",
          "text": [
            "epoch  37 loss 43.26 training accuracy 0.91\n"
          ]
        },
        {
          "name": "stderr",
          "output_type": "stream",
          "text": [
            "\r 39%|███▉      | 39/100 [10:34<16:20, 16.07s/it]"
          ]
        },
        {
          "name": "stdout",
          "output_type": "stream",
          "text": [
            "epoch  38 loss 42.49 training accuracy 0.91\n"
          ]
        },
        {
          "name": "stderr",
          "output_type": "stream",
          "text": [
            "\r 40%|████      | 40/100 [10:50<15:52, 15.88s/it]"
          ]
        },
        {
          "name": "stdout",
          "output_type": "stream",
          "text": [
            "epoch  39 loss 41.75 training accuracy 0.91\n"
          ]
        },
        {
          "name": "stderr",
          "output_type": "stream",
          "text": [
            "\r 41%|████      | 41/100 [11:05<15:26, 15.71s/it]"
          ]
        },
        {
          "name": "stdout",
          "output_type": "stream",
          "text": [
            "epoch  40 loss 41.05 training accuracy 0.91\n"
          ]
        },
        {
          "name": "stderr",
          "output_type": "stream",
          "text": [
            "\r 42%|████▏     | 42/100 [11:20<15:03, 15.57s/it]"
          ]
        },
        {
          "name": "stdout",
          "output_type": "stream",
          "text": [
            "epoch  41 loss 40.38 training accuracy 0.91\n"
          ]
        },
        {
          "name": "stderr",
          "output_type": "stream",
          "text": [
            "\r 43%|████▎     | 43/100 [11:36<14:42, 15.49s/it]"
          ]
        },
        {
          "name": "stdout",
          "output_type": "stream",
          "text": [
            "epoch  42 loss 39.74 training accuracy 0.91\n"
          ]
        },
        {
          "name": "stderr",
          "output_type": "stream",
          "text": [
            "\r 44%|████▍     | 44/100 [11:51<14:22, 15.40s/it]"
          ]
        },
        {
          "name": "stdout",
          "output_type": "stream",
          "text": [
            "epoch  43 loss 39.12 training accuracy 0.91\n"
          ]
        },
        {
          "name": "stderr",
          "output_type": "stream",
          "text": [
            "\r 45%|████▌     | 45/100 [12:06<14:06, 15.39s/it]"
          ]
        },
        {
          "name": "stdout",
          "output_type": "stream",
          "text": [
            "epoch  44 loss 38.53 training accuracy 0.92\n"
          ]
        },
        {
          "name": "stderr",
          "output_type": "stream",
          "text": [
            "\r 46%|████▌     | 46/100 [12:21<13:49, 15.36s/it]"
          ]
        },
        {
          "name": "stdout",
          "output_type": "stream",
          "text": [
            "epoch  45 loss 37.96 training accuracy 0.92\n"
          ]
        },
        {
          "name": "stderr",
          "output_type": "stream",
          "text": [
            "\r 47%|████▋     | 47/100 [12:39<14:08, 16.01s/it]"
          ]
        },
        {
          "name": "stdout",
          "output_type": "stream",
          "text": [
            "epoch  46 loss 37.41 training accuracy 0.92\n"
          ]
        },
        {
          "name": "stderr",
          "output_type": "stream",
          "text": [
            "\r 48%|████▊     | 48/100 [12:55<13:58, 16.12s/it]"
          ]
        },
        {
          "name": "stdout",
          "output_type": "stream",
          "text": [
            "epoch  47 loss 36.89 training accuracy 0.92\n"
          ]
        },
        {
          "name": "stderr",
          "output_type": "stream",
          "text": [
            "\r 49%|████▉     | 49/100 [13:11<13:37, 16.03s/it]"
          ]
        },
        {
          "name": "stdout",
          "output_type": "stream",
          "text": [
            "epoch  48 loss 36.38 training accuracy 0.92\n"
          ]
        },
        {
          "name": "stderr",
          "output_type": "stream",
          "text": [
            "\r 50%|█████     | 50/100 [13:27<13:19, 15.99s/it]"
          ]
        },
        {
          "name": "stdout",
          "output_type": "stream",
          "text": [
            "epoch  49 loss 35.89 training accuracy 0.92\n"
          ]
        },
        {
          "name": "stderr",
          "output_type": "stream",
          "text": [
            "\r 51%|█████     | 51/100 [13:43<12:59, 15.91s/it]"
          ]
        },
        {
          "name": "stdout",
          "output_type": "stream",
          "text": [
            "epoch  50 loss 35.42 training accuracy 0.92\n"
          ]
        },
        {
          "name": "stderr",
          "output_type": "stream",
          "text": [
            "\r 52%|█████▏    | 52/100 [13:58<12:37, 15.79s/it]"
          ]
        },
        {
          "name": "stdout",
          "output_type": "stream",
          "text": [
            "epoch  51 loss 34.97 training accuracy 0.92\n"
          ]
        },
        {
          "name": "stderr",
          "output_type": "stream",
          "text": [
            "\r 53%|█████▎    | 53/100 [14:14<12:19, 15.73s/it]"
          ]
        },
        {
          "name": "stdout",
          "output_type": "stream",
          "text": [
            "epoch  52 loss 34.53 training accuracy 0.92\n"
          ]
        },
        {
          "name": "stderr",
          "output_type": "stream",
          "text": [
            "\r 54%|█████▍    | 54/100 [14:30<12:08, 15.84s/it]"
          ]
        },
        {
          "name": "stdout",
          "output_type": "stream",
          "text": [
            "epoch  53 loss 34.10 training accuracy 0.93\n"
          ]
        },
        {
          "name": "stderr",
          "output_type": "stream",
          "text": [
            "\r 55%|█████▌    | 55/100 [14:47<12:08, 16.18s/it]"
          ]
        },
        {
          "name": "stdout",
          "output_type": "stream",
          "text": [
            "epoch  54 loss 33.69 training accuracy 0.93\n"
          ]
        },
        {
          "name": "stderr",
          "output_type": "stream",
          "text": [
            "\r 56%|█████▌    | 56/100 [15:02<11:41, 15.94s/it]"
          ]
        },
        {
          "name": "stdout",
          "output_type": "stream",
          "text": [
            "epoch  55 loss 33.29 training accuracy 0.93\n"
          ]
        },
        {
          "name": "stderr",
          "output_type": "stream",
          "text": [
            "\r 57%|█████▋    | 57/100 [15:18<11:20, 15.83s/it]"
          ]
        },
        {
          "name": "stdout",
          "output_type": "stream",
          "text": [
            "epoch  56 loss 32.91 training accuracy 0.93\n"
          ]
        },
        {
          "name": "stderr",
          "output_type": "stream",
          "text": [
            "\r 58%|█████▊    | 58/100 [15:34<11:04, 15.83s/it]"
          ]
        },
        {
          "name": "stdout",
          "output_type": "stream",
          "text": [
            "epoch  57 loss 32.53 training accuracy 0.93\n"
          ]
        },
        {
          "name": "stderr",
          "output_type": "stream",
          "text": [
            "\r 59%|█████▉    | 59/100 [15:50<10:49, 15.84s/it]"
          ]
        },
        {
          "name": "stdout",
          "output_type": "stream",
          "text": [
            "epoch  58 loss 32.17 training accuracy 0.93\n"
          ]
        },
        {
          "name": "stderr",
          "output_type": "stream",
          "text": [
            "\r 60%|██████    | 60/100 [16:05<10:32, 15.80s/it]"
          ]
        },
        {
          "name": "stdout",
          "output_type": "stream",
          "text": [
            "epoch  59 loss 31.82 training accuracy 0.93\n"
          ]
        },
        {
          "name": "stderr",
          "output_type": "stream",
          "text": [
            "\r 61%|██████    | 61/100 [16:22<10:20, 15.92s/it]"
          ]
        },
        {
          "name": "stdout",
          "output_type": "stream",
          "text": [
            "epoch  60 loss 31.48 training accuracy 0.93\n"
          ]
        },
        {
          "name": "stderr",
          "output_type": "stream",
          "text": [
            "\r 62%|██████▏   | 62/100 [16:39<10:26, 16.49s/it]"
          ]
        },
        {
          "name": "stdout",
          "output_type": "stream",
          "text": [
            "epoch  61 loss 31.15 training accuracy 0.93\n"
          ]
        },
        {
          "name": "stderr",
          "output_type": "stream",
          "text": [
            "\r 63%|██████▎   | 63/100 [16:55<10:02, 16.28s/it]"
          ]
        },
        {
          "name": "stdout",
          "output_type": "stream",
          "text": [
            "epoch  62 loss 30.83 training accuracy 0.93\n"
          ]
        },
        {
          "name": "stderr",
          "output_type": "stream",
          "text": [
            "\r 64%|██████▍   | 64/100 [17:11<09:37, 16.05s/it]"
          ]
        },
        {
          "name": "stdout",
          "output_type": "stream",
          "text": [
            "epoch  63 loss 30.51 training accuracy 0.93\n"
          ]
        },
        {
          "name": "stderr",
          "output_type": "stream",
          "text": [
            "\r 65%|██████▌   | 65/100 [17:26<09:18, 15.95s/it]"
          ]
        },
        {
          "name": "stdout",
          "output_type": "stream",
          "text": [
            "epoch  64 loss 30.21 training accuracy 0.93\n"
          ]
        },
        {
          "name": "stderr",
          "output_type": "stream",
          "text": [
            "\r 66%|██████▌   | 66/100 [17:42<08:59, 15.85s/it]"
          ]
        },
        {
          "name": "stdout",
          "output_type": "stream",
          "text": [
            "epoch  65 loss 29.91 training accuracy 0.93\n"
          ]
        },
        {
          "name": "stderr",
          "output_type": "stream",
          "text": [
            "\r 67%|██████▋   | 67/100 [17:57<08:38, 15.71s/it]"
          ]
        },
        {
          "name": "stdout",
          "output_type": "stream",
          "text": [
            "epoch  66 loss 29.62 training accuracy 0.94\n"
          ]
        },
        {
          "name": "stderr",
          "output_type": "stream",
          "text": [
            "\r 68%|██████▊   | 68/100 [18:13<08:21, 15.67s/it]"
          ]
        },
        {
          "name": "stdout",
          "output_type": "stream",
          "text": [
            "epoch  67 loss 29.34 training accuracy 0.94\n"
          ]
        },
        {
          "name": "stderr",
          "output_type": "stream",
          "text": [
            "\r 69%|██████▉   | 69/100 [18:30<08:16, 16.00s/it]"
          ]
        },
        {
          "name": "stdout",
          "output_type": "stream",
          "text": [
            "epoch  68 loss 29.07 training accuracy 0.94\n"
          ]
        },
        {
          "name": "stderr",
          "output_type": "stream",
          "text": [
            "\r 70%|███████   | 70/100 [18:46<08:03, 16.10s/it]"
          ]
        },
        {
          "name": "stdout",
          "output_type": "stream",
          "text": [
            "epoch  69 loss 28.80 training accuracy 0.94\n"
          ]
        },
        {
          "name": "stderr",
          "output_type": "stream",
          "text": [
            "\r 71%|███████   | 71/100 [19:01<07:40, 15.89s/it]"
          ]
        },
        {
          "name": "stdout",
          "output_type": "stream",
          "text": [
            "epoch  70 loss 28.54 training accuracy 0.94\n"
          ]
        },
        {
          "name": "stderr",
          "output_type": "stream",
          "text": [
            "\r 72%|███████▏  | 72/100 [19:17<07:22, 15.81s/it]"
          ]
        },
        {
          "name": "stdout",
          "output_type": "stream",
          "text": [
            "epoch  71 loss 28.29 training accuracy 0.94\n"
          ]
        },
        {
          "name": "stderr",
          "output_type": "stream",
          "text": [
            "\r 73%|███████▎  | 73/100 [19:32<07:03, 15.68s/it]"
          ]
        },
        {
          "name": "stdout",
          "output_type": "stream",
          "text": [
            "epoch  72 loss 28.04 training accuracy 0.94\n"
          ]
        },
        {
          "name": "stderr",
          "output_type": "stream",
          "text": [
            "\r 74%|███████▍  | 74/100 [19:48<06:47, 15.67s/it]"
          ]
        },
        {
          "name": "stdout",
          "output_type": "stream",
          "text": [
            "epoch  73 loss 27.80 training accuracy 0.94\n"
          ]
        },
        {
          "name": "stderr",
          "output_type": "stream",
          "text": [
            "\r 75%|███████▌  | 75/100 [20:04<06:31, 15.67s/it]"
          ]
        },
        {
          "name": "stdout",
          "output_type": "stream",
          "text": [
            "epoch  74 loss 27.57 training accuracy 0.94\n"
          ]
        },
        {
          "name": "stderr",
          "output_type": "stream",
          "text": [
            "\r 76%|███████▌  | 76/100 [20:20<06:22, 15.95s/it]"
          ]
        },
        {
          "name": "stdout",
          "output_type": "stream",
          "text": [
            "epoch  75 loss 27.34 training accuracy 0.94\n"
          ]
        },
        {
          "name": "stderr",
          "output_type": "stream",
          "text": [
            "\r 77%|███████▋  | 77/100 [20:38<06:16, 16.35s/it]"
          ]
        },
        {
          "name": "stdout",
          "output_type": "stream",
          "text": [
            "epoch  76 loss 27.11 training accuracy 0.94\n"
          ]
        },
        {
          "name": "stderr",
          "output_type": "stream",
          "text": [
            "\r 78%|███████▊  | 78/100 [20:54<05:58, 16.30s/it]"
          ]
        },
        {
          "name": "stdout",
          "output_type": "stream",
          "text": [
            "epoch  77 loss 26.90 training accuracy 0.94\n"
          ]
        },
        {
          "name": "stderr",
          "output_type": "stream",
          "text": [
            "\r 79%|███████▉  | 79/100 [21:10<05:39, 16.18s/it]"
          ]
        },
        {
          "name": "stdout",
          "output_type": "stream",
          "text": [
            "epoch  78 loss 26.68 training accuracy 0.94\n"
          ]
        },
        {
          "name": "stderr",
          "output_type": "stream",
          "text": [
            "\r 80%|████████  | 80/100 [21:25<05:20, 16.04s/it]"
          ]
        },
        {
          "name": "stdout",
          "output_type": "stream",
          "text": [
            "epoch  79 loss 26.47 training accuracy 0.94\n"
          ]
        },
        {
          "name": "stderr",
          "output_type": "stream",
          "text": [
            "\r 81%|████████  | 81/100 [21:42<05:05, 16.07s/it]"
          ]
        },
        {
          "name": "stdout",
          "output_type": "stream",
          "text": [
            "epoch  80 loss 26.27 training accuracy 0.94\n"
          ]
        },
        {
          "name": "stderr",
          "output_type": "stream",
          "text": [
            "\r 82%|████████▏ | 82/100 [21:58<04:50, 16.13s/it]"
          ]
        },
        {
          "name": "stdout",
          "output_type": "stream",
          "text": [
            "epoch  81 loss 26.07 training accuracy 0.94\n"
          ]
        },
        {
          "name": "stderr",
          "output_type": "stream",
          "text": [
            "\r 83%|████████▎ | 83/100 [22:15<04:40, 16.49s/it]"
          ]
        },
        {
          "name": "stdout",
          "output_type": "stream",
          "text": [
            "epoch  82 loss 25.87 training accuracy 0.94\n"
          ]
        },
        {
          "name": "stderr",
          "output_type": "stream",
          "text": [
            "\r 84%|████████▍ | 84/100 [22:32<04:25, 16.61s/it]"
          ]
        },
        {
          "name": "stdout",
          "output_type": "stream",
          "text": [
            "epoch  83 loss 25.68 training accuracy 0.94\n"
          ]
        },
        {
          "name": "stderr",
          "output_type": "stream",
          "text": [
            "\r 85%|████████▌ | 85/100 [22:48<04:05, 16.34s/it]"
          ]
        },
        {
          "name": "stdout",
          "output_type": "stream",
          "text": [
            "epoch  84 loss 25.49 training accuracy 0.94\n"
          ]
        },
        {
          "name": "stderr",
          "output_type": "stream",
          "text": [
            "\r 86%|████████▌ | 86/100 [23:04<03:48, 16.29s/it]"
          ]
        },
        {
          "name": "stdout",
          "output_type": "stream",
          "text": [
            "epoch  85 loss 25.31 training accuracy 0.95\n"
          ]
        },
        {
          "name": "stderr",
          "output_type": "stream",
          "text": [
            "\r 87%|████████▋ | 87/100 [23:20<03:31, 16.27s/it]"
          ]
        },
        {
          "name": "stdout",
          "output_type": "stream",
          "text": [
            "epoch  86 loss 25.13 training accuracy 0.95\n"
          ]
        },
        {
          "name": "stderr",
          "output_type": "stream",
          "text": [
            "\r 88%|████████▊ | 88/100 [23:37<03:15, 16.32s/it]"
          ]
        },
        {
          "name": "stdout",
          "output_type": "stream",
          "text": [
            "epoch  87 loss 24.95 training accuracy 0.95\n"
          ]
        },
        {
          "name": "stderr",
          "output_type": "stream",
          "text": [
            "\r 89%|████████▉ | 89/100 [23:54<03:02, 16.57s/it]"
          ]
        },
        {
          "name": "stdout",
          "output_type": "stream",
          "text": [
            "epoch  88 loss 24.78 training accuracy 0.95\n"
          ]
        },
        {
          "name": "stderr",
          "output_type": "stream",
          "text": [
            "\r 90%|█████████ | 90/100 [24:12<02:49, 16.95s/it]"
          ]
        },
        {
          "name": "stdout",
          "output_type": "stream",
          "text": [
            "epoch  89 loss 24.61 training accuracy 0.95\n"
          ]
        },
        {
          "name": "stderr",
          "output_type": "stream",
          "text": [
            "\r 91%|█████████ | 91/100 [24:28<02:31, 16.81s/it]"
          ]
        },
        {
          "name": "stdout",
          "output_type": "stream",
          "text": [
            "epoch  90 loss 24.45 training accuracy 0.95\n"
          ]
        },
        {
          "name": "stderr",
          "output_type": "stream",
          "text": [
            "\r 92%|█████████▏| 92/100 [24:45<02:13, 16.70s/it]"
          ]
        },
        {
          "name": "stdout",
          "output_type": "stream",
          "text": [
            "epoch  91 loss 24.28 training accuracy 0.95\n"
          ]
        },
        {
          "name": "stderr",
          "output_type": "stream",
          "text": [
            "\r 93%|█████████▎| 93/100 [25:01<01:55, 16.54s/it]"
          ]
        },
        {
          "name": "stdout",
          "output_type": "stream",
          "text": [
            "epoch  92 loss 24.12 training accuracy 0.95\n"
          ]
        },
        {
          "name": "stderr",
          "output_type": "stream",
          "text": [
            "\r 94%|█████████▍| 94/100 [25:17<01:38, 16.46s/it]"
          ]
        },
        {
          "name": "stdout",
          "output_type": "stream",
          "text": [
            "epoch  93 loss 23.97 training accuracy 0.95\n"
          ]
        },
        {
          "name": "stderr",
          "output_type": "stream",
          "text": [
            "\r 95%|█████████▌| 95/100 [25:34<01:22, 16.52s/it]"
          ]
        },
        {
          "name": "stdout",
          "output_type": "stream",
          "text": [
            "epoch  94 loss 23.81 training accuracy 0.95\n"
          ]
        },
        {
          "name": "stderr",
          "output_type": "stream",
          "text": [
            "\r 96%|█████████▌| 96/100 [25:50<01:06, 16.60s/it]"
          ]
        },
        {
          "name": "stdout",
          "output_type": "stream",
          "text": [
            "epoch  95 loss 23.66 training accuracy 0.95\n"
          ]
        },
        {
          "name": "stderr",
          "output_type": "stream",
          "text": [
            "\r 97%|█████████▋| 97/100 [26:06<00:48, 16.33s/it]"
          ]
        },
        {
          "name": "stdout",
          "output_type": "stream",
          "text": [
            "epoch  96 loss 23.52 training accuracy 0.95\n"
          ]
        },
        {
          "name": "stderr",
          "output_type": "stream",
          "text": [
            "\r 98%|█████████▊| 98/100 [26:22<00:32, 16.23s/it]"
          ]
        },
        {
          "name": "stdout",
          "output_type": "stream",
          "text": [
            "epoch  97 loss 23.37 training accuracy 0.95\n"
          ]
        },
        {
          "name": "stderr",
          "output_type": "stream",
          "text": [
            "\r 99%|█████████▉| 99/100 [26:39<00:16, 16.41s/it]"
          ]
        },
        {
          "name": "stdout",
          "output_type": "stream",
          "text": [
            "epoch  98 loss 23.23 training accuracy 0.95\n"
          ]
        },
        {
          "name": "stderr",
          "output_type": "stream",
          "text": [
            "100%|██████████| 100/100 [26:55<00:00, 16.16s/it]"
          ]
        },
        {
          "name": "stdout",
          "output_type": "stream",
          "text": [
            "epoch  99 loss 23.09 training accuracy 0.95\n"
          ]
        },
        {
          "name": "stderr",
          "output_type": "stream",
          "text": [
            "\n"
          ]
        }
      ],
      "source": [
        "from tqdm import tqdm\n",
        "#epoch loop\n",
        "for i in tqdm(range(n_iter)):\n",
        "    # batch loop\n",
        "    for (input, label) in zip(X_train, y_train):\n",
        "        one_hot_label = one_hot_enc_v2(label, num_labels=10)\n",
        "\n",
        "        a1, z2, a2, z3, a3, z4, a4 = compute_forward_pass(input)\n",
        "        loss = compute_loss(a4, one_hot_label)\n",
        "        grad1, grad2, grad3 = compute_backward_pass_fullmath([a1, z2, a2, z3, a3, z4, a4], one_hot_label)\n",
        "\n",
        "        # multiplicative learning factor\n",
        "        delta_w1, delta_w2, delta_w3 = eta * grad1, eta * grad2, eta * grad3\n",
        "\n",
        "        # additive learning factor\n",
        "        w1 = w1 + delta_w1 + delta_w1_prev * alpha\n",
        "        w2 = w2 + delta_w2 + delta_w2_prev * alpha\n",
        "        w3 = w3 + delta_w3 + delta_w3_prev * alpha\n",
        "\n",
        "        delta_w1_prev, delta_w2_prev, delta_w3_prev = delta_w1, delta_w2, delta_w3\n",
        "\n",
        "        train_losses.append(loss)\n",
        "        predictions = predict(a4)\n",
        "\n",
        "        wrong = np.where(predictions != label, np.matrix([1.]), np.matrix([0.]))\n",
        "        accuracy = 1 - (np.sum(wrong) / batch_size)\n",
        "        train_acc.append(accuracy)\n",
        "\n",
        "    # epoch loss and accuracy (mean of al batches)\n",
        "    print('epoch ', i, 'loss %.2f' % np.mean(np.matrix(train_losses)).item(), \n",
        "          'training accuracy %.2f' % np.mean(np.matrix(train_acc)).item())"
      ],
      "id": "28e50593"
    },
    {
      "cell_type": "markdown",
      "metadata": {
        "id": "b65cc017"
      },
      "source": [
        "The loss keeps *decreasing*, so that is encouraging. We need to run more epochs! We can also play with the learning rates!\n",
        "\n",
        "Verify with the test set:"
      ],
      "id": "b65cc017"
    },
    {
      "cell_type": "code",
      "execution_count": null,
      "metadata": {
        "colab": {
          "background_save": true
        },
        "id": "194cc877",
        "outputId": "fd193def-5932-4f6e-c638-6dc7834498cb"
      },
      "outputs": [
        {
          "data": {
            "text/plain": [
              "array([7, 2, 1, ..., 4, 5, 6], dtype=uint8)"
            ]
          },
          "execution_count": 38,
          "metadata": {},
          "output_type": "execute_result"
        }
      ],
      "source": [
        "y_test"
      ],
      "id": "194cc877"
    },
    {
      "cell_type": "code",
      "execution_count": 53,
      "metadata": {
        "colab": {
          "base_uri": "https://localhost:8080/"
        },
        "id": "d77a8a7f",
        "outputId": "db97b334-8004-4955-c426-435de4143b93"
      },
      "outputs": [
        {
          "output_type": "stream",
          "name": "stdout",
          "text": [
            "[[0. 0. 0. ... 1. 0. 0.]\n",
            " [0. 0. 1. ... 0. 0. 0.]\n",
            " [0. 1. 0. ... 0. 0. 0.]\n",
            " ...\n",
            " [0. 0. 0. ... 0. 0. 0.]\n",
            " [0. 0. 0. ... 0. 0. 0.]\n",
            " [0. 0. 0. ... 0. 0. 0.]]\n"
          ]
        }
      ],
      "source": [
        "y_test_one_hot = np.zeros((y_test.shape[0], 10), dtype=np.float32)\n",
        "\n",
        "for i, val in enumerate(y_test):\n",
        "    y_test_one_hot[i, val] = 1.0\n",
        "    \n",
        "print(y_test_one_hot)"
      ],
      "id": "d77a8a7f"
    },
    {
      "cell_type": "code",
      "execution_count": null,
      "metadata": {
        "colab": {
          "background_save": true
        },
        "id": "b94de6a1",
        "outputId": "c7810fa3-16fa-476b-c268-69090a06f7d2"
      },
      "outputs": [
        {
          "data": {
            "text/plain": [
              "((10000, 784), (10000,), (10000, 10))"
            ]
          },
          "execution_count": 40,
          "metadata": {},
          "output_type": "execute_result"
        }
      ],
      "source": [
        "X_test.shape, y_test.shape, y_test_one_hot.shape"
      ],
      "id": "b94de6a1"
    },
    {
      "cell_type": "markdown",
      "metadata": {
        "id": "880b8ab6"
      },
      "source": [
        "To predict the test dataset, we run one feedforward pass with a batch of size 10,000!"
      ],
      "id": "880b8ab6"
    },
    {
      "cell_type": "code",
      "execution_count": null,
      "metadata": {
        "colab": {
          "background_save": true
        },
        "id": "8a353611",
        "outputId": "147ca3f7-321e-4fb9-dc22-caa354010225"
      },
      "outputs": [
        {
          "name": "stderr",
          "output_type": "stream",
          "text": [
            "<ipython-input-27-a5da05856836>:6: RuntimeWarning: overflow encountered in exp\n",
            "  a2 = 1/(1 + np.exp(-z2))\n"
          ]
        },
        {
          "data": {
            "text/plain": [
              "array([7, 2, 1, ..., 4, 5, 6])"
            ]
          },
          "execution_count": 41,
          "metadata": {},
          "output_type": "execute_result"
        }
      ],
      "source": [
        "a1, z2, a2, z3, a3, z4, a4 = compute_forward_pass(X_test)\n",
        "loss = compute_loss(a4, y_test_one_hot)\n",
        "predictions = predict(a4)\n",
        "predictions"
      ],
      "id": "8a353611"
    },
    {
      "cell_type": "code",
      "execution_count": null,
      "metadata": {
        "colab": {
          "background_save": true
        },
        "id": "cccd1e28",
        "outputId": "dafbb516-e48c-454e-8889-c0fbb260e84b"
      },
      "outputs": [
        {
          "data": {
            "text/plain": [
              "array([7, 2, 1, ..., 4, 5, 6])"
            ]
          },
          "execution_count": 42,
          "metadata": {},
          "output_type": "execute_result"
        }
      ],
      "source": [
        "labels = predict(y_test_one_hot)\n",
        "labels"
      ],
      "id": "cccd1e28"
    },
    {
      "cell_type": "code",
      "execution_count": null,
      "metadata": {
        "colab": {
          "background_save": true
        },
        "id": "62612480",
        "outputId": "0793cb88-c4fa-46dd-dab7-fcbeb0f9651b"
      },
      "outputs": [
        {
          "data": {
            "text/plain": [
              "0.9453"
            ]
          },
          "execution_count": 43,
          "metadata": {},
          "output_type": "execute_result"
        }
      ],
      "source": [
        "wrong = np.where(predictions != labels, np.matrix([1.]), np.matrix([0.]))\n",
        "test_accuracy = 1 - (np.sum(wrong) / 10000)\n",
        "test_accuracy"
      ],
      "id": "62612480"
    },
    {
      "cell_type": "markdown",
      "metadata": {
        "id": "734f2af0"
      },
      "source": [
        "## Set the hyperparameter learning rate = 0.001, epoch = 100:"
      ],
      "id": "734f2af0"
    },
    {
      "cell_type": "code",
      "execution_count": 14,
      "metadata": {
        "id": "5089d364"
      },
      "outputs": [],
      "source": [
        "eta=0.001\n",
        "alpha=0.001\n",
        "batch_size=50\n",
        "n_iter = 100"
      ],
      "id": "5089d364"
    },
    {
      "cell_type": "markdown",
      "metadata": {
        "id": "9e0919f6"
      },
      "source": [
        "### Reinitialize the parameter"
      ],
      "id": "9e0919f6"
    },
    {
      "cell_type": "markdown",
      "metadata": {
        "id": "38fd8d5a"
      },
      "source": [
        "Initialize the number of neurons per layer:"
      ],
      "id": "38fd8d5a"
    },
    {
      "cell_type": "code",
      "execution_count": 41,
      "metadata": {
        "colab": {
          "base_uri": "https://localhost:8080/"
        },
        "id": "295f316a",
        "outputId": "0b8f87fc-16bc-4cdd-ef67-89d020e3f608"
      },
      "outputs": [
        {
          "output_type": "execute_result",
          "data": {
            "text/plain": [
              "784"
            ]
          },
          "metadata": {},
          "execution_count": 41
        }
      ],
      "source": [
        "n_hidden_1, n_hidden_2, n_output = 100, 100, 10\n",
        "n_input = len(X_train[0,0,:]) #returns the flattened image size (28*28 = 784)\n",
        "n_input"
      ],
      "id": "295f316a"
    },
    {
      "cell_type": "markdown",
      "metadata": {
        "id": "be79ec08"
      },
      "source": [
        "Initialize the weight1, weight2, weight3"
      ],
      "id": "be79ec08"
    },
    {
      "cell_type": "code",
      "execution_count": 42,
      "metadata": {
        "id": "c2c913c8"
      },
      "outputs": [],
      "source": [
        "w1, w2, w3 = init_weights(n_input, n_hidden_1, n_hidden_2, n_output, batch_size)"
      ],
      "id": "c2c913c8"
    },
    {
      "cell_type": "markdown",
      "metadata": {
        "id": "de7344eb"
      },
      "source": [
        "Initialize Markovian weight history, losses and accuracy per epoch:"
      ],
      "id": "de7344eb"
    },
    {
      "cell_type": "code",
      "execution_count": 43,
      "metadata": {
        "id": "b62bbdd1"
      },
      "outputs": [],
      "source": [
        "delta_w1_prev = np.zeros(w1.shape)\n",
        "delta_w2_prev = np.zeros(w2.shape)\n",
        "delta_w3_prev = np.zeros(w3.shape)\n",
        "\n",
        "train_losses = []\n",
        "train_acc = []"
      ],
      "id": "b62bbdd1"
    },
    {
      "cell_type": "code",
      "execution_count": null,
      "metadata": {
        "id": "8080f786"
      },
      "outputs": [],
      "source": [
        "from tqdm import tqdm\n",
        "#epoch loop\n",
        "for i in tqdm(range(n_iter)):\n",
        "    # batch loop\n",
        "    for (input, label) in zip(X_train, y_train):\n",
        "        one_hot_label = one_hot_enc_v2(label, num_labels=10)\n",
        "\n",
        "        a1, z2, a2, z3, a3, z4, a4 = compute_forward_pass(input)\n",
        "        loss = compute_loss(a4, one_hot_label)\n",
        "        grad1, grad2, grad3 = compute_backward_pass_fullmath([a1, z2, a2, z3, a3, z4, a4], one_hot_label)\n",
        "\n",
        "        # multiplicative learning factor\n",
        "        delta_w1, delta_w2, delta_w3 = eta * grad1, eta * grad2, eta * grad3\n",
        "\n",
        "        # additive learning factor\n",
        "        w1 = w1 + delta_w1 + delta_w1_prev * alpha\n",
        "        w2 = w2 + delta_w2 + delta_w2_prev * alpha\n",
        "        w3 = w3 + delta_w3 + delta_w3_prev * alpha\n",
        "\n",
        "        delta_w1_prev, delta_w2_prev, delta_w3_prev = delta_w1, delta_w2, delta_w3\n",
        "\n",
        "        train_losses.append(loss)\n",
        "        predictions = predict(a4)\n",
        "\n",
        "        wrong = np.where(predictions != label, np.matrix([1.]), np.matrix([0.]))\n",
        "        accuracy = 1 - (np.sum(wrong) / batch_size)\n",
        "        train_acc.append(accuracy)\n",
        "\n",
        "    # epoch loss and accuracy (mean of al batches)\n",
        "    print('epoch ', i, 'loss %.2f' % np.mean(np.matrix(train_losses)).item(), \n",
        "          'training accuracy %.2f' % np.mean(np.matrix(train_acc)).item())"
      ],
      "id": "8080f786"
    },
    {
      "cell_type": "code",
      "execution_count": null,
      "metadata": {
        "id": "b676bf58",
        "colab": {
          "base_uri": "https://localhost:8080/"
        },
        "outputId": "a03dcf5a-6ecf-4a6d-e40d-5d52614f2176"
      },
      "outputs": [
        {
          "output_type": "stream",
          "name": "stderr",
          "text": [
            "<ipython-input-27-a5da05856836>:6: RuntimeWarning: overflow encountered in exp\n",
            "  a2 = 1/(1 + np.exp(-z2))\n"
          ]
        },
        {
          "output_type": "execute_result",
          "data": {
            "text/plain": [
              "array([7, 2, 1, ..., 9, 8, 6])"
            ]
          },
          "metadata": {},
          "execution_count": 59
        }
      ],
      "source": [
        "a1, z2, a2, z3, a3, z4, a4 = compute_forward_pass(X_test)\n",
        "loss = compute_loss(a4, y_test_one_hot)\n",
        "predictions = predict(a4)\n",
        "predictions"
      ],
      "id": "b676bf58"
    },
    {
      "cell_type": "code",
      "execution_count": null,
      "metadata": {
        "id": "6151f3c9",
        "colab": {
          "base_uri": "https://localhost:8080/"
        },
        "outputId": "8953b03a-89aa-432c-d49e-536769ce6380"
      },
      "outputs": [
        {
          "output_type": "execute_result",
          "data": {
            "text/plain": [
              "array([7, 2, 1, ..., 4, 5, 6])"
            ]
          },
          "metadata": {},
          "execution_count": 60
        }
      ],
      "source": [
        "labels = predict(y_test_one_hot)\n",
        "labels"
      ],
      "id": "6151f3c9"
    },
    {
      "cell_type": "code",
      "execution_count": null,
      "metadata": {
        "id": "8e5d92ac",
        "colab": {
          "base_uri": "https://localhost:8080/"
        },
        "outputId": "48a46587-f1b8-48cd-86f5-7db2c60ee7f8"
      },
      "outputs": [
        {
          "output_type": "execute_result",
          "data": {
            "text/plain": [
              "0.7429"
            ]
          },
          "metadata": {},
          "execution_count": 61
        }
      ],
      "source": [
        "wrong = np.where(predictions != labels, np.matrix([1.]), np.matrix([0.]))\n",
        "test_accuracy = 1 - (np.sum(wrong) / 10000)\n",
        "test_accuracy"
      ],
      "id": "8e5d92ac"
    },
    {
      "cell_type": "markdown",
      "metadata": {
        "id": "e449d9aa"
      },
      "source": [
        "## Set the hyperparameter learning rate = 0.01, epoch = 50:"
      ],
      "id": "e449d9aa"
    },
    {
      "cell_type": "code",
      "execution_count": 45,
      "metadata": {
        "id": "8add01bd"
      },
      "outputs": [],
      "source": [
        "eta=0.01\n",
        "alpha=0.01\n",
        "batch_size=50\n",
        "n_iter = 50"
      ],
      "id": "8add01bd"
    },
    {
      "cell_type": "markdown",
      "metadata": {
        "id": "319b1646"
      },
      "source": [
        "### Reinitialize the parameter"
      ],
      "id": "319b1646"
    },
    {
      "cell_type": "markdown",
      "metadata": {
        "id": "43f39a5c"
      },
      "source": [
        "Initialize the number of neurons per layer:"
      ],
      "id": "43f39a5c"
    },
    {
      "cell_type": "code",
      "execution_count": 47,
      "metadata": {
        "id": "6243ddcb",
        "colab": {
          "base_uri": "https://localhost:8080/"
        },
        "outputId": "f96bf05e-ff49-4597-d1d9-649c528e0c55"
      },
      "outputs": [
        {
          "output_type": "execute_result",
          "data": {
            "text/plain": [
              "784"
            ]
          },
          "metadata": {},
          "execution_count": 47
        }
      ],
      "source": [
        "n_hidden_1, n_hidden_2, n_output = 100, 100, 10\n",
        "n_input = len(X_train[0,0,:]) #returns the flattened image size (28*28 = 784)\n",
        "n_input"
      ],
      "id": "6243ddcb"
    },
    {
      "cell_type": "markdown",
      "metadata": {
        "id": "c4f629ea"
      },
      "source": [
        "Initialize the weight1, weight2, weight3"
      ],
      "id": "c4f629ea"
    },
    {
      "cell_type": "code",
      "execution_count": 48,
      "metadata": {
        "id": "2012a4e0"
      },
      "outputs": [],
      "source": [
        "w1, w2, w3 = init_weights(n_input, n_hidden_1, n_hidden_2, n_output, batch_size)"
      ],
      "id": "2012a4e0"
    },
    {
      "cell_type": "markdown",
      "metadata": {
        "id": "305428a7"
      },
      "source": [
        "Initialize Markovian weight history, losses and accuracy per epoch:"
      ],
      "id": "305428a7"
    },
    {
      "cell_type": "code",
      "execution_count": 49,
      "metadata": {
        "id": "c62eb772"
      },
      "outputs": [],
      "source": [
        "delta_w1_prev = np.zeros(w1.shape)\n",
        "delta_w2_prev = np.zeros(w2.shape)\n",
        "delta_w3_prev = np.zeros(w3.shape)\n",
        "\n",
        "train_losses = []\n",
        "train_acc = []"
      ],
      "id": "c62eb772"
    },
    {
      "cell_type": "code",
      "execution_count": 50,
      "metadata": {
        "id": "0c7ba567",
        "colab": {
          "base_uri": "https://localhost:8080/"
        },
        "outputId": "43636623-8dbc-47ea-81b2-f8ef6cb67422"
      },
      "outputs": [
        {
          "output_type": "stream",
          "name": "stderr",
          "text": [
            "  2%|▏         | 1/50 [00:16<13:48, 16.92s/it]"
          ]
        },
        {
          "output_type": "stream",
          "name": "stdout",
          "text": [
            "epoch  0 loss 322.52 training accuracy 0.43\n"
          ]
        },
        {
          "output_type": "stream",
          "name": "stderr",
          "text": [
            "\r  4%|▍         | 2/50 [00:33<13:11, 16.49s/it]"
          ]
        },
        {
          "output_type": "stream",
          "name": "stdout",
          "text": [
            "epoch  1 loss 224.86 training accuracy 0.57\n"
          ]
        },
        {
          "output_type": "stream",
          "name": "stderr",
          "text": [
            "\r  6%|▌         | 3/50 [00:49<12:54, 16.49s/it]"
          ]
        },
        {
          "output_type": "stream",
          "name": "stdout",
          "text": [
            "epoch  2 loss 186.97 training accuracy 0.64\n"
          ]
        },
        {
          "output_type": "stream",
          "name": "stderr",
          "text": [
            "\r  8%|▊         | 4/50 [01:06<12:40, 16.54s/it]"
          ]
        },
        {
          "output_type": "stream",
          "name": "stdout",
          "text": [
            "epoch  3 loss 166.46 training accuracy 0.68\n"
          ]
        },
        {
          "output_type": "stream",
          "name": "stderr",
          "text": [
            "\r 10%|█         | 5/50 [01:22<12:25, 16.56s/it]"
          ]
        },
        {
          "output_type": "stream",
          "name": "stdout",
          "text": [
            "epoch  4 loss 153.47 training accuracy 0.71\n"
          ]
        },
        {
          "output_type": "stream",
          "name": "stderr",
          "text": [
            "\r 12%|█▏        | 6/50 [01:40<12:28, 17.01s/it]"
          ]
        },
        {
          "output_type": "stream",
          "name": "stdout",
          "text": [
            "epoch  5 loss 144.40 training accuracy 0.73\n"
          ]
        },
        {
          "output_type": "stream",
          "name": "stderr",
          "text": [
            "\r 14%|█▍        | 7/50 [01:58<12:27, 17.39s/it]"
          ]
        },
        {
          "output_type": "stream",
          "name": "stdout",
          "text": [
            "epoch  6 loss 137.63 training accuracy 0.74\n"
          ]
        },
        {
          "output_type": "stream",
          "name": "stderr",
          "text": [
            "\r 16%|█▌        | 8/50 [02:15<11:59, 17.14s/it]"
          ]
        },
        {
          "output_type": "stream",
          "name": "stdout",
          "text": [
            "epoch  7 loss 132.30 training accuracy 0.75\n"
          ]
        },
        {
          "output_type": "stream",
          "name": "stderr",
          "text": [
            "\r 18%|█▊        | 9/50 [02:31<11:32, 16.89s/it]"
          ]
        },
        {
          "output_type": "stream",
          "name": "stdout",
          "text": [
            "epoch  8 loss 127.99 training accuracy 0.76\n"
          ]
        },
        {
          "output_type": "stream",
          "name": "stderr",
          "text": [
            "\r 20%|██        | 10/50 [02:48<11:09, 16.73s/it]"
          ]
        },
        {
          "output_type": "stream",
          "name": "stdout",
          "text": [
            "epoch  9 loss 124.43 training accuracy 0.77\n"
          ]
        },
        {
          "output_type": "stream",
          "name": "stderr",
          "text": [
            "\r 22%|██▏       | 11/50 [03:04<10:47, 16.60s/it]"
          ]
        },
        {
          "output_type": "stream",
          "name": "stdout",
          "text": [
            "epoch  10 loss 121.43 training accuracy 0.78\n"
          ]
        },
        {
          "output_type": "stream",
          "name": "stderr",
          "text": [
            "\r 24%|██▍       | 12/50 [03:20<10:29, 16.57s/it]"
          ]
        },
        {
          "output_type": "stream",
          "name": "stdout",
          "text": [
            "epoch  11 loss 118.86 training accuracy 0.78\n"
          ]
        },
        {
          "output_type": "stream",
          "name": "stderr",
          "text": [
            "\r 26%|██▌       | 13/50 [03:37<10:11, 16.54s/it]"
          ]
        },
        {
          "output_type": "stream",
          "name": "stdout",
          "text": [
            "epoch  12 loss 116.63 training accuracy 0.79\n"
          ]
        },
        {
          "output_type": "stream",
          "name": "stderr",
          "text": [
            "\r 28%|██▊       | 14/50 [03:55<10:17, 17.14s/it]"
          ]
        },
        {
          "output_type": "stream",
          "name": "stdout",
          "text": [
            "epoch  13 loss 114.68 training accuracy 0.79\n"
          ]
        },
        {
          "output_type": "stream",
          "name": "stderr",
          "text": [
            "\r 30%|███       | 15/50 [04:13<10:02, 17.23s/it]"
          ]
        },
        {
          "output_type": "stream",
          "name": "stdout",
          "text": [
            "epoch  14 loss 112.94 training accuracy 0.80\n"
          ]
        },
        {
          "output_type": "stream",
          "name": "stderr",
          "text": [
            "\r 32%|███▏      | 16/50 [04:30<09:44, 17.19s/it]"
          ]
        },
        {
          "output_type": "stream",
          "name": "stdout",
          "text": [
            "epoch  15 loss 111.39 training accuracy 0.80\n"
          ]
        },
        {
          "output_type": "stream",
          "name": "stderr",
          "text": [
            "\r 34%|███▍      | 17/50 [04:48<09:35, 17.44s/it]"
          ]
        },
        {
          "output_type": "stream",
          "name": "stdout",
          "text": [
            "epoch  16 loss 109.99 training accuracy 0.80\n"
          ]
        },
        {
          "output_type": "stream",
          "name": "stderr",
          "text": [
            "\r 36%|███▌      | 18/50 [05:04<09:08, 17.14s/it]"
          ]
        },
        {
          "output_type": "stream",
          "name": "stdout",
          "text": [
            "epoch  17 loss 108.72 training accuracy 0.81\n"
          ]
        },
        {
          "output_type": "stream",
          "name": "stderr",
          "text": [
            "\r 38%|███▊      | 19/50 [05:21<08:43, 16.90s/it]"
          ]
        },
        {
          "output_type": "stream",
          "name": "stdout",
          "text": [
            "epoch  18 loss 107.58 training accuracy 0.81\n"
          ]
        },
        {
          "output_type": "stream",
          "name": "stderr",
          "text": [
            "\r 40%|████      | 20/50 [05:37<08:21, 16.73s/it]"
          ]
        },
        {
          "output_type": "stream",
          "name": "stdout",
          "text": [
            "epoch  19 loss 106.52 training accuracy 0.81\n"
          ]
        },
        {
          "output_type": "stream",
          "name": "stderr",
          "text": [
            "\r 42%|████▏     | 21/50 [05:55<08:11, 16.95s/it]"
          ]
        },
        {
          "output_type": "stream",
          "name": "stdout",
          "text": [
            "epoch  20 loss 105.56 training accuracy 0.81\n"
          ]
        },
        {
          "output_type": "stream",
          "name": "stderr",
          "text": [
            "\r 44%|████▍     | 22/50 [06:13<08:03, 17.26s/it]"
          ]
        },
        {
          "output_type": "stream",
          "name": "stdout",
          "text": [
            "epoch  21 loss 104.68 training accuracy 0.82\n"
          ]
        },
        {
          "output_type": "stream",
          "name": "stderr",
          "text": [
            "\r 46%|████▌     | 23/50 [06:30<07:44, 17.19s/it]"
          ]
        },
        {
          "output_type": "stream",
          "name": "stdout",
          "text": [
            "epoch  22 loss 103.86 training accuracy 0.82\n"
          ]
        },
        {
          "output_type": "stream",
          "name": "stderr",
          "text": [
            "\r 48%|████▊     | 24/50 [06:46<07:22, 17.04s/it]"
          ]
        },
        {
          "output_type": "stream",
          "name": "stdout",
          "text": [
            "epoch  23 loss 103.11 training accuracy 0.82\n"
          ]
        },
        {
          "output_type": "stream",
          "name": "stderr",
          "text": [
            "\r 50%|█████     | 25/50 [07:03<06:59, 16.79s/it]"
          ]
        },
        {
          "output_type": "stream",
          "name": "stdout",
          "text": [
            "epoch  24 loss 102.41 training accuracy 0.82\n"
          ]
        },
        {
          "output_type": "stream",
          "name": "stderr",
          "text": [
            "\r 52%|█████▏    | 26/50 [07:19<06:39, 16.64s/it]"
          ]
        },
        {
          "output_type": "stream",
          "name": "stdout",
          "text": [
            "epoch  25 loss 101.77 training accuracy 0.82\n"
          ]
        },
        {
          "output_type": "stream",
          "name": "stderr",
          "text": [
            "\r 54%|█████▍    | 27/50 [07:35<06:21, 16.60s/it]"
          ]
        },
        {
          "output_type": "stream",
          "name": "stdout",
          "text": [
            "epoch  26 loss 101.17 training accuracy 0.82\n"
          ]
        },
        {
          "output_type": "stream",
          "name": "stderr",
          "text": [
            "\r 56%|█████▌    | 28/50 [07:52<06:04, 16.58s/it]"
          ]
        },
        {
          "output_type": "stream",
          "name": "stdout",
          "text": [
            "epoch  27 loss 100.61 training accuracy 0.83\n"
          ]
        },
        {
          "output_type": "stream",
          "name": "stderr",
          "text": [
            "\r 58%|█████▊    | 29/50 [08:09<05:52, 16.79s/it]"
          ]
        },
        {
          "output_type": "stream",
          "name": "stdout",
          "text": [
            "epoch  28 loss 100.09 training accuracy 0.83\n"
          ]
        },
        {
          "output_type": "stream",
          "name": "stderr",
          "text": [
            "\r 60%|██████    | 30/50 [08:27<05:42, 17.13s/it]"
          ]
        },
        {
          "output_type": "stream",
          "name": "stdout",
          "text": [
            "epoch  29 loss 99.60 training accuracy 0.83\n"
          ]
        },
        {
          "output_type": "stream",
          "name": "stderr",
          "text": [
            "\r 62%|██████▏   | 31/50 [08:44<05:21, 16.93s/it]"
          ]
        },
        {
          "output_type": "stream",
          "name": "stdout",
          "text": [
            "epoch  30 loss 99.15 training accuracy 0.83\n"
          ]
        },
        {
          "output_type": "stream",
          "name": "stderr",
          "text": [
            "\r 64%|██████▍   | 32/50 [09:01<05:06, 17.00s/it]"
          ]
        },
        {
          "output_type": "stream",
          "name": "stdout",
          "text": [
            "epoch  31 loss 98.72 training accuracy 0.83\n"
          ]
        },
        {
          "output_type": "stream",
          "name": "stderr",
          "text": [
            "\r 66%|██████▌   | 33/50 [09:17<04:46, 16.83s/it]"
          ]
        },
        {
          "output_type": "stream",
          "name": "stdout",
          "text": [
            "epoch  32 loss 98.32 training accuracy 0.83\n"
          ]
        },
        {
          "output_type": "stream",
          "name": "stderr",
          "text": [
            "\r 68%|██████▊   | 34/50 [09:33<04:26, 16.68s/it]"
          ]
        },
        {
          "output_type": "stream",
          "name": "stdout",
          "text": [
            "epoch  33 loss 97.95 training accuracy 0.83\n"
          ]
        },
        {
          "output_type": "stream",
          "name": "stderr",
          "text": [
            "\r 70%|███████   | 35/50 [09:50<04:09, 16.64s/it]"
          ]
        },
        {
          "output_type": "stream",
          "name": "stdout",
          "text": [
            "epoch  34 loss 97.59 training accuracy 0.83\n"
          ]
        },
        {
          "output_type": "stream",
          "name": "stderr",
          "text": [
            "\r 72%|███████▏  | 36/50 [10:07<03:53, 16.65s/it]"
          ]
        },
        {
          "output_type": "stream",
          "name": "stdout",
          "text": [
            "epoch  35 loss 97.26 training accuracy 0.84\n"
          ]
        },
        {
          "output_type": "stream",
          "name": "stderr",
          "text": [
            "\r 74%|███████▍  | 37/50 [10:25<03:41, 17.07s/it]"
          ]
        },
        {
          "output_type": "stream",
          "name": "stdout",
          "text": [
            "epoch  36 loss 96.94 training accuracy 0.84\n"
          ]
        },
        {
          "output_type": "stream",
          "name": "stderr",
          "text": [
            "\r 76%|███████▌  | 38/50 [10:42<03:25, 17.14s/it]"
          ]
        },
        {
          "output_type": "stream",
          "name": "stdout",
          "text": [
            "epoch  37 loss 96.64 training accuracy 0.84\n"
          ]
        },
        {
          "output_type": "stream",
          "name": "stderr",
          "text": [
            "\r 78%|███████▊  | 39/50 [10:58<03:05, 16.86s/it]"
          ]
        },
        {
          "output_type": "stream",
          "name": "stdout",
          "text": [
            "epoch  38 loss 96.36 training accuracy 0.84\n"
          ]
        },
        {
          "output_type": "stream",
          "name": "stderr",
          "text": [
            "\r 80%|████████  | 40/50 [11:14<02:46, 16.65s/it]"
          ]
        },
        {
          "output_type": "stream",
          "name": "stdout",
          "text": [
            "epoch  39 loss 96.09 training accuracy 0.84\n"
          ]
        },
        {
          "output_type": "stream",
          "name": "stderr",
          "text": [
            "\r 82%|████████▏ | 41/50 [11:31<02:28, 16.53s/it]"
          ]
        },
        {
          "output_type": "stream",
          "name": "stdout",
          "text": [
            "epoch  40 loss 95.83 training accuracy 0.84\n"
          ]
        },
        {
          "output_type": "stream",
          "name": "stderr",
          "text": [
            "\r 84%|████████▍ | 42/50 [11:47<02:11, 16.42s/it]"
          ]
        },
        {
          "output_type": "stream",
          "name": "stdout",
          "text": [
            "epoch  41 loss 95.59 training accuracy 0.84\n"
          ]
        },
        {
          "output_type": "stream",
          "name": "stderr",
          "text": [
            "\r 86%|████████▌ | 43/50 [12:03<01:54, 16.37s/it]"
          ]
        },
        {
          "output_type": "stream",
          "name": "stdout",
          "text": [
            "epoch  42 loss 95.36 training accuracy 0.84\n"
          ]
        },
        {
          "output_type": "stream",
          "name": "stderr",
          "text": [
            "\r 88%|████████▊ | 44/50 [12:20<01:38, 16.43s/it]"
          ]
        },
        {
          "output_type": "stream",
          "name": "stdout",
          "text": [
            "epoch  43 loss 95.14 training accuracy 0.84\n"
          ]
        },
        {
          "output_type": "stream",
          "name": "stderr",
          "text": [
            "\r 90%|█████████ | 45/50 [12:36<01:22, 16.42s/it]"
          ]
        },
        {
          "output_type": "stream",
          "name": "stdout",
          "text": [
            "epoch  44 loss 94.93 training accuracy 0.84\n"
          ]
        },
        {
          "output_type": "stream",
          "name": "stderr",
          "text": [
            "\r 92%|█████████▏| 46/50 [12:54<01:07, 16.99s/it]"
          ]
        },
        {
          "output_type": "stream",
          "name": "stdout",
          "text": [
            "epoch  45 loss 94.73 training accuracy 0.84\n"
          ]
        },
        {
          "output_type": "stream",
          "name": "stderr",
          "text": [
            "\r 94%|█████████▍| 47/50 [13:11<00:51, 17.02s/it]"
          ]
        },
        {
          "output_type": "stream",
          "name": "stdout",
          "text": [
            "epoch  46 loss 94.54 training accuracy 0.84\n"
          ]
        },
        {
          "output_type": "stream",
          "name": "stderr",
          "text": [
            "\r 96%|█████████▌| 48/50 [13:28<00:33, 16.79s/it]"
          ]
        },
        {
          "output_type": "stream",
          "name": "stdout",
          "text": [
            "epoch  47 loss 94.36 training accuracy 0.84\n"
          ]
        },
        {
          "output_type": "stream",
          "name": "stderr",
          "text": [
            "\r 98%|█████████▊| 49/50 [13:44<00:16, 16.64s/it]"
          ]
        },
        {
          "output_type": "stream",
          "name": "stdout",
          "text": [
            "epoch  48 loss 94.18 training accuracy 0.85\n"
          ]
        },
        {
          "output_type": "stream",
          "name": "stderr",
          "text": [
            "100%|██████████| 50/50 [14:01<00:00, 16.82s/it]"
          ]
        },
        {
          "output_type": "stream",
          "name": "stdout",
          "text": [
            "epoch  49 loss 94.01 training accuracy 0.85\n"
          ]
        },
        {
          "output_type": "stream",
          "name": "stderr",
          "text": [
            "\n"
          ]
        }
      ],
      "source": [
        "from tqdm import tqdm\n",
        "#epoch loop\n",
        "for i in tqdm(range(n_iter)):\n",
        "    # batch loop\n",
        "    for (input, label) in zip(X_train, y_train):\n",
        "        one_hot_label = one_hot_enc_v2(label, num_labels=10)\n",
        "\n",
        "        a1, z2, a2, z3, a3, z4, a4 = compute_forward_pass(input)\n",
        "        loss = compute_loss(a4, one_hot_label)\n",
        "        grad1, grad2, grad3 = compute_backward_pass_fullmath([a1, z2, a2, z3, a3, z4, a4], one_hot_label)\n",
        "\n",
        "        # multiplicative learning factor\n",
        "        delta_w1, delta_w2, delta_w3 = eta * grad1, eta * grad2, eta * grad3\n",
        "\n",
        "        # additive learning factor\n",
        "        w1 = w1 + delta_w1 + delta_w1_prev * alpha\n",
        "        w2 = w2 + delta_w2 + delta_w2_prev * alpha\n",
        "        w3 = w3 + delta_w3 + delta_w3_prev * alpha\n",
        "\n",
        "        delta_w1_prev, delta_w2_prev, delta_w3_prev = delta_w1, delta_w2, delta_w3\n",
        "\n",
        "        train_losses.append(loss)\n",
        "        predictions = predict(a4)\n",
        "\n",
        "        wrong = np.where(predictions != label, np.matrix([1.]), np.matrix([0.]))\n",
        "        accuracy = 1 - (np.sum(wrong) / batch_size)\n",
        "        train_acc.append(accuracy)\n",
        "\n",
        "    # epoch loss and accuracy (mean of al batches)\n",
        "    print('epoch ', i, 'loss %.2f' % np.mean(np.matrix(train_losses)).item(), \n",
        "          'training accuracy %.2f' % np.mean(np.matrix(train_acc)).item())"
      ],
      "id": "0c7ba567"
    },
    {
      "cell_type": "code",
      "execution_count": 54,
      "metadata": {
        "id": "8f81a417",
        "colab": {
          "base_uri": "https://localhost:8080/"
        },
        "outputId": "8d9dbdfb-93f5-4f83-c130-2821473cdd02"
      },
      "outputs": [
        {
          "output_type": "stream",
          "name": "stderr",
          "text": [
            "<ipython-input-31-a5da05856836>:6: RuntimeWarning: overflow encountered in exp\n",
            "  a2 = 1/(1 + np.exp(-z2))\n"
          ]
        },
        {
          "output_type": "execute_result",
          "data": {
            "text/plain": [
              "array([3, 2, 1, ..., 4, 5, 6])"
            ]
          },
          "metadata": {},
          "execution_count": 54
        }
      ],
      "source": [
        "a1, z2, a2, z3, a3, z4, a4 = compute_forward_pass(X_test)\n",
        "loss = compute_loss(a4, y_test_one_hot)\n",
        "predictions = predict(a4)\n",
        "predictions"
      ],
      "id": "8f81a417"
    },
    {
      "cell_type": "code",
      "execution_count": 55,
      "metadata": {
        "id": "8da6f448",
        "colab": {
          "base_uri": "https://localhost:8080/"
        },
        "outputId": "726d958e-ebcf-4aa8-94cf-a20f52da3147"
      },
      "outputs": [
        {
          "output_type": "execute_result",
          "data": {
            "text/plain": [
              "array([7, 2, 1, ..., 4, 5, 6])"
            ]
          },
          "metadata": {},
          "execution_count": 55
        }
      ],
      "source": [
        "labels = predict(y_test_one_hot)\n",
        "labels"
      ],
      "id": "8da6f448"
    },
    {
      "cell_type": "code",
      "execution_count": 56,
      "metadata": {
        "id": "83ffc144",
        "colab": {
          "base_uri": "https://localhost:8080/"
        },
        "outputId": "cc02d33e-8db7-4650-fed6-195051b674be"
      },
      "outputs": [
        {
          "output_type": "execute_result",
          "data": {
            "text/plain": [
              "0.8439"
            ]
          },
          "metadata": {},
          "execution_count": 56
        }
      ],
      "source": [
        "wrong = np.where(predictions != labels, np.matrix([1.]), np.matrix([0.]))\n",
        "test_accuracy = 1 - (np.sum(wrong) / 10000)\n",
        "test_accuracy"
      ],
      "id": "83ffc144"
    },
    {
      "cell_type": "markdown",
      "metadata": {
        "id": "aafb0747"
      },
      "source": [
        "## Conclusion\n",
        "\n",
        "* For each result, we can see the hyperparameter with learning rate = 0.01, batch_size=50, epoch = 100 has the highest accuracy, the accuracy = 95% and the test accuracy = 100%"
      ],
      "id": "aafb0747"
    }
  ],
  "metadata": {
    "accelerator": "TPU",
    "colab": {
      "collapsed_sections": [
        "aafb0747"
      ],
      "provenance": []
    },
    "gpuClass": "standard",
    "kernelspec": {
      "display_name": "Python 3 (ipykernel)",
      "language": "python",
      "name": "python3"
    },
    "language_info": {
      "codemirror_mode": {
        "name": "ipython",
        "version": 3
      },
      "file_extension": ".py",
      "mimetype": "text/x-python",
      "name": "python",
      "nbconvert_exporter": "python",
      "pygments_lexer": "ipython3",
      "version": "3.9.16"
    }
  },
  "nbformat": 4,
  "nbformat_minor": 5
}