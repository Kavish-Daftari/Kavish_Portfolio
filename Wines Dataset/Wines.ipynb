{
  "cells": [
    {
      "attachments": {},
      "cell_type": "markdown",
      "id": "5dtn1ZRjckhj",
      "metadata": {
        "id": "5dtn1ZRjckhj"
      },
      "source": [
        "# Neural Modeling Methods & Tools\n",
        "## wines dataset\n",
        " \n",
        "\n"
      ]
    },
    {
      "attachments": {},
      "cell_type": "markdown",
      "id": "VzJhKkTbFD5l",
      "metadata": {
        "id": "VzJhKkTbFD5l"
      },
      "source": [
        "### Reading the winequality-red dataset."
      ]
    },
    {
      "cell_type": "code",
      "execution_count": null,
      "id": "0e172991",
      "metadata": {
        "id": "0e172991",
        "outputId": "9a110c85-27b9-482b-d5e2-59437362912d"
      },
      "outputs": [
        {
          "data": {
            "text/html": [
              "<div>\n",
              "<style scoped>\n",
              "    .dataframe tbody tr th:only-of-type {\n",
              "        vertical-align: middle;\n",
              "    }\n",
              "\n",
              "    .dataframe tbody tr th {\n",
              "        vertical-align: top;\n",
              "    }\n",
              "\n",
              "    .dataframe thead th {\n",
              "        text-align: right;\n",
              "    }\n",
              "</style>\n",
              "<table border=\"1\" class=\"dataframe\">\n",
              "  <thead>\n",
              "    <tr style=\"text-align: right;\">\n",
              "      <th></th>\n",
              "      <th>0</th>\n",
              "      <th>1</th>\n",
              "      <th>2</th>\n",
              "      <th>3</th>\n",
              "      <th>4</th>\n",
              "      <th>5</th>\n",
              "      <th>6</th>\n",
              "      <th>7</th>\n",
              "      <th>8</th>\n",
              "      <th>9</th>\n",
              "      <th>10</th>\n",
              "      <th>11</th>\n",
              "    </tr>\n",
              "  </thead>\n",
              "  <tbody>\n",
              "    <tr>\n",
              "      <th>0</th>\n",
              "      <td>fixed acidity</td>\n",
              "      <td>volatile acidity</td>\n",
              "      <td>citric acid</td>\n",
              "      <td>residual sugar</td>\n",
              "      <td>chlorides</td>\n",
              "      <td>free sulfur dioxide</td>\n",
              "      <td>total sulfur dioxide</td>\n",
              "      <td>density</td>\n",
              "      <td>pH</td>\n",
              "      <td>sulphates</td>\n",
              "      <td>alcohol</td>\n",
              "      <td>quality</td>\n",
              "    </tr>\n",
              "    <tr>\n",
              "      <th>1</th>\n",
              "      <td>7.4</td>\n",
              "      <td>0.7</td>\n",
              "      <td>0</td>\n",
              "      <td>1.9</td>\n",
              "      <td>0.076</td>\n",
              "      <td>11</td>\n",
              "      <td>34</td>\n",
              "      <td>0.9978</td>\n",
              "      <td>3.51</td>\n",
              "      <td>0.56</td>\n",
              "      <td>9.4</td>\n",
              "      <td>5</td>\n",
              "    </tr>\n",
              "    <tr>\n",
              "      <th>2</th>\n",
              "      <td>7.8</td>\n",
              "      <td>0.88</td>\n",
              "      <td>0</td>\n",
              "      <td>2.6</td>\n",
              "      <td>0.098</td>\n",
              "      <td>25</td>\n",
              "      <td>67</td>\n",
              "      <td>0.9968</td>\n",
              "      <td>3.2</td>\n",
              "      <td>0.68</td>\n",
              "      <td>9.8</td>\n",
              "      <td>5</td>\n",
              "    </tr>\n",
              "    <tr>\n",
              "      <th>3</th>\n",
              "      <td>7.8</td>\n",
              "      <td>0.76</td>\n",
              "      <td>0.04</td>\n",
              "      <td>2.3</td>\n",
              "      <td>0.092</td>\n",
              "      <td>15</td>\n",
              "      <td>54</td>\n",
              "      <td>0.997</td>\n",
              "      <td>3.26</td>\n",
              "      <td>0.65</td>\n",
              "      <td>9.8</td>\n",
              "      <td>5</td>\n",
              "    </tr>\n",
              "    <tr>\n",
              "      <th>4</th>\n",
              "      <td>11.2</td>\n",
              "      <td>0.28</td>\n",
              "      <td>0.56</td>\n",
              "      <td>1.9</td>\n",
              "      <td>0.075</td>\n",
              "      <td>17</td>\n",
              "      <td>60</td>\n",
              "      <td>0.998</td>\n",
              "      <td>3.16</td>\n",
              "      <td>0.58</td>\n",
              "      <td>9.8</td>\n",
              "      <td>6</td>\n",
              "    </tr>\n",
              "    <tr>\n",
              "      <th>5</th>\n",
              "      <td>7.4</td>\n",
              "      <td>0.7</td>\n",
              "      <td>0</td>\n",
              "      <td>1.9</td>\n",
              "      <td>0.076</td>\n",
              "      <td>11</td>\n",
              "      <td>34</td>\n",
              "      <td>0.9978</td>\n",
              "      <td>3.51</td>\n",
              "      <td>0.56</td>\n",
              "      <td>9.4</td>\n",
              "      <td>5</td>\n",
              "    </tr>\n",
              "    <tr>\n",
              "      <th>6</th>\n",
              "      <td>7.4</td>\n",
              "      <td>0.66</td>\n",
              "      <td>0</td>\n",
              "      <td>1.8</td>\n",
              "      <td>0.075</td>\n",
              "      <td>13</td>\n",
              "      <td>40</td>\n",
              "      <td>0.9978</td>\n",
              "      <td>3.51</td>\n",
              "      <td>0.56</td>\n",
              "      <td>9.4</td>\n",
              "      <td>5</td>\n",
              "    </tr>\n",
              "    <tr>\n",
              "      <th>7</th>\n",
              "      <td>7.9</td>\n",
              "      <td>0.6</td>\n",
              "      <td>0.06</td>\n",
              "      <td>1.6</td>\n",
              "      <td>0.069</td>\n",
              "      <td>15</td>\n",
              "      <td>59</td>\n",
              "      <td>0.9964</td>\n",
              "      <td>3.3</td>\n",
              "      <td>0.46</td>\n",
              "      <td>9.4</td>\n",
              "      <td>5</td>\n",
              "    </tr>\n",
              "    <tr>\n",
              "      <th>8</th>\n",
              "      <td>7.3</td>\n",
              "      <td>0.65</td>\n",
              "      <td>0</td>\n",
              "      <td>1.2</td>\n",
              "      <td>0.065</td>\n",
              "      <td>15</td>\n",
              "      <td>21</td>\n",
              "      <td>0.9946</td>\n",
              "      <td>3.39</td>\n",
              "      <td>0.47</td>\n",
              "      <td>10</td>\n",
              "      <td>7</td>\n",
              "    </tr>\n",
              "    <tr>\n",
              "      <th>9</th>\n",
              "      <td>7.8</td>\n",
              "      <td>0.58</td>\n",
              "      <td>0.02</td>\n",
              "      <td>2</td>\n",
              "      <td>0.073</td>\n",
              "      <td>9</td>\n",
              "      <td>18</td>\n",
              "      <td>0.9968</td>\n",
              "      <td>3.36</td>\n",
              "      <td>0.57</td>\n",
              "      <td>9.5</td>\n",
              "      <td>7</td>\n",
              "    </tr>\n",
              "    <tr>\n",
              "      <th>10</th>\n",
              "      <td>7.5</td>\n",
              "      <td>0.5</td>\n",
              "      <td>0.36</td>\n",
              "      <td>6.1</td>\n",
              "      <td>0.071</td>\n",
              "      <td>17</td>\n",
              "      <td>102</td>\n",
              "      <td>0.9978</td>\n",
              "      <td>3.35</td>\n",
              "      <td>0.8</td>\n",
              "      <td>10.5</td>\n",
              "      <td>5</td>\n",
              "    </tr>\n",
              "    <tr>\n",
              "      <th>11</th>\n",
              "      <td>6.7</td>\n",
              "      <td>0.58</td>\n",
              "      <td>0.08</td>\n",
              "      <td>1.8</td>\n",
              "      <td>0.097</td>\n",
              "      <td>15</td>\n",
              "      <td>65</td>\n",
              "      <td>0.9959</td>\n",
              "      <td>3.28</td>\n",
              "      <td>0.54</td>\n",
              "      <td>9.2</td>\n",
              "      <td>5</td>\n",
              "    </tr>\n",
              "    <tr>\n",
              "      <th>12</th>\n",
              "      <td>7.5</td>\n",
              "      <td>0.5</td>\n",
              "      <td>0.36</td>\n",
              "      <td>6.1</td>\n",
              "      <td>0.071</td>\n",
              "      <td>17</td>\n",
              "      <td>102</td>\n",
              "      <td>0.9978</td>\n",
              "      <td>3.35</td>\n",
              "      <td>0.8</td>\n",
              "      <td>10.5</td>\n",
              "      <td>5</td>\n",
              "    </tr>\n",
              "    <tr>\n",
              "      <th>13</th>\n",
              "      <td>5.6</td>\n",
              "      <td>0.615</td>\n",
              "      <td>0</td>\n",
              "      <td>1.6</td>\n",
              "      <td>0.089</td>\n",
              "      <td>16</td>\n",
              "      <td>59</td>\n",
              "      <td>0.9943</td>\n",
              "      <td>3.58</td>\n",
              "      <td>0.52</td>\n",
              "      <td>9.9</td>\n",
              "      <td>5</td>\n",
              "    </tr>\n",
              "    <tr>\n",
              "      <th>14</th>\n",
              "      <td>7.8</td>\n",
              "      <td>0.61</td>\n",
              "      <td>0.29</td>\n",
              "      <td>1.6</td>\n",
              "      <td>0.114</td>\n",
              "      <td>9</td>\n",
              "      <td>29</td>\n",
              "      <td>0.9974</td>\n",
              "      <td>3.26</td>\n",
              "      <td>1.56</td>\n",
              "      <td>9.1</td>\n",
              "      <td>5</td>\n",
              "    </tr>\n",
              "    <tr>\n",
              "      <th>15</th>\n",
              "      <td>8.9</td>\n",
              "      <td>0.62</td>\n",
              "      <td>0.18</td>\n",
              "      <td>3.8</td>\n",
              "      <td>0.176</td>\n",
              "      <td>52</td>\n",
              "      <td>145</td>\n",
              "      <td>0.9986</td>\n",
              "      <td>3.16</td>\n",
              "      <td>0.88</td>\n",
              "      <td>9.2</td>\n",
              "      <td>5</td>\n",
              "    </tr>\n",
              "    <tr>\n",
              "      <th>16</th>\n",
              "      <td>8.9</td>\n",
              "      <td>0.62</td>\n",
              "      <td>0.19</td>\n",
              "      <td>3.9</td>\n",
              "      <td>0.17</td>\n",
              "      <td>51</td>\n",
              "      <td>148</td>\n",
              "      <td>0.9986</td>\n",
              "      <td>3.17</td>\n",
              "      <td>0.93</td>\n",
              "      <td>9.2</td>\n",
              "      <td>5</td>\n",
              "    </tr>\n",
              "    <tr>\n",
              "      <th>17</th>\n",
              "      <td>8.5</td>\n",
              "      <td>0.28</td>\n",
              "      <td>0.56</td>\n",
              "      <td>1.8</td>\n",
              "      <td>0.092</td>\n",
              "      <td>35</td>\n",
              "      <td>103</td>\n",
              "      <td>0.9969</td>\n",
              "      <td>3.3</td>\n",
              "      <td>0.75</td>\n",
              "      <td>10.5</td>\n",
              "      <td>7</td>\n",
              "    </tr>\n",
              "    <tr>\n",
              "      <th>18</th>\n",
              "      <td>8.1</td>\n",
              "      <td>0.56</td>\n",
              "      <td>0.28</td>\n",
              "      <td>1.7</td>\n",
              "      <td>0.368</td>\n",
              "      <td>16</td>\n",
              "      <td>56</td>\n",
              "      <td>0.9968</td>\n",
              "      <td>3.11</td>\n",
              "      <td>1.28</td>\n",
              "      <td>9.3</td>\n",
              "      <td>5</td>\n",
              "    </tr>\n",
              "    <tr>\n",
              "      <th>19</th>\n",
              "      <td>7.4</td>\n",
              "      <td>0.59</td>\n",
              "      <td>0.08</td>\n",
              "      <td>4.4</td>\n",
              "      <td>0.086</td>\n",
              "      <td>6</td>\n",
              "      <td>29</td>\n",
              "      <td>0.9974</td>\n",
              "      <td>3.38</td>\n",
              "      <td>0.5</td>\n",
              "      <td>9</td>\n",
              "      <td>4</td>\n",
              "    </tr>\n",
              "  </tbody>\n",
              "</table>\n",
              "</div>"
            ],
            "text/plain": [
              "               0                 1            2               3          4   \\\n",
              "0   fixed acidity  volatile acidity  citric acid  residual sugar  chlorides   \n",
              "1             7.4               0.7            0             1.9      0.076   \n",
              "2             7.8              0.88            0             2.6      0.098   \n",
              "3             7.8              0.76         0.04             2.3      0.092   \n",
              "4            11.2              0.28         0.56             1.9      0.075   \n",
              "5             7.4               0.7            0             1.9      0.076   \n",
              "6             7.4              0.66            0             1.8      0.075   \n",
              "7             7.9               0.6         0.06             1.6      0.069   \n",
              "8             7.3              0.65            0             1.2      0.065   \n",
              "9             7.8              0.58         0.02               2      0.073   \n",
              "10            7.5               0.5         0.36             6.1      0.071   \n",
              "11            6.7              0.58         0.08             1.8      0.097   \n",
              "12            7.5               0.5         0.36             6.1      0.071   \n",
              "13            5.6             0.615            0             1.6      0.089   \n",
              "14            7.8              0.61         0.29             1.6      0.114   \n",
              "15            8.9              0.62         0.18             3.8      0.176   \n",
              "16            8.9              0.62         0.19             3.9       0.17   \n",
              "17            8.5              0.28         0.56             1.8      0.092   \n",
              "18            8.1              0.56         0.28             1.7      0.368   \n",
              "19            7.4              0.59         0.08             4.4      0.086   \n",
              "\n",
              "                     5                     6        7     8          9   \\\n",
              "0   free sulfur dioxide  total sulfur dioxide  density    pH  sulphates   \n",
              "1                    11                    34   0.9978  3.51       0.56   \n",
              "2                    25                    67   0.9968   3.2       0.68   \n",
              "3                    15                    54    0.997  3.26       0.65   \n",
              "4                    17                    60    0.998  3.16       0.58   \n",
              "5                    11                    34   0.9978  3.51       0.56   \n",
              "6                    13                    40   0.9978  3.51       0.56   \n",
              "7                    15                    59   0.9964   3.3       0.46   \n",
              "8                    15                    21   0.9946  3.39       0.47   \n",
              "9                     9                    18   0.9968  3.36       0.57   \n",
              "10                   17                   102   0.9978  3.35        0.8   \n",
              "11                   15                    65   0.9959  3.28       0.54   \n",
              "12                   17                   102   0.9978  3.35        0.8   \n",
              "13                   16                    59   0.9943  3.58       0.52   \n",
              "14                    9                    29   0.9974  3.26       1.56   \n",
              "15                   52                   145   0.9986  3.16       0.88   \n",
              "16                   51                   148   0.9986  3.17       0.93   \n",
              "17                   35                   103   0.9969   3.3       0.75   \n",
              "18                   16                    56   0.9968  3.11       1.28   \n",
              "19                    6                    29   0.9974  3.38        0.5   \n",
              "\n",
              "         10       11  \n",
              "0   alcohol  quality  \n",
              "1       9.4        5  \n",
              "2       9.8        5  \n",
              "3       9.8        5  \n",
              "4       9.8        6  \n",
              "5       9.4        5  \n",
              "6       9.4        5  \n",
              "7       9.4        5  \n",
              "8        10        7  \n",
              "9       9.5        7  \n",
              "10     10.5        5  \n",
              "11      9.2        5  \n",
              "12     10.5        5  \n",
              "13      9.9        5  \n",
              "14      9.1        5  \n",
              "15      9.2        5  \n",
              "16      9.2        5  \n",
              "17     10.5        7  \n",
              "18      9.3        5  \n",
              "19        9        4  "
            ]
          },
          "execution_count": 1,
          "metadata": {},
          "output_type": "execute_result"
        }
      ],
      "source": [
        "import pandas as pd\n",
        "import numpy as np\n",
        "wines = pd.read_csv('data/winequality-red.csv',header=None)\n",
        "wines.head(20)"
      ]
    },
    {
      "cell_type": "code",
      "execution_count": null,
      "id": "7fe92f1f",
      "metadata": {
        "id": "7fe92f1f",
        "outputId": "ca533b82-d443-4efb-9276-d24cfc4d3e38"
      },
      "outputs": [
        {
          "data": {
            "text/plain": [
              "1600"
            ]
          },
          "execution_count": 2,
          "metadata": {},
          "output_type": "execute_result"
        }
      ],
      "source": [
        "len(wines)"
      ]
    },
    {
      "cell_type": "code",
      "execution_count": null,
      "id": "da98c44c",
      "metadata": {
        "id": "da98c44c",
        "outputId": "2b62ab70-271a-4b1d-cd07-7c93c9f819ca"
      },
      "outputs": [
        {
          "data": {
            "text/plain": [
              "array(['quality', '5', '5', '5', '6', '5', '5', '5', '7', '7', '5', '5',\n",
              "       '5', '5', '5', '5', '5', '7', '5', '4', '6', '6', '5', '5', '5',\n",
              "       '6', '5', '5', '5', '5', '6', '5', '6', '5', '6', '5', '6', '6',\n",
              "       '7', '4', '5', '5', '4', '6', '5', '5', '4', '5', '5', '5', '5',\n",
              "       '5', '6', '6', '5', '6', '5', '5', '5', '5', '6', '5', '5', '7',\n",
              "       '5', '5', '5', '5', '5', '5', '6', '6', '5', '5', '4', '5', '5',\n",
              "       '5', '6', '5', '4', '5', '5', '5', '5', '6', '5', '6', '5', '5',\n",
              "       '5', '5', '6', '5', '5', '4', '6', '5', '5', '5'], dtype=object)"
            ]
          },
          "execution_count": 3,
          "metadata": {},
          "output_type": "execute_result"
        }
      ],
      "source": [
        "labels = wines.loc[:,11].values\n",
        "labels[0:100]"
      ]
    },
    {
      "cell_type": "code",
      "execution_count": null,
      "id": "5a2c3520",
      "metadata": {
        "id": "5a2c3520",
        "outputId": "cb04856f-93d5-4c7b-eadd-518e765340f9"
      },
      "outputs": [
        {
          "data": {
            "text/plain": [
              "{'3', '4', '5', '6', '7', '8', 'quality'}"
            ]
          },
          "execution_count": 4,
          "metadata": {},
          "output_type": "execute_result"
        }
      ],
      "source": [
        "set(labels)"
      ]
    },
    {
      "cell_type": "code",
      "execution_count": null,
      "id": "9cdfd0d7",
      "metadata": {
        "id": "9cdfd0d7",
        "outputId": "9904ac58-7e2a-4a4b-98a6-456e6ef5c62e"
      },
      "outputs": [
        {
          "data": {
            "text/plain": [
              "array([5., 5., 5., ..., 6., 5., 6.])"
            ]
          },
          "execution_count": 5,
          "metadata": {},
          "output_type": "execute_result"
        }
      ],
      "source": [
        "labels = wines.loc[1:, 11].values.astype(float)\n",
        "labels[0:]"
      ]
    },
    {
      "cell_type": "code",
      "execution_count": null,
      "id": "eeae6193",
      "metadata": {
        "id": "eeae6193",
        "outputId": "e9538694-63b0-4a4f-efe1-79b1031d59c7"
      },
      "outputs": [
        {
          "data": {
            "text/plain": [
              "{0.0, 1.0, 2.0, 3.0, 4.0, 5.0}"
            ]
          },
          "execution_count": 6,
          "metadata": {},
          "output_type": "execute_result"
        }
      ],
      "source": [
        "labels2 = map(lambda x: x - 3, labels)\n",
        "labels2 = list(labels2)\n",
        "set(labels2)"
      ]
    },
    {
      "cell_type": "code",
      "execution_count": null,
      "id": "db541b60",
      "metadata": {
        "id": "db541b60",
        "outputId": "27666a8b-ba1c-4b32-a003-7b34cf4cf494"
      },
      "outputs": [
        {
          "data": {
            "text/plain": [
              "(1599, 11)"
            ]
          },
          "execution_count": 7,
          "metadata": {},
          "output_type": "execute_result"
        }
      ],
      "source": [
        "train = wines.loc[1:,:10].values.astype(float)\n",
        "np.shape(train)"
      ]
    },
    {
      "attachments": {},
      "cell_type": "markdown",
      "id": "TINn53MjXkAl",
      "metadata": {
        "id": "TINn53MjXkAl"
      },
      "source": [
        "###### Building Neural Network using conx"
      ]
    },
    {
      "cell_type": "code",
      "execution_count": null,
      "id": "3d266593",
      "metadata": {
        "id": "3d266593",
        "outputId": "426a6c73-a8f6-465f-b948-676fcc6e520a"
      },
      "outputs": [
        {
          "name": "stderr",
          "output_type": "stream",
          "text": [
            "ConX, version 3.7.10\n"
          ]
        },
        {
          "name": "stdout",
          "output_type": "stream",
          "text": [
            "Model: \"model_4\"\n",
            "_________________________________________________________________\n",
            " Layer (type)                Output Shape              Param #   \n",
            "=================================================================\n",
            " input (InputLayer)          [(None, 11)]              0         \n",
            "                                                                 \n",
            " hidden (Dense)              (None, 64)                768       \n",
            "                                                                 \n",
            " output (Dense)              (None, 6)                 390       \n",
            "                                                                 \n",
            "=================================================================\n",
            "Total params: 1,158\n",
            "Trainable params: 1,158\n",
            "Non-trainable params: 0\n",
            "_________________________________________________________________\n"
          ]
        }
      ],
      "source": [
        "import conx as cx\n",
        "\n",
        "wine = cx.Network(\"Wine Network\")\n",
        "wine.add(cx.Layer(\"input\", 11))\n",
        "wine.add(cx.Layer(\"hidden\", 64, activation=\"relu\"))\n",
        "wine.add(cx.Layer(\"output\", 6, activation=\"sigmoid\"))\n",
        "wine.connect()\n",
        "wine.compile(error=\"mse\", optimizer=\"adam\")\n",
        "wine.summary()"
      ]
    },
    {
      "attachments": {},
      "cell_type": "markdown",
      "id": "Jr9VMJvWX21T",
      "metadata": {
        "id": "Jr9VMJvWX21T"
      },
      "source": [
        "###### Visualizing the neural network"
      ]
    },
    {
      "cell_type": "code",
      "execution_count": null,
      "id": "1b74dc0f",
      "metadata": {
        "id": "1b74dc0f",
        "outputId": "fa29ebe9-9b2d-490e-c070-184231a4d415"
      },
      "outputs": [
        {
          "name": "stdout",
          "output_type": "stream",
          "text": [
            "1/1 [==============================] - 0s 139ms/step\n",
            "1/1 [==============================] - 0s 35ms/step\n",
            "1/1 [==============================] - 0s 29ms/step\n"
          ]
        },
        {
          "data": {
            "text/html": [
              "<svg id='Wine Network' xmlns='http://www.w3.org/2000/svg' xmlns:xlink='http://www.w3.org/1999/xlink' image-rendering=\"pixelated\" width=\"400.0px\" height=\"297.1428571428571px\">\n",
              " <g >\n",
              "  <svg viewBox=\"0 0 350 260\" width=\"400.0px\" height=\"297.1428571428571px\">\n",
              "    <defs>\n",
              "        <marker id=\"arrow\" markerWidth=\"10\" markerHeight=\"10\" refX=\"9\" refY=\"3\" orient=\"auto\" markerUnits=\"strokeWidth\">\n",
              "          <path d=\"M0,0 L0,6 L9,3 z\" fill=\"black\" />\n",
              "        </marker>\n",
              "    </defs><rect x=\"74.0\" y=\"24\" width=\"202\" height=\"52\" style=\"fill:none;stroke:black;stroke-width:2\"/><image id=\"picture-static-Wine Network-542938_output_1\" class=\"picture-static-Wine Network-542938_output\" x=\"75.0\" y=\"25\" height=\"50\" width=\"200\" preserveAspectRatio=\"none\" image-rendering=\"optimizeSpeed\" xlink:href=\"data:image/gif;base64,R0lGODlh9gApAIEAAP/9/QAAAAAAAAAAACH5BAEAAAIALAAAAAD2ACkAQAj/AAMIHEiwoMGDCBMqXMiwocOHECNKnEixIkQAGDNq3Mixo8eMAj+KHPkxJMmTJ02iXOlRJcuXIAPAnInRJc2VNm+mlKmTZc6eIn8CbclzKEmhRjciTRqT6cilTqEylZqUqlGrQ7EC1dqTq06vNy2KHUu2rNmzaNM6dBq0KFuOYGnGnTkXZt2Xd326fasxL869fGsCDuwXZeGdgeEO5nv46OK3jZ8+Zhu5bWKlk6Nmnrq5auern7OG3jq6a+mvp8Omlruabmu7r/HG1nu57+y/tZvmBlC55G3DvxHv7k10N+/gjo0T77hcsXLkkp9LHw7dMvXpuZtjxl5bu23ul73rwM5e3Tf4xOIFnydcvvj19+TXM27PnL5z+N3tb8cfXv93/uj5N15+8kEmoHoAslcgZQcet6BmD3IWoWcTglahaBeSlqFpG6LWoWofshaiayPCVqJsJ9KW4Hwp4raigS0CF6Nw8b3I4IzJ2QihjhLySKGPFgKJoZAaEsmhkR4iCaKSIjJJopMmQomilCrWaCWBVLp4ZX84RpeljF/SiOWWAXZpHZkKhpkjmiyq6SWbMLp55ph0cimneXe6B+eNeTIXEAA7\"><title>Layer: output (output)\n",
              " output range: (0, 1)\n",
              " shape = (6,)\n",
              " Keras class = Dense\n",
              " activation = sigmoid</title></image><text x=\"280.0\" y=\"52.0\" font-family=\"monospace\" font-size=\"12\" text-anchor=\"start\" fill=\"black\" alignment-baseline=\"central\" >output</text><path d=\"M 175.0 104 L 175.0 77 \" stroke=\"black\" stroke-width=\"2\" marker-end=\"url(#arrow)\" fill=\"none\" /><rect x=\"74.0\" y=\"104\" width=\"202\" height=\"52\" style=\"fill:none;stroke:black;stroke-width:2\"/><image id=\"picture-static-Wine Network-542938_hidden_2\" class=\"picture-static-Wine Network-542938_hidden\" x=\"75.0\" y=\"105\" height=\"50\" width=\"200\" preserveAspectRatio=\"none\" image-rendering=\"optimizeSpeed\" xlink:href=\"data:image/gif;base64,R0lGODlhQAABAIEAAH8AAAAAAAAAAAAAACH5BAEAAAEALAAAAABAAAEAAAgPAAEIHEiwoMGDCBMqTBgQADs=\"><title>Layer: hidden (hidden)\n",
              " output range: (0, +Infinity)\n",
              " shape = (64,)\n",
              " Keras class = Dense\n",
              " activation = relu</title></image><text x=\"280.0\" y=\"132.0\" font-family=\"monospace\" font-size=\"12\" text-anchor=\"start\" fill=\"black\" alignment-baseline=\"central\" >hidden</text><path d=\"M 175.0 184 L 175.0 157 \" stroke=\"black\" stroke-width=\"2\" marker-end=\"url(#arrow)\" fill=\"none\" /><rect x=\"74.0\" y=\"184\" width=\"202\" height=\"52\" style=\"fill:none;stroke:black;stroke-width:2\"/><image id=\"picture-static-Wine Network-542938_input_3\" class=\"picture-static-Wine Network-542938_input\" x=\"75.0\" y=\"185\" height=\"50\" width=\"200\" preserveAspectRatio=\"none\" image-rendering=\"optimizeSpeed\" xlink:href=\"data:image/gif;base64,R0lGODlh8gAWAIEAAH9/fwAAAAAAAAAAACH5BAEAAAIALAAAAADyABYAQAj/AAMIHEiwoMGDCBMqXMiwocOHECNKnEixIkMAGDNq3LhRIMePHz2CHIlRJEmQJk9yTKlSI8uWJQPAXClzpsuaNmPmzPgSZs+WP1UGPTmUZNGRR1HizJk05FKbTWnu1Dk1asenM63enApAK0+sPsECFSuULFGzRtEiVauUq1eqO992ZevULV2pVe9etcs3b9+4erf6HQz4L9PAXw1DRQz3sOKsjOc+Djt5bOWyl89mTrt5bee2hB2HXvy57mjIpfEWPk2ZtWXXmGFrls2ZtmfboFfrFr2bNG7TvVH/Vs27uO/grZG/Vh6b+WzntaHflp7buHDqwK0n176ce3Pvz8FHaRc/nXz14+azo19/PT1x9tvhd5f/nX54++Pxl9d/vj1/9f4FGJ+A8xFYn4H3IZifgvsx2N+AEBYY4YETJljhghc2mOGDEnZIoYcWgoihiBqSyOGHKIaY4ogrrmXRizDGKOOMNNZo40EBAQA7\"><title>Layer: input (input)\n",
              " output range: (-Infinity, +Infinity)\n",
              " shape = (11,)\n",
              " Keras class = Input</title></image><text x=\"280.0\" y=\"212.0\" font-family=\"monospace\" font-size=\"12\" text-anchor=\"start\" fill=\"black\" alignment-baseline=\"central\" >input</text><text x=\"175.0\" y=\"12.5\" font-family=\"monospace\" font-size=\"15\" text-anchor=\"middle\" fill=\"black\" alignment-baseline=\"central\" >Wine Network</text></svg></g></svg>"
            ],
            "text/plain": [
              "<IPython.core.display.HTML object>"
            ]
          },
          "execution_count": 9,
          "metadata": {},
          "output_type": "execute_result"
        }
      ],
      "source": [
        "wine.picture()"
      ]
    },
    {
      "cell_type": "code",
      "execution_count": null,
      "id": "76a2bda8",
      "metadata": {
        "id": "76a2bda8",
        "outputId": "edd3e6c9-7232-499a-d26e-55a6c06deab1"
      },
      "outputs": [
        {
          "name": "stdout",
          "output_type": "stream",
          "text": [
            "1/1 [==============================] - 0s 44ms/step\n"
          ]
        },
        {
          "data": {
            "text/plain": [
              "[1.0, 0.9993964433670044, 0.9999988675117493, 1.0, 1.0, 0.9999542236328125]"
            ]
          },
          "execution_count": 10,
          "metadata": {},
          "output_type": "execute_result"
        }
      ],
      "source": [
        "wine.propagate(input= [6.9, 0.605, 0.12, 10.7, 0.073, 40, 83, 0.9993, 3.45, 0.52, 9.4])"
      ]
    },
    {
      "cell_type": "code",
      "execution_count": null,
      "id": "cf06ac52",
      "metadata": {
        "id": "cf06ac52",
        "outputId": "08844e4d-4a76-4d10-edf3-acd90b03c5dc"
      },
      "outputs": [
        {
          "name": "stdout",
          "output_type": "stream",
          "text": [
            "1/1 [==============================] - 0s 17ms/step\n",
            "[ 7.4     0.7     0.      1.9     0.076  11.     34.      0.9978  3.51\n",
            "  0.56    9.4   ] [0.9995412230491638, 0.9935763478279114, 0.9983341097831726, 0.9997735619544983, 0.9996614456176758, 0.8705431222915649] \n",
            "\n",
            "1/1 [==============================] - 0s 18ms/step\n",
            "[ 7.8     0.88    0.      2.6     0.098  25.     67.      0.9968  3.2\n",
            "  0.68    9.8   ] [1.0, 0.9997187256813049, 0.9999932646751404, 0.999998152256012, 0.9999988675117493, 0.9917553663253784] \n",
            "\n",
            "1/1 [==============================] - 0s 17ms/step\n",
            "[7.80e+00 7.60e-01 4.00e-02 2.30e+00 9.20e-02 1.50e+01 5.40e+01 9.97e-01\n",
            " 3.26e+00 6.50e-01 9.80e+00] [0.9999996423721313, 0.9997487664222717, 0.999928891658783, 0.9999445676803589, 0.9999786615371704, 0.9258542656898499] \n",
            "\n",
            "1/1 [==============================] - 0s 22ms/step\n",
            "[11.2    0.28   0.56   1.9    0.075 17.    60.     0.998  3.16   0.58\n",
            "  9.8  ] [0.9999999403953552, 0.9998401999473572, 0.9999749660491943, 0.9999529719352722, 0.9999919533729553, 0.9074644446372986] \n",
            "\n",
            "1/1 [==============================] - 0s 24ms/step\n",
            "[ 7.4     0.7     0.      1.9     0.076  11.     34.      0.9978  3.51\n",
            "  0.56    9.4   ] [0.9995412230491638, 0.9935763478279114, 0.9983341097831726, 0.9997735619544983, 0.9996614456176758, 0.8705431222915649] \n",
            "\n",
            "1/1 [==============================] - 0s 22ms/step\n",
            "[ 7.4     0.66    0.      1.8     0.075  13.     40.      0.9978  3.51\n",
            "  0.56    9.4   ] [0.9999552369117737, 0.9968701601028442, 0.9993581175804138, 0.9998803734779358, 0.9998656511306763, 0.9103403091430664] \n",
            "\n",
            "1/1 [==============================] - 0s 21ms/step\n",
            "[ 7.9     0.6     0.06    1.6     0.069  15.     59.      0.9964  3.3\n",
            "  0.46    9.4   ] [0.9999999403953552, 0.9998851418495178, 0.9999713897705078, 0.9999403953552246, 0.9999858140945435, 0.9024854302406311] \n",
            "\n",
            "1/1 [==============================] - 0s 19ms/step\n",
            "[ 7.3     0.65    0.      1.2     0.065  15.     21.      0.9946  3.39\n",
            "  0.47   10.    ] [0.986746609210968, 0.7368806600570679, 0.9881883859634399, 0.9999674558639526, 0.9990695118904114, 0.9289395809173584] \n",
            "\n",
            "1/1 [==============================] - 0s 20ms/step\n",
            "[ 7.8     0.58    0.02    2.      0.073   9.     18.      0.9968  3.36\n",
            "  0.57    9.5   ] [0.9061988592147827, 0.8821370601654053, 0.9818243980407715, 0.9996761679649353, 0.996501624584198, 0.7459909915924072] \n",
            "\n",
            "1/1 [==============================] - 0s 20ms/step\n",
            "[7.500e+00 5.000e-01 3.600e-01 6.100e+00 7.100e-02 1.700e+01 1.020e+02\n",
            " 9.978e-01 3.350e+00 8.000e-01 1.050e+01] [1.0, 0.9999998807907104, 1.0, 0.9999975562095642, 0.9999997615814209, 0.9573915600776672] \n",
            "\n"
          ]
        }
      ],
      "source": [
        "for item in train[:10]:\n",
        "    for pattern in [item]:\n",
        "        print(pattern, wine.propagate(input=pattern), '\\n')"
      ]
    },
    {
      "attachments": {},
      "cell_type": "markdown",
      "id": "T4toMyEPZkpX",
      "metadata": {
        "id": "T4toMyEPZkpX"
      },
      "source": [
        "##### One-hot encode categorical features"
      ]
    },
    {
      "cell_type": "code",
      "execution_count": null,
      "id": "c55342a1",
      "metadata": {
        "id": "c55342a1",
        "outputId": "10a41fb4-96f4-4f54-a87f-df91bc6c697b"
      },
      "outputs": [
        {
          "name": "stderr",
          "output_type": "stream",
          "text": [
            "C:\\Users\\cyrus\\anaconda3\\envs\\conx2\\lib\\site-packages\\ipykernel_launcher.py:4: SettingWithCopyWarning: \n",
            "A value is trying to be set on a copy of a slice from a DataFrame.\n",
            "Try using .loc[row_indexer,col_indexer] = value instead\n",
            "\n",
            "See the caveats in the documentation: https://pandas.pydata.org/pandas-docs/stable/user_guide/indexing.html#returning-a-view-versus-a-copy\n",
            "  after removing the cwd from sys.path.\n"
          ]
        },
        {
          "data": {
            "text/html": [
              "<div>\n",
              "<style scoped>\n",
              "    .dataframe tbody tr th:only-of-type {\n",
              "        vertical-align: middle;\n",
              "    }\n",
              "\n",
              "    .dataframe tbody tr th {\n",
              "        vertical-align: top;\n",
              "    }\n",
              "\n",
              "    .dataframe thead th {\n",
              "        text-align: right;\n",
              "    }\n",
              "</style>\n",
              "<table border=\"1\" class=\"dataframe\">\n",
              "  <thead>\n",
              "    <tr style=\"text-align: right;\">\n",
              "      <th></th>\n",
              "      <th>0.0</th>\n",
              "      <th>1.0</th>\n",
              "      <th>2.0</th>\n",
              "      <th>3.0</th>\n",
              "      <th>4.0</th>\n",
              "      <th>5.0</th>\n",
              "      <th>val</th>\n",
              "    </tr>\n",
              "  </thead>\n",
              "  <tbody>\n",
              "    <tr>\n",
              "      <th>0</th>\n",
              "      <td>0</td>\n",
              "      <td>0</td>\n",
              "      <td>1</td>\n",
              "      <td>0</td>\n",
              "      <td>0</td>\n",
              "      <td>0</td>\n",
              "      <td>2.0</td>\n",
              "    </tr>\n",
              "    <tr>\n",
              "      <th>1</th>\n",
              "      <td>0</td>\n",
              "      <td>0</td>\n",
              "      <td>1</td>\n",
              "      <td>0</td>\n",
              "      <td>0</td>\n",
              "      <td>0</td>\n",
              "      <td>2.0</td>\n",
              "    </tr>\n",
              "    <tr>\n",
              "      <th>2</th>\n",
              "      <td>0</td>\n",
              "      <td>0</td>\n",
              "      <td>1</td>\n",
              "      <td>0</td>\n",
              "      <td>0</td>\n",
              "      <td>0</td>\n",
              "      <td>2.0</td>\n",
              "    </tr>\n",
              "    <tr>\n",
              "      <th>3</th>\n",
              "      <td>0</td>\n",
              "      <td>0</td>\n",
              "      <td>0</td>\n",
              "      <td>1</td>\n",
              "      <td>0</td>\n",
              "      <td>0</td>\n",
              "      <td>3.0</td>\n",
              "    </tr>\n",
              "    <tr>\n",
              "      <th>4</th>\n",
              "      <td>0</td>\n",
              "      <td>0</td>\n",
              "      <td>1</td>\n",
              "      <td>0</td>\n",
              "      <td>0</td>\n",
              "      <td>0</td>\n",
              "      <td>2.0</td>\n",
              "    </tr>\n",
              "    <tr>\n",
              "      <th>5</th>\n",
              "      <td>0</td>\n",
              "      <td>0</td>\n",
              "      <td>1</td>\n",
              "      <td>0</td>\n",
              "      <td>0</td>\n",
              "      <td>0</td>\n",
              "      <td>2.0</td>\n",
              "    </tr>\n",
              "    <tr>\n",
              "      <th>6</th>\n",
              "      <td>0</td>\n",
              "      <td>0</td>\n",
              "      <td>1</td>\n",
              "      <td>0</td>\n",
              "      <td>0</td>\n",
              "      <td>0</td>\n",
              "      <td>2.0</td>\n",
              "    </tr>\n",
              "    <tr>\n",
              "      <th>7</th>\n",
              "      <td>0</td>\n",
              "      <td>0</td>\n",
              "      <td>0</td>\n",
              "      <td>0</td>\n",
              "      <td>1</td>\n",
              "      <td>0</td>\n",
              "      <td>4.0</td>\n",
              "    </tr>\n",
              "    <tr>\n",
              "      <th>8</th>\n",
              "      <td>0</td>\n",
              "      <td>0</td>\n",
              "      <td>0</td>\n",
              "      <td>0</td>\n",
              "      <td>1</td>\n",
              "      <td>0</td>\n",
              "      <td>4.0</td>\n",
              "    </tr>\n",
              "    <tr>\n",
              "      <th>9</th>\n",
              "      <td>0</td>\n",
              "      <td>0</td>\n",
              "      <td>1</td>\n",
              "      <td>0</td>\n",
              "      <td>0</td>\n",
              "      <td>0</td>\n",
              "      <td>2.0</td>\n",
              "    </tr>\n",
              "    <tr>\n",
              "      <th>10</th>\n",
              "      <td>0</td>\n",
              "      <td>0</td>\n",
              "      <td>1</td>\n",
              "      <td>0</td>\n",
              "      <td>0</td>\n",
              "      <td>0</td>\n",
              "      <td>2.0</td>\n",
              "    </tr>\n",
              "    <tr>\n",
              "      <th>11</th>\n",
              "      <td>0</td>\n",
              "      <td>0</td>\n",
              "      <td>1</td>\n",
              "      <td>0</td>\n",
              "      <td>0</td>\n",
              "      <td>0</td>\n",
              "      <td>2.0</td>\n",
              "    </tr>\n",
              "    <tr>\n",
              "      <th>12</th>\n",
              "      <td>0</td>\n",
              "      <td>0</td>\n",
              "      <td>1</td>\n",
              "      <td>0</td>\n",
              "      <td>0</td>\n",
              "      <td>0</td>\n",
              "      <td>2.0</td>\n",
              "    </tr>\n",
              "    <tr>\n",
              "      <th>13</th>\n",
              "      <td>0</td>\n",
              "      <td>0</td>\n",
              "      <td>1</td>\n",
              "      <td>0</td>\n",
              "      <td>0</td>\n",
              "      <td>0</td>\n",
              "      <td>2.0</td>\n",
              "    </tr>\n",
              "    <tr>\n",
              "      <th>14</th>\n",
              "      <td>0</td>\n",
              "      <td>0</td>\n",
              "      <td>1</td>\n",
              "      <td>0</td>\n",
              "      <td>0</td>\n",
              "      <td>0</td>\n",
              "      <td>2.0</td>\n",
              "    </tr>\n",
              "    <tr>\n",
              "      <th>15</th>\n",
              "      <td>0</td>\n",
              "      <td>0</td>\n",
              "      <td>1</td>\n",
              "      <td>0</td>\n",
              "      <td>0</td>\n",
              "      <td>0</td>\n",
              "      <td>2.0</td>\n",
              "    </tr>\n",
              "    <tr>\n",
              "      <th>16</th>\n",
              "      <td>0</td>\n",
              "      <td>0</td>\n",
              "      <td>0</td>\n",
              "      <td>0</td>\n",
              "      <td>1</td>\n",
              "      <td>0</td>\n",
              "      <td>4.0</td>\n",
              "    </tr>\n",
              "    <tr>\n",
              "      <th>17</th>\n",
              "      <td>0</td>\n",
              "      <td>0</td>\n",
              "      <td>1</td>\n",
              "      <td>0</td>\n",
              "      <td>0</td>\n",
              "      <td>0</td>\n",
              "      <td>2.0</td>\n",
              "    </tr>\n",
              "    <tr>\n",
              "      <th>18</th>\n",
              "      <td>0</td>\n",
              "      <td>1</td>\n",
              "      <td>0</td>\n",
              "      <td>0</td>\n",
              "      <td>0</td>\n",
              "      <td>0</td>\n",
              "      <td>1.0</td>\n",
              "    </tr>\n",
              "    <tr>\n",
              "      <th>19</th>\n",
              "      <td>0</td>\n",
              "      <td>0</td>\n",
              "      <td>0</td>\n",
              "      <td>1</td>\n",
              "      <td>0</td>\n",
              "      <td>0</td>\n",
              "      <td>3.0</td>\n",
              "    </tr>\n",
              "  </tbody>\n",
              "</table>\n",
              "</div>"
            ],
            "text/plain": [
              "    0.0  1.0  2.0  3.0  4.0  5.0  val\n",
              "0     0    0    1    0    0    0  2.0\n",
              "1     0    0    1    0    0    0  2.0\n",
              "2     0    0    1    0    0    0  2.0\n",
              "3     0    0    0    1    0    0  3.0\n",
              "4     0    0    1    0    0    0  2.0\n",
              "5     0    0    1    0    0    0  2.0\n",
              "6     0    0    1    0    0    0  2.0\n",
              "7     0    0    0    0    1    0  4.0\n",
              "8     0    0    0    0    1    0  4.0\n",
              "9     0    0    1    0    0    0  2.0\n",
              "10    0    0    1    0    0    0  2.0\n",
              "11    0    0    1    0    0    0  2.0\n",
              "12    0    0    1    0    0    0  2.0\n",
              "13    0    0    1    0    0    0  2.0\n",
              "14    0    0    1    0    0    0  2.0\n",
              "15    0    0    1    0    0    0  2.0\n",
              "16    0    0    0    0    1    0  4.0\n",
              "17    0    0    1    0    0    0  2.0\n",
              "18    0    1    0    0    0    0  1.0\n",
              "19    0    0    0    1    0    0  3.0"
            ]
          },
          "execution_count": 12,
          "metadata": {},
          "output_type": "execute_result"
        }
      ],
      "source": [
        "\n",
        "labels3 = pd.get_dummies(labels2)\n",
        "view = labels3.head(20)\n",
        "view['val'] = labels2[:20]\n",
        "view"
      ]
    },
    {
      "cell_type": "code",
      "execution_count": null,
      "id": "097dbc86",
      "metadata": {
        "id": "097dbc86",
        "outputId": "47e01159-4f86-47fd-ad47-5bbdad933005"
      },
      "outputs": [
        {
          "data": {
            "text/plain": [
              "array([[0, 0, 1, 0, 0, 0],\n",
              "       [0, 0, 1, 0, 0, 0],\n",
              "       [0, 0, 1, 0, 0, 0],\n",
              "       ...,\n",
              "       [0, 0, 0, 1, 0, 0],\n",
              "       [0, 0, 1, 0, 0, 0],\n",
              "       [0, 0, 0, 1, 0, 0]], dtype=uint8)"
            ]
          },
          "execution_count": 13,
          "metadata": {},
          "output_type": "execute_result"
        }
      ],
      "source": [
        "labels3.values"
      ]
    },
    {
      "cell_type": "code",
      "execution_count": null,
      "id": "ba91870c",
      "metadata": {
        "id": "ba91870c",
        "outputId": "a128d2c5-91f5-46e9-8278-d7995897fc9a"
      },
      "outputs": [
        {
          "data": {
            "text/plain": [
              "array([[7.400e+00, 7.000e-01, 0.000e+00, 1.900e+00, 7.600e-02, 1.100e+01,\n",
              "        3.400e+01, 9.978e-01, 3.510e+00, 5.600e-01, 9.400e+00],\n",
              "       [7.800e+00, 8.800e-01, 0.000e+00, 2.600e+00, 9.800e-02, 2.500e+01,\n",
              "        6.700e+01, 9.968e-01, 3.200e+00, 6.800e-01, 9.800e+00],\n",
              "       [7.800e+00, 7.600e-01, 4.000e-02, 2.300e+00, 9.200e-02, 1.500e+01,\n",
              "        5.400e+01, 9.970e-01, 3.260e+00, 6.500e-01, 9.800e+00],\n",
              "       [1.120e+01, 2.800e-01, 5.600e-01, 1.900e+00, 7.500e-02, 1.700e+01,\n",
              "        6.000e+01, 9.980e-01, 3.160e+00, 5.800e-01, 9.800e+00],\n",
              "       [7.400e+00, 7.000e-01, 0.000e+00, 1.900e+00, 7.600e-02, 1.100e+01,\n",
              "        3.400e+01, 9.978e-01, 3.510e+00, 5.600e-01, 9.400e+00],\n",
              "       [7.400e+00, 6.600e-01, 0.000e+00, 1.800e+00, 7.500e-02, 1.300e+01,\n",
              "        4.000e+01, 9.978e-01, 3.510e+00, 5.600e-01, 9.400e+00],\n",
              "       [7.900e+00, 6.000e-01, 6.000e-02, 1.600e+00, 6.900e-02, 1.500e+01,\n",
              "        5.900e+01, 9.964e-01, 3.300e+00, 4.600e-01, 9.400e+00],\n",
              "       [7.300e+00, 6.500e-01, 0.000e+00, 1.200e+00, 6.500e-02, 1.500e+01,\n",
              "        2.100e+01, 9.946e-01, 3.390e+00, 4.700e-01, 1.000e+01],\n",
              "       [7.800e+00, 5.800e-01, 2.000e-02, 2.000e+00, 7.300e-02, 9.000e+00,\n",
              "        1.800e+01, 9.968e-01, 3.360e+00, 5.700e-01, 9.500e+00],\n",
              "       [7.500e+00, 5.000e-01, 3.600e-01, 6.100e+00, 7.100e-02, 1.700e+01,\n",
              "        1.020e+02, 9.978e-01, 3.350e+00, 8.000e-01, 1.050e+01]])"
            ]
          },
          "execution_count": 14,
          "metadata": {},
          "output_type": "execute_result"
        }
      ],
      "source": [
        "train[:10]"
      ]
    },
    {
      "cell_type": "code",
      "execution_count": null,
      "id": "c279e3bc",
      "metadata": {
        "id": "c279e3bc",
        "outputId": "f68b410d-2e64-40c8-b7a0-23a97c3e86e9"
      },
      "outputs": [
        {
          "data": {
            "text/plain": [
              "[0, 0, 1, 0, 0, 0]"
            ]
          },
          "execution_count": 15,
          "metadata": {},
          "output_type": "execute_result"
        }
      ],
      "source": [
        "list((labels3.values)[0])"
      ]
    },
    {
      "cell_type": "code",
      "execution_count": null,
      "id": "f9b914a4",
      "metadata": {
        "id": "f9b914a4",
        "outputId": "ade20a9f-41e1-4fd3-be9c-2e8890dfd078"
      },
      "outputs": [
        {
          "data": {
            "text/plain": [
              "[([7.4, 0.7, 0.0, 1.9, 0.076, 11.0, 34.0, 0.9978, 3.51, 0.56, 9.4],\n",
              "  [0, 0, 1, 0, 0, 0]),\n",
              " ([7.8, 0.88, 0.0, 2.6, 0.098, 25.0, 67.0, 0.9968, 3.2, 0.68, 9.8],\n",
              "  [0, 0, 1, 0, 0, 0])]"
            ]
          },
          "execution_count": 16,
          "metadata": {},
          "output_type": "execute_result"
        }
      ],
      "source": [
        "list(zip(train, labels3.values))\n",
        "patterns = []\n",
        "\n",
        "for i in range(0, len(train)):\n",
        "    #inputs = list(np.vectorize(int)(train[i]))\n",
        "    inputs = list(train[i])\n",
        "    targets = list((labels3.values)[i])\n",
        "    patterns.append((inputs, targets))\n",
        "    \n",
        "patterns[0:2]"
      ]
    },
    {
      "cell_type": "code",
      "execution_count": null,
      "id": "6eda8008",
      "metadata": {
        "id": "6eda8008",
        "outputId": "d9c34b72-856a-4d85-f287-77d017d03a07"
      },
      "outputs": [
        {
          "name": "stdout",
          "output_type": "stream",
          "text": [
            "1/1 [==============================] - 0s 35ms/step\n",
            "1/1 [==============================] - 0s 16ms/step\n"
          ]
        }
      ],
      "source": [
        "#wine.setInputs(train)\n",
        "#wine.setOutputs(labels2)\n",
        "wine.dataset.load(patterns)"
      ]
    },
    {
      "attachments": {},
      "cell_type": "markdown",
      "id": "aJzq5AVpZ0X_",
      "metadata": {
        "id": "aJzq5AVpZ0X_"
      },
      "source": [
        "#####Training the Neural Network"
      ]
    },
    {
      "cell_type": "code",
      "execution_count": null,
      "id": "8b28c27c",
      "metadata": {
        "id": "8b28c27c",
        "outputId": "4466a098-8c76-4b13-caa8-8f7ee86afaaa"
      },
      "outputs": [
        {
          "name": "stdout",
          "output_type": "stream",
          "text": [
            "Evaluating initial training metrics...\n",
            "Training...\n",
            "       |  Training |  Training \n",
            "Epochs |     Error |  Accuracy \n",
            "------ | --------- | --------- \n",
            "#    0 |   0.66878 |   0.00000 \n",
            "#  100 |   0.08942 |   0.06250 \n"
          ]
        },
        {
          "name": "stderr",
          "output_type": "stream",
          "text": [
            "C:\\Users\\cyrus\\anaconda3\\envs\\conx2\\lib\\site-packages\\conx\\network.py:2606: UserWarning: Matplotlib is currently using agg, which is a non-GUI backend, so cannot show the figure.\n",
            "  plt.pause(0.01)\n"
          ]
        },
        {
          "name": "stdout",
          "output_type": "stream",
          "text": [
            "#  200 |   0.08933 |   0.07815 \n",
            "#  300 |   0.08618 |   0.06067 \n",
            "#  400 |   0.08672 |   0.07008 \n",
            "#  500 |   0.08495 |   0.07133 \n",
            "#  600 |   0.08417 |   0.08065 \n",
            "#  700 |   0.08310 |   0.07750 \n",
            "#  800 |   0.08230 |   0.08756 \n",
            "#  900 |   0.08102 |   0.08379 \n",
            "# 1000 |   0.08062 |   0.08256 \n",
            "# 1100 |   0.07946 |   0.09940 \n",
            "# 1200 |   0.07946 |   0.10002 \n",
            "# 1300 |   0.07691 |   0.11377 \n",
            "# 1400 |   0.07627 |   0.09885 \n",
            "# 1500 |   0.07661 |   0.11129 \n",
            "# 1600 |   0.07554 |   0.12700 \n",
            "# 1700 |   0.07405 |   0.12815 \n",
            "# 1800 |   0.07469 |   0.12698 \n",
            "# 1900 |   0.07411 |   0.13321 \n",
            "# 2000 |   0.07461 |   0.13946 \n",
            "# 2100 |   0.07324 |   0.13331 \n",
            "# 2200 |   0.07159 |   0.13002 \n",
            "# 2300 |   0.07200 |   0.12637 \n",
            "# 2400 |   0.07214 |   0.15258 \n",
            "# 2500 |   0.07227 |   0.18071 \n",
            "# 2600 |   0.07005 |   0.15758 \n",
            "# 2700 |   0.07055 |   0.16573 \n",
            "# 2800 |   0.06999 |   0.16889 \n",
            "# 2900 |   0.06890 |   0.17069 \n",
            "# 3000 |   0.07030 |   0.17823 \n",
            "# 3100 |   0.06852 |   0.18762 \n",
            "# 3200 |   0.06883 |   0.19010 \n",
            "# 3300 |   0.06810 |   0.18139 \n",
            "# 3400 |   0.06749 |   0.18946 \n",
            "# 3500 |   0.06679 |   0.19383 \n",
            "# 3600 |   0.06753 |   0.20194 \n",
            "# 3700 |   0.06703 |   0.20006 \n",
            "# 3800 |   0.06851 |   0.22137 \n",
            "# 3900 |   0.06647 |   0.21952 \n",
            "# 4000 |   0.06743 |   0.21881 \n",
            "# 4100 |   0.06661 |   0.21821 \n",
            "# 4200 |   0.06687 |   0.23504 \n",
            "# 4300 |   0.06653 |   0.23700 \n",
            "# 4400 |   0.06735 |   0.23323 \n",
            "# 4500 |   0.06666 |   0.23329 \n",
            "# 4600 |   0.06550 |   0.23012 \n",
            "# 4700 |   0.06507 |   0.23825 \n",
            "# 4800 |   0.06617 |   0.24512 \n",
            "# 4900 |   0.06614 |   0.24329 \n",
            "# 5000 |   0.06413 |   0.25264 \n",
            "========================================================\n",
            "# 5000 |   0.06413 |   0.25264 \n"
          ]
        }
      ],
      "source": [
        "wine.reset()\n",
        "wine.train(epochs=5000, accuracy=.75, tolerance=.2, report_rate=100, plot=True)"
      ]
    },
    {
      "cell_type": "code",
      "execution_count": null,
      "id": "2b129b8f",
      "metadata": {
        "id": "2b129b8f",
        "outputId": "8d9af9e3-34ea-4d8e-8382-c5f623e26fb6"
      },
      "outputs": [
        {
          "name": "stdout",
          "output_type": "stream",
          "text": [
            "Evaluating initial training metrics...\n",
            "Training...\n",
            "       |  Training |  Training \n",
            "Epochs |     Error |  Accuracy \n",
            "------ | --------- | --------- \n",
            "#    0 |   0.56759 |   0.00000 \n",
            "# 1000 |   0.07623 |   0.11192 \n"
          ]
        },
        {
          "data": {
            "image/png": "[encoded data removed]",
            "text/plain": [
              "<Figure size 1000x400 with 2 Axes>"
            ]
          },
          "metadata": {},
          "output_type": "display_data"
        },
        {
          "name": "stdout",
          "output_type": "stream",
          "text": [
            "========================================================\n",
            "# 1000 |   0.07623 |   0.11192 \n"
          ]
        }
      ],
      "source": [
        "import matplotlib\n",
        "import matplotlib.pyplot as plt\n",
        "#matplotlib.use('pyqt5')\n",
        "matplotlib.use('Qt5Agg')\n",
        "%matplotlib inline\n",
        "\n",
        "wine.reset()\n",
        "wine.train(epochs=1000, accuracy=.75, tolerance=.2, report_rate=1000, plot=True)\n",
        "\n",
        "#plt.savefig(\"mygraph.png\")"
      ]
    },
    {
      "attachments": {},
      "cell_type": "markdown",
      "id": "dhyHn0MlaVT3",
      "metadata": {
        "id": "dhyHn0MlaVT3"
      },
      "source": [
        "##### Constructing a new neural network\n"
      ]
    },
    {
      "cell_type": "code",
      "execution_count": null,
      "id": "1aba1259",
      "metadata": {
        "id": "1aba1259",
        "outputId": "aeb81a22-c9c8-4fab-b8a2-409f6eee3615"
      },
      "outputs": [
        {
          "name": "stdout",
          "output_type": "stream",
          "text": [
            "Model: \"model_22\"\n",
            "_________________________________________________________________\n",
            " Layer (type)                Output Shape              Param #   \n",
            "=================================================================\n",
            " input (InputLayer)          [(None, 11)]              0         \n",
            "                                                                 \n",
            " hidden1 (Dense)             (None, 64)                768       \n",
            "                                                                 \n",
            " hidden2 (Dense)             (None, 32)                2080      \n",
            "                                                                 \n",
            " output (Dense)              (None, 6)                 198       \n",
            "                                                                 \n",
            "=================================================================\n",
            "Total params: 3,046\n",
            "Trainable params: 3,046\n",
            "Non-trainable params: 0\n",
            "_________________________________________________________________\n"
          ]
        }
      ],
      "source": [
        "wine2 = cx.Network(\"Wine Network Number 2\")\n",
        "wine2.add(cx.Layer(\"input\", 11))\n",
        "\n",
        "wine2.add(cx.Layer(\"hidden1\", 64, activation=\"relu\"))\n",
        "wine2.add(cx.Layer(\"hidden2\", 32, activation=\"tanh\"))\n",
        "wine2.add(cx.Layer(\"output\", 6, activation=\"sigmoid\"))\n",
        "wine2.connect()\n",
        "wine2.compile(error=\"mse\", optimizer=\"adam\")\n",
        "wine2.summary()"
      ]
    },
    {
      "attachments": {},
      "cell_type": "markdown",
      "id": "13jcRE-Yag5i",
      "metadata": {
        "id": "13jcRE-Yag5i"
      },
      "source": [
        "##### Visualizing the neural network"
      ]
    },
    {
      "cell_type": "code",
      "execution_count": null,
      "id": "bce5aed5",
      "metadata": {
        "id": "bce5aed5",
        "outputId": "9330fb7c-9c95-47fe-c5c8-375e1d798b8c"
      },
      "outputs": [
        {
          "name": "stdout",
          "output_type": "stream",
          "text": [
            "1/1 [==============================] - 0s 47ms/step\n",
            "1/1 [==============================] - 0s 45ms/step\n",
            "WARNING:tensorflow:5 out of the last 16 calls to <function Model.make_predict_function.<locals>.predict_function at 0x000001CEFD319CA8> triggered tf.function retracing. Tracing is expensive and the excessive number of tracings could be due to (1) creating @tf.function repeatedly in a loop, (2) passing tensors with different shapes, (3) passing Python objects instead of tensors. For (1), please define your @tf.function outside of the loop. For (2), @tf.function has reduce_retracing=True option that can avoid unnecessary retracing. For (3), please refer to https://www.tensorflow.org/guide/function#controlling_retracing and https://www.tensorflow.org/api_docs/python/tf/function for  more details.\n",
            "1/1 [==============================] - 0s 32ms/step\n",
            "WARNING:tensorflow:6 out of the last 17 calls to <function Model.make_predict_function.<locals>.predict_function at 0x000001CEFC26E678> triggered tf.function retracing. Tracing is expensive and the excessive number of tracings could be due to (1) creating @tf.function repeatedly in a loop, (2) passing tensors with different shapes, (3) passing Python objects instead of tensors. For (1), please define your @tf.function outside of the loop. For (2), @tf.function has reduce_retracing=True option that can avoid unnecessary retracing. For (3), please refer to https://www.tensorflow.org/guide/function#controlling_retracing and https://www.tensorflow.org/api_docs/python/tf/function for  more details.\n",
            "1/1 [==============================] - 0s 31ms/step\n"
          ]
        },
        {
          "data": {
            "text/html": [
              "<svg id='Wine Network Number 2' xmlns='http://www.w3.org/2000/svg' xmlns:xlink='http://www.w3.org/1999/xlink' image-rendering=\"pixelated\" width=\"400.0px\" height=\"388.57142857142856px\">\n",
              " <g >\n",
              "  <svg viewBox=\"0 0 350 340\" width=\"400.0px\" height=\"388.57142857142856px\">\n",
              "    <defs>\n",
              "        <marker id=\"arrow\" markerWidth=\"10\" markerHeight=\"10\" refX=\"9\" refY=\"3\" orient=\"auto\" markerUnits=\"strokeWidth\">\n",
              "          <path d=\"M0,0 L0,6 L9,3 z\" fill=\"black\" />\n",
              "        </marker>\n",
              "    </defs><rect x=\"74.0\" y=\"24\" width=\"202\" height=\"52\" style=\"fill:none;stroke:black;stroke-width:2\"/><image id=\"picture-static-Wine Network Number 2-95713_output_1\" class=\"picture-static-Wine Network Number 2-95713_output\" x=\"75.0\" y=\"25\" height=\"50\" width=\"200\" preserveAspectRatio=\"none\" image-rendering=\"optimizeSpeed\" xlink:href=\"data:image/gif;base64,R0lGODlh9gApAIEAAP/9/QAAAAAAAAAAACH5BAEAAAIALAAAAAD2ACkAQAj/AAMIHEiwoMGDCBMqXMiwocOHECNKnEixIkQAGDNq3Mixo8eMAj+KHPkxJMmTJ02iXOlRJcuXIAPAnInRJc2VNm+mlKmTZc6eIn8CbclzKEmhRjciTRqT6cilTqEylZqUqlGrQ7EC1dqTq06vNy2KHUu2rNmzaNM6dBq0KFuOYGnGnTkXZt2Xd326fasxL869fGsCDuwXZeGdgeEO5nv46OK3jZ8+Zhu5bWKlk6Nmnrq5auern7OG3jq6a+mvp8Omlruabmu7r/HG1nu57+y/tZvmBlC55G3DvxHv7k10N+/gjo0T77hcsXLkkp9LHw7dMvXpuZtjxl5bu23ul73rwM5e3Tf4xOIFnydcvvj19+TXM27PnL5z+N3tb8cfXv93/uj5N15+8kEmoHoAslcgZQcet6BmD3IWoWcTglahaBeSlqFpG6LWoWofshaiayPCVqJsJ9KW4Hwp4raigS0CF6Nw8b3I4IzJ2QihjhLySKGPFgKJoZAaEsmhkR4iCaKSIjJJopMmQomilCrWaCWBVLp4ZX84RpeljF/SiOWWAXZpHZkKhpkjmiyq6SWbMLp55ph0cimneXe6B+eNeTIXEAA7\"><title>Layer: output (output)\n",
              " output range: (0, 1)\n",
              " shape = (6,)\n",
              " Keras class = Dense\n",
              " activation = sigmoid</title></image><text x=\"280.0\" y=\"52.0\" font-family=\"monospace\" font-size=\"12\" text-anchor=\"start\" fill=\"black\" alignment-baseline=\"central\" >output</text><path d=\"M 175.0 104 L 175.0 77 \" stroke=\"black\" stroke-width=\"2\" marker-end=\"url(#arrow)\" fill=\"none\" /><rect x=\"74.0\" y=\"104\" width=\"202\" height=\"52\" style=\"fill:none;stroke:black;stroke-width:2\"/><image id=\"picture-static-Wine Network Number 2-95713_hidden2_2\" class=\"picture-static-Wine Network Number 2-95713_hidden2\" x=\"75.0\" y=\"105\" height=\"50\" width=\"200\" preserveAspectRatio=\"none\" image-rendering=\"optimizeSpeed\" xlink:href=\"data:image/gif;base64,R0lGODlhIAABAIEAAP/9/QAAAAAAAAAAACH5BAEAAAEALAAAAAAgAAEAAAgMAAEIHEiwoMGDBAMCADs=\"><title>Layer: hidden2 (hidden)\n",
              " output range: (-1, 1)\n",
              " shape = (32,)\n",
              " Keras class = Dense\n",
              " activation = tanh</title></image><text x=\"280.0\" y=\"132.0\" font-family=\"monospace\" font-size=\"12\" text-anchor=\"start\" fill=\"black\" alignment-baseline=\"central\" >hidden2</text><path d=\"M 175.0 184 L 175.0 157 \" stroke=\"black\" stroke-width=\"2\" marker-end=\"url(#arrow)\" fill=\"none\" /><rect x=\"74.0\" y=\"184\" width=\"202\" height=\"52\" style=\"fill:none;stroke:black;stroke-width:2\"/><image id=\"picture-static-Wine Network Number 2-95713_hidden1_3\" class=\"picture-static-Wine Network Number 2-95713_hidden1\" x=\"75.0\" y=\"185\" height=\"50\" width=\"200\" preserveAspectRatio=\"none\" image-rendering=\"optimizeSpeed\" xlink:href=\"data:image/gif;base64,R0lGODlhQAABAIEAAH8AAAAAAAAAAAAAACH5BAEAAAEALAAAAABAAAEAAAgPAAEIHEiwoMGDCBMqTBgQADs=\"><title>Layer: hidden1 (hidden)\n",
              " output range: (0, +Infinity)\n",
              " shape = (64,)\n",
              " Keras class = Dense\n",
              " activation = relu</title></image><text x=\"280.0\" y=\"212.0\" font-family=\"monospace\" font-size=\"12\" text-anchor=\"start\" fill=\"black\" alignment-baseline=\"central\" >hidden1</text><path d=\"M 175.0 264 L 175.0 237 \" stroke=\"black\" stroke-width=\"2\" marker-end=\"url(#arrow)\" fill=\"none\" /><rect x=\"74.0\" y=\"264\" width=\"202\" height=\"52\" style=\"fill:none;stroke:black;stroke-width:2\"/><image id=\"picture-static-Wine Network Number 2-95713_input_4\" class=\"picture-static-Wine Network Number 2-95713_input\" x=\"75.0\" y=\"265\" height=\"50\" width=\"200\" preserveAspectRatio=\"none\" image-rendering=\"optimizeSpeed\" xlink:href=\"data:image/gif;base64,R0lGODlh8gAWAIEAAH9/fwAAAAAAAAAAACH5BAEAAAIALAAAAADyABYAQAj/AAMIHEiwoMGDCBMqXMiwocOHECNKnEixIkMAGDNq3LhRIMePHz2CHIlRJEmQJk9yTKlSI8uWJQPAXClzpsuaNmPmzPgSZs+WP1UGPTmUZNGRR1HizJk05FKbTWnu1Dk1asenM63enApAK0+sPsECFSuULFGzRtEiVauUq1eqO992ZevULV2pVe9etcs3b9+4erf6HQz4L9PAXw1DRQz3sOKsjOc+Djt5bOWyl89mTrt5bee2hB2HXvy57mjIpfEWPk2ZtWXXmGFrls2ZtmfboFfrFr2bNG7TvVH/Vs27uO/grZG/Vh6b+WzntaHflp7buHDqwK0n176ce3Pvz8FHaRc/nXz14+azo19/PT1x9tvhd5f/nX54++Pxl9d/vj1/9f4FGJ+A8xFYn4H3IZifgvsx2N+AEBYY4YETJljhghc2mOGDEnZIoYcWgoihiBqSyOGHKIaY4ogrrmXRizDGKOOMNNZo40EBAQA7\"><title>Layer: input (input)\n",
              " output range: (-Infinity, +Infinity)\n",
              " shape = (11,)\n",
              " Keras class = Input</title></image><text x=\"280.0\" y=\"292.0\" font-family=\"monospace\" font-size=\"12\" text-anchor=\"start\" fill=\"black\" alignment-baseline=\"central\" >input</text><text x=\"175.0\" y=\"12.5\" font-family=\"monospace\" font-size=\"15\" text-anchor=\"middle\" fill=\"black\" alignment-baseline=\"central\" >Wine Network Number 2</text></svg></g></svg>"
            ],
            "text/plain": [
              "<IPython.core.display.HTML object>"
            ]
          },
          "execution_count": 21,
          "metadata": {},
          "output_type": "execute_result"
        }
      ],
      "source": [
        "wine2.picture()"
      ]
    },
    {
      "cell_type": "code",
      "execution_count": null,
      "id": "f668d545",
      "metadata": {
        "id": "f668d545",
        "outputId": "46a77565-a007-41b4-cf44-ea1048fa0957"
      },
      "outputs": [
        {
          "name": "stdout",
          "output_type": "stream",
          "text": [
            "1/1 [==============================] - 0s 47ms/step\n"
          ]
        },
        {
          "data": {
            "text/plain": [
              "[0.8238439559936523,\n",
              " 0.7007471919059753,\n",
              " 0.8661033511161804,\n",
              " 0.5162646770477295,\n",
              " 0.20339763164520264,\n",
              " 0.5026423335075378]"
            ]
          },
          "execution_count": 22,
          "metadata": {},
          "output_type": "execute_result"
        }
      ],
      "source": [
        "wine2.propagate(input= [6.9, 0.605, 0.12, 10.7, 0.073, 40, 83, 0.9993, 3.45, 0.52, 9.4])"
      ]
    },
    {
      "cell_type": "code",
      "execution_count": null,
      "id": "1dcf9e1d",
      "metadata": {
        "id": "1dcf9e1d",
        "outputId": "3bb40ec2-140f-4c3f-b242-8562e1e292dc"
      },
      "outputs": [
        {
          "name": "stdout",
          "output_type": "stream",
          "text": [
            "1/1 [==============================] - 0s 47ms/step\n",
            "1/1 [==============================] - 0s 16ms/step\n"
          ]
        }
      ],
      "source": [
        "wine2.dataset.load(patterns)"
      ]
    },
    {
      "attachments": {},
      "cell_type": "markdown",
      "id": "SO6LWnCja3Yb",
      "metadata": {
        "id": "SO6LWnCja3Yb"
      },
      "source": [
        "##### Training the neural network for 75% accuracy\n"
      ]
    },
    {
      "cell_type": "code",
      "execution_count": null,
      "id": "c86f4f29",
      "metadata": {
        "id": "c86f4f29",
        "outputId": "16f71f8f-063a-41dd-b5bf-f9029c0df426"
      },
      "outputs": [
        {
          "name": "stdout",
          "output_type": "stream",
          "text": [
            "Evaluating initial training metrics...\n",
            "Training...\n",
            "       |  Training |  Training \n",
            "Epochs |     Error |  Accuracy \n",
            "------ | --------- | --------- \n",
            "#    0 |   0.32477 |   0.00000 \n",
            "#  100 |   0.08431 |   0.06129 \n"
          ]
        },
        {
          "data": {
            "image/png": "[encoded data removed]",
            "text/plain": [
              "<Figure size 1000x400 with 2 Axes>"
            ]
          },
          "metadata": {},
          "output_type": "display_data"
        },
        {
          "name": "stdout",
          "output_type": "stream",
          "text": [
            "#  200 |   0.07707 |   0.08696 \n",
            "#  300 |   0.07240 |   0.14875 \n",
            "#  400 |   0.06910 |   0.20331 \n",
            "#  500 |   0.06380 |   0.25450 \n",
            "#  600 |   0.05973 |   0.27704 \n",
            "#  700 |   0.05651 |   0.33585 \n",
            "#  800 |   0.05456 |   0.35452 \n",
            "#  900 |   0.05209 |   0.38780 \n",
            "# 1000 |   0.04989 |   0.42290 \n",
            "# 1100 |   0.04927 |   0.43913 \n",
            "# 1200 |   0.04769 |   0.45657 \n",
            "# 1300 |   0.04564 |   0.47786 \n",
            "# 1400 |   0.04202 |   0.51038 \n",
            "# 1500 |   0.04141 |   0.54526 \n",
            "# 1600 |   0.03998 |   0.55532 \n",
            "# 1700 |   0.04141 |   0.54843 \n",
            "# 1800 |   0.03792 |   0.58665 \n",
            "# 1900 |   0.03802 |   0.58599 \n",
            "# 2000 |   0.03594 |   0.61044 \n",
            "# 2100 |   0.03787 |   0.59851 \n",
            "# 2200 |   0.03532 |   0.61788 \n",
            "# 2300 |   0.03397 |   0.64470 \n",
            "# 2400 |   0.03357 |   0.65050 \n",
            "# 2500 |   0.03439 |   0.64663 \n",
            "# 2600 |   0.03354 |   0.66163 \n",
            "# 2700 |   0.03352 |   0.65349 \n",
            "# 2800 |   0.03384 |   0.65232 \n",
            "# 2900 |   0.03413 |   0.66042 \n",
            "# 3000 |   0.03139 |   0.68042 \n",
            "# 3100 |   0.03232 |   0.67919 \n",
            "# 3200 |   0.03134 |   0.69544 \n",
            "# 3300 |   0.03006 |   0.71671 \n",
            "# 3400 |   0.03036 |   0.70232 \n",
            "# 3500 |   0.02926 |   0.71724 \n",
            "# 3600 |   0.03166 |   0.67978 \n",
            "# 3700 |   0.02835 |   0.73298 \n",
            "# 3800 |   0.02921 |   0.73236 \n",
            "# 3900 |   0.02949 |   0.71353 \n",
            "# 4000 |   0.02934 |   0.72488 \n",
            "# 4100 |   0.02856 |   0.73855 \n",
            "========================================================\n",
            "# 4127 |   0.02710 |   0.75550 \n"
          ]
        }
      ],
      "source": [
        "wine2.reset()\n",
        "wine2.train(epochs=5000, accuracy=.75, tolerance=.2, report_rate=100, plot=True)"
      ]
    },
    {
      "attachments": {},
      "cell_type": "markdown",
      "id": "59e002bb",
      "metadata": {
        "id": "59e002bb"
      },
      "source": [
        "Implemented wines dataset using tenserflow and keras"
      ]
    },
    {
      "cell_type": "code",
      "execution_count": null,
      "id": "d2d0a0a4",
      "metadata": {
        "id": "d2d0a0a4",
        "outputId": "866768e4-88e7-4757-c692-fbd509d897d1"
      },
      "outputs": [
        {
          "name": "stdout",
          "output_type": "stream",
          "text": [
            "Collecting scikit-learnNote: you may need to restart the kernel to use updated packages.\n",
            "\n",
            "  Downloading scikit_learn-1.0.2-cp37-cp37m-win_amd64.whl (7.1 MB)\n",
            "     ---------------------------------------- 7.1/7.1 MB 8.7 MB/s eta 0:00:00\n",
            "Requirement already satisfied: numpy>=1.14.6 in c:\\users\\cyrus\\anaconda3\\envs\\conx2\\lib\\site-packages (from scikit-learn) (1.21.6)\n",
            "Collecting threadpoolctl>=2.0.0\n",
            "  Downloading threadpoolctl-3.1.0-py3-none-any.whl (14 kB)\n",
            "Collecting scipy>=1.1.0\n",
            "  Downloading scipy-1.7.3-cp37-cp37m-win_amd64.whl (34.1 MB)\n",
            "     --------------------------------------- 34.1/34.1 MB 21.8 MB/s eta 0:00:00\n",
            "Collecting joblib>=0.11\n",
            "  Downloading joblib-1.2.0-py3-none-any.whl (297 kB)\n",
            "     ---------------------------------------- 298.0/298.0 kB ? eta 0:00:00\n",
            "Installing collected packages: threadpoolctl, scipy, joblib, scikit-learn\n",
            "Successfully installed joblib-1.2.0 scikit-learn-1.0.2 scipy-1.7.3 threadpoolctl-3.1.0\n"
          ]
        }
      ],
      "source": [
        "pip install -U scikit-learn"
      ]
    },
    {
      "cell_type": "code",
      "execution_count": null,
      "id": "4d457f3e",
      "metadata": {
        "id": "4d457f3e",
        "outputId": "70a3600c-d5ef-4817-a7e6-30e21ac736c6"
      },
      "outputs": [
        {
          "data": {
            "text/html": [
              "<div>\n",
              "<style scoped>\n",
              "    .dataframe tbody tr th:only-of-type {\n",
              "        vertical-align: middle;\n",
              "    }\n",
              "\n",
              "    .dataframe tbody tr th {\n",
              "        vertical-align: top;\n",
              "    }\n",
              "\n",
              "    .dataframe thead th {\n",
              "        text-align: right;\n",
              "    }\n",
              "</style>\n",
              "<table border=\"1\" class=\"dataframe\">\n",
              "  <thead>\n",
              "    <tr style=\"text-align: right;\">\n",
              "      <th></th>\n",
              "      <th>0</th>\n",
              "      <th>1</th>\n",
              "      <th>2</th>\n",
              "      <th>3</th>\n",
              "      <th>4</th>\n",
              "      <th>5</th>\n",
              "      <th>6</th>\n",
              "      <th>7</th>\n",
              "      <th>8</th>\n",
              "      <th>9</th>\n",
              "      <th>10</th>\n",
              "      <th>11</th>\n",
              "    </tr>\n",
              "  </thead>\n",
              "  <tbody>\n",
              "    <tr>\n",
              "      <th>0</th>\n",
              "      <td>fixed acidity</td>\n",
              "      <td>volatile acidity</td>\n",
              "      <td>citric acid</td>\n",
              "      <td>residual sugar</td>\n",
              "      <td>chlorides</td>\n",
              "      <td>free sulfur dioxide</td>\n",
              "      <td>total sulfur dioxide</td>\n",
              "      <td>density</td>\n",
              "      <td>pH</td>\n",
              "      <td>sulphates</td>\n",
              "      <td>alcohol</td>\n",
              "      <td>quality</td>\n",
              "    </tr>\n",
              "    <tr>\n",
              "      <th>1</th>\n",
              "      <td>7.4</td>\n",
              "      <td>0.7</td>\n",
              "      <td>0</td>\n",
              "      <td>1.9</td>\n",
              "      <td>0.076</td>\n",
              "      <td>11</td>\n",
              "      <td>34</td>\n",
              "      <td>0.9978</td>\n",
              "      <td>3.51</td>\n",
              "      <td>0.56</td>\n",
              "      <td>9.4</td>\n",
              "      <td>5</td>\n",
              "    </tr>\n",
              "    <tr>\n",
              "      <th>2</th>\n",
              "      <td>7.8</td>\n",
              "      <td>0.88</td>\n",
              "      <td>0</td>\n",
              "      <td>2.6</td>\n",
              "      <td>0.098</td>\n",
              "      <td>25</td>\n",
              "      <td>67</td>\n",
              "      <td>0.9968</td>\n",
              "      <td>3.2</td>\n",
              "      <td>0.68</td>\n",
              "      <td>9.8</td>\n",
              "      <td>5</td>\n",
              "    </tr>\n",
              "    <tr>\n",
              "      <th>3</th>\n",
              "      <td>7.8</td>\n",
              "      <td>0.76</td>\n",
              "      <td>0.04</td>\n",
              "      <td>2.3</td>\n",
              "      <td>0.092</td>\n",
              "      <td>15</td>\n",
              "      <td>54</td>\n",
              "      <td>0.997</td>\n",
              "      <td>3.26</td>\n",
              "      <td>0.65</td>\n",
              "      <td>9.8</td>\n",
              "      <td>5</td>\n",
              "    </tr>\n",
              "    <tr>\n",
              "      <th>4</th>\n",
              "      <td>11.2</td>\n",
              "      <td>0.28</td>\n",
              "      <td>0.56</td>\n",
              "      <td>1.9</td>\n",
              "      <td>0.075</td>\n",
              "      <td>17</td>\n",
              "      <td>60</td>\n",
              "      <td>0.998</td>\n",
              "      <td>3.16</td>\n",
              "      <td>0.58</td>\n",
              "      <td>9.8</td>\n",
              "      <td>6</td>\n",
              "    </tr>\n",
              "    <tr>\n",
              "      <th>...</th>\n",
              "      <td>...</td>\n",
              "      <td>...</td>\n",
              "      <td>...</td>\n",
              "      <td>...</td>\n",
              "      <td>...</td>\n",
              "      <td>...</td>\n",
              "      <td>...</td>\n",
              "      <td>...</td>\n",
              "      <td>...</td>\n",
              "      <td>...</td>\n",
              "      <td>...</td>\n",
              "      <td>...</td>\n",
              "    </tr>\n",
              "    <tr>\n",
              "      <th>1595</th>\n",
              "      <td>6.2</td>\n",
              "      <td>0.6</td>\n",
              "      <td>0.08</td>\n",
              "      <td>2</td>\n",
              "      <td>0.09</td>\n",
              "      <td>32</td>\n",
              "      <td>44</td>\n",
              "      <td>0.9949</td>\n",
              "      <td>3.45</td>\n",
              "      <td>0.58</td>\n",
              "      <td>10.5</td>\n",
              "      <td>5</td>\n",
              "    </tr>\n",
              "    <tr>\n",
              "      <th>1596</th>\n",
              "      <td>5.9</td>\n",
              "      <td>0.55</td>\n",
              "      <td>0.1</td>\n",
              "      <td>2.2</td>\n",
              "      <td>0.062</td>\n",
              "      <td>39</td>\n",
              "      <td>51</td>\n",
              "      <td>0.99512</td>\n",
              "      <td>3.52</td>\n",
              "      <td>0.76</td>\n",
              "      <td>11.2</td>\n",
              "      <td>6</td>\n",
              "    </tr>\n",
              "    <tr>\n",
              "      <th>1597</th>\n",
              "      <td>6.3</td>\n",
              "      <td>0.51</td>\n",
              "      <td>0.13</td>\n",
              "      <td>2.3</td>\n",
              "      <td>0.076</td>\n",
              "      <td>29</td>\n",
              "      <td>40</td>\n",
              "      <td>0.99574</td>\n",
              "      <td>3.42</td>\n",
              "      <td>0.75</td>\n",
              "      <td>11</td>\n",
              "      <td>6</td>\n",
              "    </tr>\n",
              "    <tr>\n",
              "      <th>1598</th>\n",
              "      <td>5.9</td>\n",
              "      <td>0.645</td>\n",
              "      <td>0.12</td>\n",
              "      <td>2</td>\n",
              "      <td>0.075</td>\n",
              "      <td>32</td>\n",
              "      <td>44</td>\n",
              "      <td>0.99547</td>\n",
              "      <td>3.57</td>\n",
              "      <td>0.71</td>\n",
              "      <td>10.2</td>\n",
              "      <td>5</td>\n",
              "    </tr>\n",
              "    <tr>\n",
              "      <th>1599</th>\n",
              "      <td>6</td>\n",
              "      <td>0.31</td>\n",
              "      <td>0.47</td>\n",
              "      <td>3.6</td>\n",
              "      <td>0.067</td>\n",
              "      <td>18</td>\n",
              "      <td>42</td>\n",
              "      <td>0.99549</td>\n",
              "      <td>3.39</td>\n",
              "      <td>0.66</td>\n",
              "      <td>11</td>\n",
              "      <td>6</td>\n",
              "    </tr>\n",
              "  </tbody>\n",
              "</table>\n",
              "<p>1600 rows × 12 columns</p>\n",
              "</div>"
            ],
            "text/plain": [
              "                 0                 1            2               3          4   \\\n",
              "0     fixed acidity  volatile acidity  citric acid  residual sugar  chlorides   \n",
              "1               7.4               0.7            0             1.9      0.076   \n",
              "2               7.8              0.88            0             2.6      0.098   \n",
              "3               7.8              0.76         0.04             2.3      0.092   \n",
              "4              11.2              0.28         0.56             1.9      0.075   \n",
              "...             ...               ...          ...             ...        ...   \n",
              "1595            6.2               0.6         0.08               2       0.09   \n",
              "1596            5.9              0.55          0.1             2.2      0.062   \n",
              "1597            6.3              0.51         0.13             2.3      0.076   \n",
              "1598            5.9             0.645         0.12               2      0.075   \n",
              "1599              6              0.31         0.47             3.6      0.067   \n",
              "\n",
              "                       5                     6        7     8          9   \\\n",
              "0     free sulfur dioxide  total sulfur dioxide  density    pH  sulphates   \n",
              "1                      11                    34   0.9978  3.51       0.56   \n",
              "2                      25                    67   0.9968   3.2       0.68   \n",
              "3                      15                    54    0.997  3.26       0.65   \n",
              "4                      17                    60    0.998  3.16       0.58   \n",
              "...                   ...                   ...      ...   ...        ...   \n",
              "1595                   32                    44   0.9949  3.45       0.58   \n",
              "1596                   39                    51  0.99512  3.52       0.76   \n",
              "1597                   29                    40  0.99574  3.42       0.75   \n",
              "1598                   32                    44  0.99547  3.57       0.71   \n",
              "1599                   18                    42  0.99549  3.39       0.66   \n",
              "\n",
              "           10       11  \n",
              "0     alcohol  quality  \n",
              "1         9.4        5  \n",
              "2         9.8        5  \n",
              "3         9.8        5  \n",
              "4         9.8        6  \n",
              "...       ...      ...  \n",
              "1595     10.5        5  \n",
              "1596     11.2        6  \n",
              "1597       11        6  \n",
              "1598     10.2        5  \n",
              "1599       11        6  \n",
              "\n",
              "[1600 rows x 12 columns]"
            ]
          },
          "execution_count": 28,
          "metadata": {},
          "output_type": "execute_result"
        }
      ],
      "source": [
        "import pandas as pd\n",
        "import numpy as np\n",
        "from sklearn.datasets import load_wine\n",
        "from sklearn.model_selection import train_test_split\n",
        "from sklearn.preprocessing import StandardScaler\n",
        "from tensorflow.keras.layers import Input, Dense\n",
        "from tensorflow.keras.models import Model\n",
        "\n",
        "wines = pd.read_csv('C:/Users/cyrus/Desktop/neural modeling/W7L2/data/winequality-red.csv',header=None)\n",
        "wines\n"
      ]
    },
    {
      "cell_type": "code",
      "execution_count": null,
      "id": "d3a8d8fb",
      "metadata": {
        "id": "d3a8d8fb",
        "outputId": "59bffb44-3b19-494c-c660-bf9907647726"
      },
      "outputs": [
        {
          "data": {
            "text/plain": [
              "array(['quality', '5', '5', '5', '6', '5', '5', '5', '7', '7', '5', '5',\n",
              "       '5', '5', '5', '5', '5', '7', '5', '4', '6', '6', '5', '5', '5',\n",
              "       '6', '5', '5', '5', '5', '6', '5', '6', '5', '6', '5', '6', '6',\n",
              "       '7', '4', '5', '5', '4', '6', '5', '5', '4', '5', '5', '5', '5',\n",
              "       '5', '6', '6', '5', '6', '5', '5', '5', '5', '6', '5', '5', '7',\n",
              "       '5', '5', '5', '5', '5', '5', '6', '6', '5', '5', '4', '5', '5',\n",
              "       '5', '6', '5', '4', '5', '5', '5', '5', '6', '5', '6', '5', '5',\n",
              "       '5', '5', '6', '5', '5', '4', '6', '5', '5', '5'], dtype=object)"
            ]
          },
          "execution_count": 29,
          "metadata": {},
          "output_type": "execute_result"
        }
      ],
      "source": [
        "labels = wines.loc[:,11].values\n",
        "labels[0:100]"
      ]
    },
    {
      "cell_type": "code",
      "execution_count": null,
      "id": "e9325c90",
      "metadata": {
        "id": "e9325c90",
        "outputId": "ea2d85d4-739e-4bde-95c3-b005d18c28ac"
      },
      "outputs": [
        {
          "data": {
            "text/plain": [
              "{'3', '4', '5', '6', '7', '8', 'quality'}"
            ]
          },
          "execution_count": 30,
          "metadata": {},
          "output_type": "execute_result"
        }
      ],
      "source": [
        "set(labels)"
      ]
    },
    {
      "cell_type": "code",
      "execution_count": null,
      "id": "7ae05f71",
      "metadata": {
        "id": "7ae05f71",
        "outputId": "de5e06d9-4132-4913-ef9a-cb0e74ded346"
      },
      "outputs": [
        {
          "data": {
            "text/plain": [
              "array([[7.4  , 0.7  , 0.   , ..., 0.56 , 9.4  , 5.   ],\n",
              "       [7.8  , 0.88 , 0.   , ..., 0.68 , 9.8  , 5.   ],\n",
              "       [7.8  , 0.76 , 0.04 , ..., 0.65 , 9.8  , 5.   ],\n",
              "       ...,\n",
              "       [7.   , 0.5  , 0.25 , ..., 0.63 , 9.2  , 5.   ],\n",
              "       [7.6  , 0.9  , 0.06 , ..., 0.56 , 9.8  , 5.   ],\n",
              "       [8.1  , 0.545, 0.18 , ..., 0.59 , 9.   , 6.   ]])"
            ]
          },
          "execution_count": 31,
          "metadata": {},
          "output_type": "execute_result"
        }
      ],
      "source": [
        "X = wines.loc[1:, :11].values.astype(float)\n",
        "X=X[0:100]\n",
        "X"
      ]
    },
    {
      "cell_type": "code",
      "execution_count": null,
      "id": "b91f7a91",
      "metadata": {
        "id": "b91f7a91",
        "outputId": "25b29709-52e2-46f2-80cd-7ac80c53a110"
      },
      "outputs": [
        {
          "data": {
            "text/plain": [
              "array([5., 5., 5., 6., 5., 5., 5., 7., 7., 5., 5., 5., 5., 5., 5., 5., 7.,\n",
              "       5., 4., 6., 6., 5., 5., 5., 6., 5., 5., 5., 5., 6., 5., 6., 5., 6.,\n",
              "       5., 6., 6., 7., 4., 5., 5., 4., 6., 5., 5., 4., 5., 5., 5., 5., 5.,\n",
              "       6., 6., 5., 6., 5., 5., 5., 5., 6., 5., 5., 7., 5., 5., 5., 5., 5.,\n",
              "       5., 6., 6., 5., 5., 4., 5., 5., 5., 6., 5., 4., 5., 5., 5., 5., 6.,\n",
              "       5., 6., 5., 5., 5., 5., 6., 5., 5., 4., 6., 5., 5., 5., 6.])"
            ]
          },
          "execution_count": 32,
          "metadata": {},
          "output_type": "execute_result"
        }
      ],
      "source": [
        "labels = wines.loc[1:, 11].values.astype(float)\n",
        "y=labels[0:100]\n",
        "y"
      ]
    },
    {
      "cell_type": "code",
      "execution_count": null,
      "id": "fa91b9e8",
      "metadata": {
        "id": "fa91b9e8",
        "outputId": "e6204f16-6571-4db0-ca8b-7723c90527a3"
      },
      "outputs": [
        {
          "data": {
            "text/plain": [
              "{0.0, 1.0, 2.0, 3.0, 4.0, 5.0}"
            ]
          },
          "execution_count": 33,
          "metadata": {},
          "output_type": "execute_result"
        }
      ],
      "source": [
        "labels2 = map(lambda x: x - 3, labels)\n",
        "labels2 = list(labels2)\n",
        "set(labels2)"
      ]
    },
    {
      "cell_type": "code",
      "execution_count": null,
      "id": "6d3df8e0",
      "metadata": {
        "id": "6d3df8e0"
      },
      "outputs": [],
      "source": [
        "X_train, X_test, y_train, y_test = train_test_split(X,y, test_size=0.2, random_state=42)"
      ]
    },
    {
      "cell_type": "code",
      "execution_count": null,
      "id": "a03bf0c5",
      "metadata": {
        "id": "a03bf0c5"
      },
      "outputs": [],
      "source": [
        "from sklearn.preprocessing import StandardScaler\n",
        "\n",
        "# Scale the features\n",
        "scaler = StandardScaler()\n",
        "X_train = scaler.fit_transform(X_train)\n",
        "X_test = scaler.transform(X_test)\n",
        "\n",
        "# Convert the target variable to a one-hot encoding\n",
        "y_train = pd.get_dummies(y_train)\n",
        "y_test = pd.get_dummies(y_test)\n"
      ]
    },
    {
      "cell_type": "code",
      "execution_count": null,
      "id": "8196f5ad",
      "metadata": {
        "id": "8196f5ad",
        "outputId": "d88a9928-4ac6-4f22-d278-07e6625924da"
      },
      "outputs": [
        {
          "data": {
            "text/plain": [
              "(1599, 11)"
            ]
          },
          "execution_count": 36,
          "metadata": {},
          "output_type": "execute_result"
        }
      ],
      "source": [
        "train = wines.loc[1:,:10].values.astype(float)\n",
        "np.shape(train)"
      ]
    },
    {
      "attachments": {},
      "cell_type": "markdown",
      "id": "JH60T26sbY2W",
      "metadata": {
        "id": "JH60T26sbY2W"
      },
      "source": [
        "##### Constructing a neural network using tensorflow"
      ]
    },
    {
      "cell_type": "code",
      "execution_count": null,
      "id": "b022b1d2",
      "metadata": {
        "id": "b022b1d2"
      },
      "outputs": [],
      "source": [
        "from tensorflow.keras.models import Sequential\n",
        "from tensorflow.keras.layers import Dense\n",
        "\n",
        "model = Sequential()\n",
        "model.add(Dense(11, input_dim=X_train.shape[1], activation='relu'))\n",
        "model.add(Dense(64, activation='relu'))\n",
        "model.add(Dense(32, activation='relu'))\n",
        "model.add(Dense(6, activation=\"softmax\"))\n",
        "model.add(Dense(1, activation=\"sigmoid\"))\n",
        "model.compile(loss='mse', optimizer='adam', metrics=['accuracy'])\n"
      ]
    },
    {
      "attachments": {},
      "cell_type": "markdown",
      "id": "3BNW_LZVbtFP",
      "metadata": {
        "id": "3BNW_LZVbtFP"
      },
      "source": [
        "##### Training the network with accuracy of 66%"
      ]
    },
    {
      "cell_type": "code",
      "execution_count": null,
      "id": "0d01cee0",
      "metadata": {
        "id": "0d01cee0",
        "outputId": "0dad3d3e-aaac-4cff-beda-5e3acb0da241"
      },
      "outputs": [
        {
          "name": "stdout",
          "output_type": "stream",
          "text": [
            "Epoch 1/200\n",
            "3/3 [==============================] - 1s 70ms/step - loss: 0.2545 - accuracy: 0.4000 - val_loss: 0.2508 - val_accuracy: 0.4667\n",
            "Epoch 2/200\n",
            "3/3 [==============================] - 0s 8ms/step - loss: 0.2474 - accuracy: 0.5500 - val_loss: 0.2464 - val_accuracy: 0.5833\n",
            "Epoch 3/200\n",
            "3/3 [==============================] - 0s 19ms/step - loss: 0.2407 - accuracy: 0.6250 - val_loss: 0.2423 - val_accuracy: 0.6167\n",
            "Epoch 4/200\n",
            "3/3 [==============================] - 0s 16ms/step - loss: 0.2344 - accuracy: 0.6875 - val_loss: 0.2386 - val_accuracy: 0.6667\n",
            "Epoch 5/200\n",
            "3/3 [==============================] - 0s 21ms/step - loss: 0.2283 - accuracy: 0.7312 - val_loss: 0.2352 - val_accuracy: 0.6667\n",
            "Epoch 6/200\n",
            "3/3 [==============================] - 0s 12ms/step - loss: 0.2225 - accuracy: 0.7437 - val_loss: 0.2321 - val_accuracy: 0.6667\n",
            "Epoch 7/200\n",
            "3/3 [==============================] - 0s 17ms/step - loss: 0.2170 - accuracy: 0.7500 - val_loss: 0.2293 - val_accuracy: 0.6667\n",
            "Epoch 8/200\n",
            "3/3 [==============================] - 0s 17ms/step - loss: 0.2118 - accuracy: 0.7500 - val_loss: 0.2271 - val_accuracy: 0.6667\n",
            "Epoch 9/200\n",
            "3/3 [==============================] - 0s 16ms/step - loss: 0.2071 - accuracy: 0.7500 - val_loss: 0.2254 - val_accuracy: 0.6667\n",
            "Epoch 10/200\n",
            "3/3 [==============================] - 0s 16ms/step - loss: 0.2032 - accuracy: 0.7500 - val_loss: 0.2242 - val_accuracy: 0.6667\n",
            "Epoch 11/200\n",
            "3/3 [==============================] - 0s 12ms/step - loss: 0.1997 - accuracy: 0.7500 - val_loss: 0.2234 - val_accuracy: 0.6667\n",
            "Epoch 12/200\n",
            "3/3 [==============================] - 0s 17ms/step - loss: 0.1969 - accuracy: 0.7500 - val_loss: 0.2230 - val_accuracy: 0.6667\n",
            "Epoch 13/200\n",
            "3/3 [==============================] - 0s 18ms/step - loss: 0.1949 - accuracy: 0.7500 - val_loss: 0.2229 - val_accuracy: 0.6667\n",
            "Epoch 14/200\n",
            "3/3 [==============================] - 0s 13ms/step - loss: 0.1932 - accuracy: 0.7500 - val_loss: 0.2230 - val_accuracy: 0.6667\n",
            "Epoch 15/200\n",
            "3/3 [==============================] - 0s 17ms/step - loss: 0.1919 - accuracy: 0.7500 - val_loss: 0.2232 - val_accuracy: 0.6667\n",
            "Epoch 16/200\n",
            "3/3 [==============================] - 0s 17ms/step - loss: 0.1911 - accuracy: 0.7500 - val_loss: 0.2235 - val_accuracy: 0.6667\n",
            "Epoch 17/200\n",
            "3/3 [==============================] - 0s 9ms/step - loss: 0.1904 - accuracy: 0.7500 - val_loss: 0.2237 - val_accuracy: 0.6667\n",
            "Epoch 18/200\n",
            "3/3 [==============================] - 0s 16ms/step - loss: 0.1899 - accuracy: 0.7500 - val_loss: 0.2240 - val_accuracy: 0.6667\n",
            "Epoch 19/200\n",
            "3/3 [==============================] - 0s 15ms/step - loss: 0.1895 - accuracy: 0.7500 - val_loss: 0.2242 - val_accuracy: 0.6667\n",
            "Epoch 20/200\n",
            "3/3 [==============================] - 0s 15ms/step - loss: 0.1893 - accuracy: 0.7500 - val_loss: 0.2244 - val_accuracy: 0.6667\n",
            "Epoch 21/200\n",
            "3/3 [==============================] - 0s 15ms/step - loss: 0.1891 - accuracy: 0.7500 - val_loss: 0.2245 - val_accuracy: 0.6667\n",
            "Epoch 22/200\n",
            "3/3 [==============================] - 0s 13ms/step - loss: 0.1889 - accuracy: 0.7500 - val_loss: 0.2247 - val_accuracy: 0.6667\n",
            "Epoch 23/200\n",
            "3/3 [==============================] - 0s 8ms/step - loss: 0.1888 - accuracy: 0.7500 - val_loss: 0.2248 - val_accuracy: 0.6667\n",
            "Epoch 24/200\n",
            "3/3 [==============================] - 0s 8ms/step - loss: 0.1887 - accuracy: 0.7500 - val_loss: 0.2249 - val_accuracy: 0.6667\n",
            "Epoch 25/200\n",
            "3/3 [==============================] - 0s 9ms/step - loss: 0.1886 - accuracy: 0.7500 - val_loss: 0.2250 - val_accuracy: 0.6667\n",
            "Epoch 26/200\n",
            "3/3 [==============================] - 0s 15ms/step - loss: 0.1885 - accuracy: 0.7500 - val_loss: 0.2251 - val_accuracy: 0.6667\n",
            "Epoch 27/200\n",
            "3/3 [==============================] - 0s 15ms/step - loss: 0.1885 - accuracy: 0.7500 - val_loss: 0.2252 - val_accuracy: 0.6667\n",
            "Epoch 28/200\n",
            "3/3 [==============================] - 0s 16ms/step - loss: 0.1884 - accuracy: 0.7500 - val_loss: 0.2252 - val_accuracy: 0.6667\n",
            "Epoch 29/200\n",
            "3/3 [==============================] - 0s 16ms/step - loss: 0.1884 - accuracy: 0.7500 - val_loss: 0.2253 - val_accuracy: 0.6667\n",
            "Epoch 30/200\n",
            "3/3 [==============================] - 0s 13ms/step - loss: 0.1883 - accuracy: 0.7500 - val_loss: 0.2254 - val_accuracy: 0.6667\n",
            "Epoch 31/200\n",
            "3/3 [==============================] - 0s 17ms/step - loss: 0.1883 - accuracy: 0.7500 - val_loss: 0.2255 - val_accuracy: 0.6667\n",
            "Epoch 32/200\n",
            "3/3 [==============================] - 0s 16ms/step - loss: 0.1882 - accuracy: 0.7500 - val_loss: 0.2255 - val_accuracy: 0.6667\n",
            "Epoch 33/200\n",
            "3/3 [==============================] - 0s 20ms/step - loss: 0.1882 - accuracy: 0.7500 - val_loss: 0.2256 - val_accuracy: 0.6667\n",
            "Epoch 34/200\n",
            "3/3 [==============================] - 0s 15ms/step - loss: 0.1882 - accuracy: 0.7500 - val_loss: 0.2257 - val_accuracy: 0.6667\n",
            "Epoch 35/200\n",
            "3/3 [==============================] - 0s 18ms/step - loss: 0.1882 - accuracy: 0.7500 - val_loss: 0.2257 - val_accuracy: 0.6667\n",
            "Epoch 36/200\n",
            "3/3 [==============================] - 0s 21ms/step - loss: 0.1881 - accuracy: 0.7500 - val_loss: 0.2258 - val_accuracy: 0.6667\n",
            "Epoch 37/200\n",
            "3/3 [==============================] - 0s 16ms/step - loss: 0.1881 - accuracy: 0.7500 - val_loss: 0.2258 - val_accuracy: 0.6667\n",
            "Epoch 38/200\n",
            "3/3 [==============================] - 0s 15ms/step - loss: 0.1881 - accuracy: 0.7500 - val_loss: 0.2259 - val_accuracy: 0.6667\n",
            "Epoch 39/200\n",
            "3/3 [==============================] - 0s 14ms/step - loss: 0.1880 - accuracy: 0.7500 - val_loss: 0.2259 - val_accuracy: 0.6667\n",
            "Epoch 40/200\n",
            "3/3 [==============================] - 0s 15ms/step - loss: 0.1880 - accuracy: 0.7500 - val_loss: 0.2260 - val_accuracy: 0.6667\n",
            "Epoch 41/200\n",
            "3/3 [==============================] - 0s 15ms/step - loss: 0.1880 - accuracy: 0.7500 - val_loss: 0.2261 - val_accuracy: 0.6667\n",
            "Epoch 42/200\n",
            "3/3 [==============================] - 0s 16ms/step - loss: 0.1880 - accuracy: 0.7500 - val_loss: 0.2261 - val_accuracy: 0.6667\n",
            "Epoch 43/200\n",
            "3/3 [==============================] - 0s 16ms/step - loss: 0.1880 - accuracy: 0.7500 - val_loss: 0.2262 - val_accuracy: 0.6667\n",
            "Epoch 44/200\n",
            "3/3 [==============================] - 0s 12ms/step - loss: 0.1879 - accuracy: 0.7500 - val_loss: 0.2262 - val_accuracy: 0.6667\n",
            "Epoch 45/200\n",
            "3/3 [==============================] - 0s 18ms/step - loss: 0.1879 - accuracy: 0.7500 - val_loss: 0.2263 - val_accuracy: 0.6667\n",
            "Epoch 46/200\n",
            "3/3 [==============================] - 0s 20ms/step - loss: 0.1879 - accuracy: 0.7500 - val_loss: 0.2263 - val_accuracy: 0.6667\n",
            "Epoch 47/200\n",
            "3/3 [==============================] - 0s 19ms/step - loss: 0.1879 - accuracy: 0.7500 - val_loss: 0.2264 - val_accuracy: 0.6667\n",
            "Epoch 48/200\n",
            "3/3 [==============================] - 0s 19ms/step - loss: 0.1879 - accuracy: 0.7500 - val_loss: 0.2264 - val_accuracy: 0.6667\n",
            "Epoch 49/200\n",
            "3/3 [==============================] - 0s 26ms/step - loss: 0.1879 - accuracy: 0.7500 - val_loss: 0.2265 - val_accuracy: 0.6667\n",
            "Epoch 50/200\n",
            "3/3 [==============================] - 0s 18ms/step - loss: 0.1878 - accuracy: 0.7500 - val_loss: 0.2265 - val_accuracy: 0.6667\n",
            "Epoch 51/200\n",
            "3/3 [==============================] - 0s 12ms/step - loss: 0.1878 - accuracy: 0.7500 - val_loss: 0.2266 - val_accuracy: 0.6667\n",
            "Epoch 52/200\n",
            "3/3 [==============================] - 0s 16ms/step - loss: 0.1878 - accuracy: 0.7500 - val_loss: 0.2266 - val_accuracy: 0.6667\n",
            "Epoch 53/200\n",
            "3/3 [==============================] - 0s 18ms/step - loss: 0.1878 - accuracy: 0.7500 - val_loss: 0.2267 - val_accuracy: 0.6667\n",
            "Epoch 54/200\n",
            "3/3 [==============================] - 0s 13ms/step - loss: 0.1878 - accuracy: 0.7500 - val_loss: 0.2267 - val_accuracy: 0.6667\n",
            "Epoch 55/200\n",
            "3/3 [==============================] - 0s 16ms/step - loss: 0.1878 - accuracy: 0.7500 - val_loss: 0.2268 - val_accuracy: 0.6667\n",
            "Epoch 56/200\n",
            "3/3 [==============================] - 0s 16ms/step - loss: 0.1878 - accuracy: 0.7500 - val_loss: 0.2268 - val_accuracy: 0.6667\n",
            "Epoch 57/200\n",
            "3/3 [==============================] - 0s 14ms/step - loss: 0.1878 - accuracy: 0.7500 - val_loss: 0.2269 - val_accuracy: 0.6667\n",
            "Epoch 58/200\n",
            "3/3 [==============================] - 0s 19ms/step - loss: 0.1877 - accuracy: 0.7500 - val_loss: 0.2269 - val_accuracy: 0.6667\n",
            "Epoch 59/200\n"
          ]
        },
        {
          "name": "stdout",
          "output_type": "stream",
          "text": [
            "3/3 [==============================] - 0s 10ms/step - loss: 0.1877 - accuracy: 0.7500 - val_loss: 0.2269 - val_accuracy: 0.6667\n",
            "Epoch 60/200\n",
            "3/3 [==============================] - 0s 7ms/step - loss: 0.1877 - accuracy: 0.7500 - val_loss: 0.2270 - val_accuracy: 0.6667\n",
            "Epoch 61/200\n",
            "3/3 [==============================] - 0s 8ms/step - loss: 0.1877 - accuracy: 0.7500 - val_loss: 0.2270 - val_accuracy: 0.6667\n",
            "Epoch 62/200\n",
            "3/3 [==============================] - 0s 8ms/step - loss: 0.1877 - accuracy: 0.7500 - val_loss: 0.2271 - val_accuracy: 0.6667\n",
            "Epoch 63/200\n",
            "3/3 [==============================] - 0s 29ms/step - loss: 0.1877 - accuracy: 0.7500 - val_loss: 0.2271 - val_accuracy: 0.6667\n",
            "Epoch 64/200\n",
            "3/3 [==============================] - 0s 9ms/step - loss: 0.1877 - accuracy: 0.7500 - val_loss: 0.2272 - val_accuracy: 0.6667\n",
            "Epoch 65/200\n",
            "3/3 [==============================] - 0s 16ms/step - loss: 0.1877 - accuracy: 0.7500 - val_loss: 0.2272 - val_accuracy: 0.6667\n",
            "Epoch 66/200\n",
            "3/3 [==============================] - 0s 16ms/step - loss: 0.1877 - accuracy: 0.7500 - val_loss: 0.2272 - val_accuracy: 0.6667\n",
            "Epoch 67/200\n",
            "3/3 [==============================] - 0s 16ms/step - loss: 0.1877 - accuracy: 0.7500 - val_loss: 0.2273 - val_accuracy: 0.6667\n",
            "Epoch 68/200\n",
            "3/3 [==============================] - 0s 16ms/step - loss: 0.1877 - accuracy: 0.7500 - val_loss: 0.2273 - val_accuracy: 0.6667\n",
            "Epoch 69/200\n",
            "3/3 [==============================] - 0s 8ms/step - loss: 0.1877 - accuracy: 0.7500 - val_loss: 0.2274 - val_accuracy: 0.6667\n",
            "Epoch 70/200\n",
            "3/3 [==============================] - 0s 8ms/step - loss: 0.1876 - accuracy: 0.7500 - val_loss: 0.2274 - val_accuracy: 0.6667\n",
            "Epoch 71/200\n",
            "3/3 [==============================] - 0s 16ms/step - loss: 0.1876 - accuracy: 0.7500 - val_loss: 0.2274 - val_accuracy: 0.6667\n",
            "Epoch 72/200\n",
            "3/3 [==============================] - 0s 16ms/step - loss: 0.1876 - accuracy: 0.7500 - val_loss: 0.2275 - val_accuracy: 0.6667\n",
            "Epoch 73/200\n",
            "3/3 [==============================] - 0s 16ms/step - loss: 0.1876 - accuracy: 0.7500 - val_loss: 0.2275 - val_accuracy: 0.6667\n",
            "Epoch 74/200\n",
            "3/3 [==============================] - 0s 16ms/step - loss: 0.1876 - accuracy: 0.7500 - val_loss: 0.2275 - val_accuracy: 0.6667\n",
            "Epoch 75/200\n",
            "3/3 [==============================] - 0s 16ms/step - loss: 0.1876 - accuracy: 0.7500 - val_loss: 0.2276 - val_accuracy: 0.6667\n",
            "Epoch 76/200\n",
            "3/3 [==============================] - 0s 16ms/step - loss: 0.1876 - accuracy: 0.7500 - val_loss: 0.2276 - val_accuracy: 0.6667\n",
            "Epoch 77/200\n",
            "3/3 [==============================] - 0s 16ms/step - loss: 0.1876 - accuracy: 0.7500 - val_loss: 0.2276 - val_accuracy: 0.6667\n",
            "Epoch 78/200\n",
            "3/3 [==============================] - 0s 8ms/step - loss: 0.1876 - accuracy: 0.7500 - val_loss: 0.2277 - val_accuracy: 0.6667\n",
            "Epoch 79/200\n",
            "3/3 [==============================] - 0s 8ms/step - loss: 0.1876 - accuracy: 0.7500 - val_loss: 0.2277 - val_accuracy: 0.6667\n",
            "Epoch 80/200\n",
            "3/3 [==============================] - 0s 20ms/step - loss: 0.1876 - accuracy: 0.7500 - val_loss: 0.2277 - val_accuracy: 0.6667\n",
            "Epoch 81/200\n",
            "3/3 [==============================] - 0s 16ms/step - loss: 0.1876 - accuracy: 0.7500 - val_loss: 0.2278 - val_accuracy: 0.6667\n",
            "Epoch 82/200\n",
            "3/3 [==============================] - 0s 7ms/step - loss: 0.1876 - accuracy: 0.7500 - val_loss: 0.2278 - val_accuracy: 0.6667\n",
            "Epoch 83/200\n",
            "3/3 [==============================] - 0s 13ms/step - loss: 0.1876 - accuracy: 0.7500 - val_loss: 0.2278 - val_accuracy: 0.6667\n",
            "Epoch 84/200\n",
            "3/3 [==============================] - 0s 14ms/step - loss: 0.1876 - accuracy: 0.7500 - val_loss: 0.2279 - val_accuracy: 0.6667\n",
            "Epoch 85/200\n",
            "3/3 [==============================] - 0s 13ms/step - loss: 0.1876 - accuracy: 0.7500 - val_loss: 0.2279 - val_accuracy: 0.6667\n",
            "Epoch 86/200\n",
            "3/3 [==============================] - 0s 13ms/step - loss: 0.1876 - accuracy: 0.7500 - val_loss: 0.2279 - val_accuracy: 0.6667\n",
            "Epoch 87/200\n",
            "3/3 [==============================] - 0s 6ms/step - loss: 0.1876 - accuracy: 0.7500 - val_loss: 0.2280 - val_accuracy: 0.6667\n",
            "Epoch 88/200\n",
            "3/3 [==============================] - 0s 13ms/step - loss: 0.1876 - accuracy: 0.7500 - val_loss: 0.2280 - val_accuracy: 0.6667\n",
            "Epoch 89/200\n",
            "3/3 [==============================] - 0s 9ms/step - loss: 0.1876 - accuracy: 0.7500 - val_loss: 0.2280 - val_accuracy: 0.6667\n",
            "Epoch 90/200\n",
            "3/3 [==============================] - 0s 16ms/step - loss: 0.1876 - accuracy: 0.7500 - val_loss: 0.2280 - val_accuracy: 0.6667\n",
            "Epoch 91/200\n",
            "3/3 [==============================] - 0s 16ms/step - loss: 0.1876 - accuracy: 0.7500 - val_loss: 0.2281 - val_accuracy: 0.6667\n",
            "Epoch 92/200\n",
            "3/3 [==============================] - 0s 8ms/step - loss: 0.1876 - accuracy: 0.7500 - val_loss: 0.2281 - val_accuracy: 0.6667\n",
            "Epoch 93/200\n",
            "3/3 [==============================] - 0s 8ms/step - loss: 0.1875 - accuracy: 0.7500 - val_loss: 0.2281 - val_accuracy: 0.6667\n",
            "Epoch 94/200\n",
            "3/3 [==============================] - 0s 25ms/step - loss: 0.1875 - accuracy: 0.7500 - val_loss: 0.2282 - val_accuracy: 0.6667\n",
            "Epoch 95/200\n",
            "3/3 [==============================] - 0s 9ms/step - loss: 0.1875 - accuracy: 0.7500 - val_loss: 0.2282 - val_accuracy: 0.6667\n",
            "Epoch 96/200\n",
            "3/3 [==============================] - 0s 13ms/step - loss: 0.1875 - accuracy: 0.7500 - val_loss: 0.2282 - val_accuracy: 0.6667\n",
            "Epoch 97/200\n",
            "3/3 [==============================] - 0s 12ms/step - loss: 0.1875 - accuracy: 0.7500 - val_loss: 0.2282 - val_accuracy: 0.6667\n",
            "Epoch 98/200\n",
            "3/3 [==============================] - 0s 12ms/step - loss: 0.1875 - accuracy: 0.7500 - val_loss: 0.2283 - val_accuracy: 0.6667\n",
            "Epoch 99/200\n",
            "3/3 [==============================] - 0s 14ms/step - loss: 0.1875 - accuracy: 0.7500 - val_loss: 0.2283 - val_accuracy: 0.6667\n",
            "Epoch 100/200\n",
            "3/3 [==============================] - 0s 12ms/step - loss: 0.1875 - accuracy: 0.7500 - val_loss: 0.2283 - val_accuracy: 0.6667\n",
            "Epoch 101/200\n",
            "3/3 [==============================] - 0s 12ms/step - loss: 0.1875 - accuracy: 0.7500 - val_loss: 0.2283 - val_accuracy: 0.6667\n",
            "Epoch 102/200\n",
            "3/3 [==============================] - 0s 13ms/step - loss: 0.1875 - accuracy: 0.7500 - val_loss: 0.2283 - val_accuracy: 0.6667\n",
            "Epoch 103/200\n",
            "3/3 [==============================] - 0s 12ms/step - loss: 0.1875 - accuracy: 0.7500 - val_loss: 0.2284 - val_accuracy: 0.6667\n",
            "Epoch 104/200\n",
            "3/3 [==============================] - 0s 10ms/step - loss: 0.1875 - accuracy: 0.7500 - val_loss: 0.2284 - val_accuracy: 0.6667\n",
            "Epoch 105/200\n",
            "3/3 [==============================] - 0s 16ms/step - loss: 0.1875 - accuracy: 0.7500 - val_loss: 0.2284 - val_accuracy: 0.6667\n",
            "Epoch 106/200\n",
            "3/3 [==============================] - 0s 16ms/step - loss: 0.1875 - accuracy: 0.7500 - val_loss: 0.2284 - val_accuracy: 0.6667\n",
            "Epoch 107/200\n",
            "3/3 [==============================] - 0s 16ms/step - loss: 0.1875 - accuracy: 0.7500 - val_loss: 0.2285 - val_accuracy: 0.6667\n",
            "Epoch 108/200\n",
            "3/3 [==============================] - 0s 17ms/step - loss: 0.1875 - accuracy: 0.7500 - val_loss: 0.2285 - val_accuracy: 0.6667\n",
            "Epoch 109/200\n",
            "3/3 [==============================] - 0s 15ms/step - loss: 0.1875 - accuracy: 0.7500 - val_loss: 0.2285 - val_accuracy: 0.6667\n",
            "Epoch 110/200\n",
            "3/3 [==============================] - 0s 8ms/step - loss: 0.1875 - accuracy: 0.7500 - val_loss: 0.2285 - val_accuracy: 0.6667\n",
            "Epoch 111/200\n",
            "3/3 [==============================] - 0s 16ms/step - loss: 0.1875 - accuracy: 0.7500 - val_loss: 0.2285 - val_accuracy: 0.6667\n",
            "Epoch 112/200\n",
            "3/3 [==============================] - 0s 16ms/step - loss: 0.1875 - accuracy: 0.7500 - val_loss: 0.2285 - val_accuracy: 0.6667\n",
            "Epoch 113/200\n",
            "3/3 [==============================] - 0s 16ms/step - loss: 0.1875 - accuracy: 0.7500 - val_loss: 0.2286 - val_accuracy: 0.6667\n",
            "Epoch 114/200\n",
            "3/3 [==============================] - 0s 16ms/step - loss: 0.1875 - accuracy: 0.7500 - val_loss: 0.2286 - val_accuracy: 0.6667\n",
            "Epoch 115/200\n",
            "3/3 [==============================] - 0s 11ms/step - loss: 0.1875 - accuracy: 0.7500 - val_loss: 0.2286 - val_accuracy: 0.6667\n",
            "Epoch 116/200\n",
            "3/3 [==============================] - 0s 13ms/step - loss: 0.1875 - accuracy: 0.7500 - val_loss: 0.2286 - val_accuracy: 0.6667\n",
            "Epoch 117/200\n"
          ]
        },
        {
          "name": "stdout",
          "output_type": "stream",
          "text": [
            "3/3 [==============================] - 0s 9ms/step - loss: 0.1875 - accuracy: 0.7500 - val_loss: 0.2286 - val_accuracy: 0.6667\n",
            "Epoch 118/200\n",
            "3/3 [==============================] - 0s 17ms/step - loss: 0.1875 - accuracy: 0.7500 - val_loss: 0.2286 - val_accuracy: 0.6667\n",
            "Epoch 119/200\n",
            "3/3 [==============================] - 0s 13ms/step - loss: 0.1875 - accuracy: 0.7500 - val_loss: 0.2287 - val_accuracy: 0.6667\n",
            "Epoch 120/200\n",
            "3/3 [==============================] - 0s 12ms/step - loss: 0.1875 - accuracy: 0.7500 - val_loss: 0.2287 - val_accuracy: 0.6667\n",
            "Epoch 121/200\n",
            "3/3 [==============================] - 0s 13ms/step - loss: 0.1875 - accuracy: 0.7500 - val_loss: 0.2287 - val_accuracy: 0.6667\n",
            "Epoch 122/200\n",
            "3/3 [==============================] - 0s 12ms/step - loss: 0.1875 - accuracy: 0.7500 - val_loss: 0.2287 - val_accuracy: 0.6667\n",
            "Epoch 123/200\n",
            "3/3 [==============================] - 0s 12ms/step - loss: 0.1875 - accuracy: 0.7500 - val_loss: 0.2287 - val_accuracy: 0.6667\n",
            "Epoch 124/200\n",
            "3/3 [==============================] - 0s 12ms/step - loss: 0.1875 - accuracy: 0.7500 - val_loss: 0.2287 - val_accuracy: 0.6667\n",
            "Epoch 125/200\n",
            "3/3 [==============================] - 0s 12ms/step - loss: 0.1875 - accuracy: 0.7500 - val_loss: 0.2287 - val_accuracy: 0.6667\n",
            "Epoch 126/200\n",
            "3/3 [==============================] - 0s 12ms/step - loss: 0.1875 - accuracy: 0.7500 - val_loss: 0.2288 - val_accuracy: 0.6667\n",
            "Epoch 127/200\n",
            "3/3 [==============================] - 0s 8ms/step - loss: 0.1875 - accuracy: 0.7500 - val_loss: 0.2288 - val_accuracy: 0.6667\n",
            "Epoch 128/200\n",
            "3/3 [==============================] - 0s 19ms/step - loss: 0.1875 - accuracy: 0.7500 - val_loss: 0.2288 - val_accuracy: 0.6667\n",
            "Epoch 129/200\n",
            "3/3 [==============================] - 0s 13ms/step - loss: 0.1875 - accuracy: 0.7500 - val_loss: 0.2288 - val_accuracy: 0.6667\n",
            "Epoch 130/200\n",
            "3/3 [==============================] - 0s 8ms/step - loss: 0.1875 - accuracy: 0.7500 - val_loss: 0.2288 - val_accuracy: 0.6667\n",
            "Epoch 131/200\n",
            "3/3 [==============================] - 0s 8ms/step - loss: 0.1875 - accuracy: 0.7500 - val_loss: 0.2288 - val_accuracy: 0.6667\n",
            "Epoch 132/200\n",
            "3/3 [==============================] - 0s 16ms/step - loss: 0.1875 - accuracy: 0.7500 - val_loss: 0.2288 - val_accuracy: 0.6667\n",
            "Epoch 133/200\n",
            "3/3 [==============================] - 0s 20ms/step - loss: 0.1875 - accuracy: 0.7500 - val_loss: 0.2288 - val_accuracy: 0.6667\n",
            "Epoch 134/200\n",
            "3/3 [==============================] - 0s 12ms/step - loss: 0.1875 - accuracy: 0.7500 - val_loss: 0.2289 - val_accuracy: 0.6667\n",
            "Epoch 135/200\n",
            "3/3 [==============================] - 0s 13ms/step - loss: 0.1875 - accuracy: 0.7500 - val_loss: 0.2289 - val_accuracy: 0.6667\n",
            "Epoch 136/200\n",
            "3/3 [==============================] - 0s 13ms/step - loss: 0.1875 - accuracy: 0.7500 - val_loss: 0.2289 - val_accuracy: 0.6667\n",
            "Epoch 137/200\n",
            "3/3 [==============================] - 0s 12ms/step - loss: 0.1875 - accuracy: 0.7500 - val_loss: 0.2289 - val_accuracy: 0.6667\n",
            "Epoch 138/200\n",
            "3/3 [==============================] - 0s 12ms/step - loss: 0.1875 - accuracy: 0.7500 - val_loss: 0.2289 - val_accuracy: 0.6667\n",
            "Epoch 139/200\n",
            "3/3 [==============================] - 0s 12ms/step - loss: 0.1875 - accuracy: 0.7500 - val_loss: 0.2289 - val_accuracy: 0.6667\n",
            "Epoch 140/200\n",
            "3/3 [==============================] - 0s 12ms/step - loss: 0.1875 - accuracy: 0.7500 - val_loss: 0.2289 - val_accuracy: 0.6667\n",
            "Epoch 141/200\n",
            "3/3 [==============================] - 0s 12ms/step - loss: 0.1875 - accuracy: 0.7500 - val_loss: 0.2289 - val_accuracy: 0.6667\n",
            "Epoch 142/200\n",
            "3/3 [==============================] - 0s 13ms/step - loss: 0.1875 - accuracy: 0.7500 - val_loss: 0.2289 - val_accuracy: 0.6667\n",
            "Epoch 143/200\n",
            "3/3 [==============================] - 0s 12ms/step - loss: 0.1875 - accuracy: 0.7500 - val_loss: 0.2289 - val_accuracy: 0.6667\n",
            "Epoch 144/200\n",
            "3/3 [==============================] - 0s 12ms/step - loss: 0.1875 - accuracy: 0.7500 - val_loss: 0.2289 - val_accuracy: 0.6667\n",
            "Epoch 145/200\n",
            "3/3 [==============================] - 0s 12ms/step - loss: 0.1875 - accuracy: 0.7500 - val_loss: 0.2290 - val_accuracy: 0.6667\n",
            "Epoch 146/200\n",
            "3/3 [==============================] - 0s 14ms/step - loss: 0.1875 - accuracy: 0.7500 - val_loss: 0.2290 - val_accuracy: 0.6667\n",
            "Epoch 147/200\n",
            "3/3 [==============================] - 0s 12ms/step - loss: 0.1875 - accuracy: 0.7500 - val_loss: 0.2290 - val_accuracy: 0.6667\n",
            "Epoch 148/200\n",
            "3/3 [==============================] - 0s 12ms/step - loss: 0.1875 - accuracy: 0.7500 - val_loss: 0.2290 - val_accuracy: 0.6667\n",
            "Epoch 149/200\n",
            "3/3 [==============================] - 0s 12ms/step - loss: 0.1875 - accuracy: 0.7500 - val_loss: 0.2290 - val_accuracy: 0.6667\n",
            "Epoch 150/200\n",
            "3/3 [==============================] - 0s 14ms/step - loss: 0.1875 - accuracy: 0.7500 - val_loss: 0.2290 - val_accuracy: 0.6667\n",
            "Epoch 151/200\n",
            "3/3 [==============================] - 0s 9ms/step - loss: 0.1875 - accuracy: 0.7500 - val_loss: 0.2290 - val_accuracy: 0.6667\n",
            "Epoch 152/200\n",
            "3/3 [==============================] - 0s 22ms/step - loss: 0.1875 - accuracy: 0.7500 - val_loss: 0.2290 - val_accuracy: 0.6667\n",
            "Epoch 153/200\n",
            "3/3 [==============================] - 0s 9ms/step - loss: 0.1875 - accuracy: 0.7500 - val_loss: 0.2290 - val_accuracy: 0.6667\n",
            "Epoch 154/200\n",
            "3/3 [==============================] - 0s 16ms/step - loss: 0.1875 - accuracy: 0.7500 - val_loss: 0.2290 - val_accuracy: 0.6667\n",
            "Epoch 155/200\n",
            "3/3 [==============================] - 0s 17ms/step - loss: 0.1875 - accuracy: 0.7500 - val_loss: 0.2290 - val_accuracy: 0.6667\n",
            "Epoch 156/200\n",
            "3/3 [==============================] - 0s 19ms/step - loss: 0.1875 - accuracy: 0.7500 - val_loss: 0.2290 - val_accuracy: 0.6667\n",
            "Epoch 157/200\n",
            "3/3 [==============================] - 0s 11ms/step - loss: 0.1875 - accuracy: 0.7500 - val_loss: 0.2290 - val_accuracy: 0.6667\n",
            "Epoch 158/200\n",
            "3/3 [==============================] - 0s 16ms/step - loss: 0.1875 - accuracy: 0.7500 - val_loss: 0.2290 - val_accuracy: 0.6667\n",
            "Epoch 159/200\n",
            "3/3 [==============================] - 0s 8ms/step - loss: 0.1875 - accuracy: 0.7500 - val_loss: 0.2290 - val_accuracy: 0.6667\n",
            "Epoch 160/200\n",
            "3/3 [==============================] - 0s 18ms/step - loss: 0.1875 - accuracy: 0.7500 - val_loss: 0.2290 - val_accuracy: 0.6667\n",
            "Epoch 161/200\n",
            "3/3 [==============================] - 0s 14ms/step - loss: 0.1875 - accuracy: 0.7500 - val_loss: 0.2291 - val_accuracy: 0.6667\n",
            "Epoch 162/200\n",
            "3/3 [==============================] - 0s 18ms/step - loss: 0.1875 - accuracy: 0.7500 - val_loss: 0.2291 - val_accuracy: 0.6667\n",
            "Epoch 163/200\n",
            "3/3 [==============================] - 0s 10ms/step - loss: 0.1875 - accuracy: 0.7500 - val_loss: 0.2291 - val_accuracy: 0.6667\n",
            "Epoch 164/200\n",
            "3/3 [==============================] - 0s 15ms/step - loss: 0.1875 - accuracy: 0.7500 - val_loss: 0.2291 - val_accuracy: 0.6667\n",
            "Epoch 165/200\n",
            "3/3 [==============================] - 0s 8ms/step - loss: 0.1875 - accuracy: 0.7500 - val_loss: 0.2291 - val_accuracy: 0.6667\n",
            "Epoch 166/200\n",
            "3/3 [==============================] - 0s 16ms/step - loss: 0.1875 - accuracy: 0.7500 - val_loss: 0.2291 - val_accuracy: 0.6667\n",
            "Epoch 167/200\n",
            "3/3 [==============================] - 0s 8ms/step - loss: 0.1875 - accuracy: 0.7500 - val_loss: 0.2291 - val_accuracy: 0.6667\n",
            "Epoch 168/200\n",
            "3/3 [==============================] - 0s 8ms/step - loss: 0.1875 - accuracy: 0.7500 - val_loss: 0.2291 - val_accuracy: 0.6667\n",
            "Epoch 169/200\n",
            "3/3 [==============================] - 0s 13ms/step - loss: 0.1875 - accuracy: 0.7500 - val_loss: 0.2291 - val_accuracy: 0.6667\n",
            "Epoch 170/200\n",
            "3/3 [==============================] - 0s 12ms/step - loss: 0.1875 - accuracy: 0.7500 - val_loss: 0.2291 - val_accuracy: 0.6667\n",
            "Epoch 171/200\n",
            "3/3 [==============================] - 0s 8ms/step - loss: 0.1875 - accuracy: 0.7500 - val_loss: 0.2291 - val_accuracy: 0.6667\n",
            "Epoch 172/200\n",
            "3/3 [==============================] - 0s 9ms/step - loss: 0.1875 - accuracy: 0.7500 - val_loss: 0.2291 - val_accuracy: 0.6667\n",
            "Epoch 173/200\n",
            "3/3 [==============================] - 0s 15ms/step - loss: 0.1875 - accuracy: 0.7500 - val_loss: 0.2291 - val_accuracy: 0.6667\n",
            "Epoch 174/200\n",
            "3/3 [==============================] - 0s 16ms/step - loss: 0.1875 - accuracy: 0.7500 - val_loss: 0.2291 - val_accuracy: 0.6667\n"
          ]
        },
        {
          "name": "stdout",
          "output_type": "stream",
          "text": [
            "Epoch 175/200\n",
            "3/3 [==============================] - 0s 16ms/step - loss: 0.1875 - accuracy: 0.7500 - val_loss: 0.2291 - val_accuracy: 0.6667\n",
            "Epoch 176/200\n",
            "3/3 [==============================] - 0s 16ms/step - loss: 0.1875 - accuracy: 0.7500 - val_loss: 0.2291 - val_accuracy: 0.6667\n",
            "Epoch 177/200\n",
            "3/3 [==============================] - 0s 24ms/step - loss: 0.1875 - accuracy: 0.7500 - val_loss: 0.2291 - val_accuracy: 0.6667\n",
            "Epoch 178/200\n",
            "3/3 [==============================] - 0s 16ms/step - loss: 0.1875 - accuracy: 0.7500 - val_loss: 0.2291 - val_accuracy: 0.6667\n",
            "Epoch 179/200\n",
            "3/3 [==============================] - 0s 16ms/step - loss: 0.1875 - accuracy: 0.7500 - val_loss: 0.2291 - val_accuracy: 0.6667\n",
            "Epoch 180/200\n",
            "3/3 [==============================] - 0s 10ms/step - loss: 0.1875 - accuracy: 0.7500 - val_loss: 0.2291 - val_accuracy: 0.6667\n",
            "Epoch 181/200\n",
            "3/3 [==============================] - 0s 16ms/step - loss: 0.1875 - accuracy: 0.7500 - val_loss: 0.2291 - val_accuracy: 0.6667\n",
            "Epoch 182/200\n",
            "3/3 [==============================] - 0s 16ms/step - loss: 0.1875 - accuracy: 0.7500 - val_loss: 0.2291 - val_accuracy: 0.6667\n",
            "Epoch 183/200\n",
            "3/3 [==============================] - 0s 16ms/step - loss: 0.1875 - accuracy: 0.7500 - val_loss: 0.2291 - val_accuracy: 0.6667\n",
            "Epoch 184/200\n",
            "3/3 [==============================] - 0s 17ms/step - loss: 0.1875 - accuracy: 0.7500 - val_loss: 0.2291 - val_accuracy: 0.6667\n",
            "Epoch 185/200\n",
            "3/3 [==============================] - 0s 16ms/step - loss: 0.1875 - accuracy: 0.7500 - val_loss: 0.2291 - val_accuracy: 0.6667\n",
            "Epoch 186/200\n",
            "3/3 [==============================] - 0s 14ms/step - loss: 0.1875 - accuracy: 0.7500 - val_loss: 0.2291 - val_accuracy: 0.6667\n",
            "Epoch 187/200\n",
            "3/3 [==============================] - 0s 11ms/step - loss: 0.1875 - accuracy: 0.7500 - val_loss: 0.2291 - val_accuracy: 0.6667\n",
            "Epoch 188/200\n",
            "3/3 [==============================] - 0s 16ms/step - loss: 0.1875 - accuracy: 0.7500 - val_loss: 0.2291 - val_accuracy: 0.6667\n",
            "Epoch 189/200\n",
            "3/3 [==============================] - 0s 17ms/step - loss: 0.1875 - accuracy: 0.7500 - val_loss: 0.2291 - val_accuracy: 0.6667\n",
            "Epoch 190/200\n",
            "3/3 [==============================] - 0s 24ms/step - loss: 0.1875 - accuracy: 0.7500 - val_loss: 0.2291 - val_accuracy: 0.6667\n",
            "Epoch 191/200\n",
            "3/3 [==============================] - 0s 17ms/step - loss: 0.1875 - accuracy: 0.7500 - val_loss: 0.2291 - val_accuracy: 0.6667\n",
            "Epoch 192/200\n",
            "3/3 [==============================] - 0s 15ms/step - loss: 0.1875 - accuracy: 0.7500 - val_loss: 0.2291 - val_accuracy: 0.6667\n",
            "Epoch 193/200\n",
            "3/3 [==============================] - 0s 25ms/step - loss: 0.1875 - accuracy: 0.7500 - val_loss: 0.2291 - val_accuracy: 0.6667\n",
            "Epoch 194/200\n",
            "3/3 [==============================] - 0s 16ms/step - loss: 0.1875 - accuracy: 0.7500 - val_loss: 0.2291 - val_accuracy: 0.6667\n",
            "Epoch 195/200\n",
            "3/3 [==============================] - 0s 9ms/step - loss: 0.1875 - accuracy: 0.7500 - val_loss: 0.2291 - val_accuracy: 0.6667\n",
            "Epoch 196/200\n",
            "3/3 [==============================] - 0s 17ms/step - loss: 0.1875 - accuracy: 0.7500 - val_loss: 0.2291 - val_accuracy: 0.6667\n",
            "Epoch 197/200\n",
            "3/3 [==============================] - 0s 22ms/step - loss: 0.1875 - accuracy: 0.7500 - val_loss: 0.2291 - val_accuracy: 0.6667\n",
            "Epoch 198/200\n",
            "3/3 [==============================] - 0s 18ms/step - loss: 0.1875 - accuracy: 0.7500 - val_loss: 0.2292 - val_accuracy: 0.6667\n",
            "Epoch 199/200\n",
            "3/3 [==============================] - 0s 10ms/step - loss: 0.1875 - accuracy: 0.7500 - val_loss: 0.2292 - val_accuracy: 0.6667\n",
            "Epoch 200/200\n",
            "3/3 [==============================] - 0s 19ms/step - loss: 0.1875 - accuracy: 0.7500 - val_loss: 0.2292 - val_accuracy: 0.6667\n",
            "1/1 [==============================] - 0s 39ms/step - loss: 0.2292 - accuracy: 0.6667\n",
            "Test loss: 0.2292, Test accuracy: 0.6667\n"
          ]
        }
      ],
      "source": [
        "# history = model.fit(X_train, y_train, epochs=200, validation_data=(X_test, y_test))\n",
        "\n",
        "# test_loss, test_acc = model.evaluate(X_test, y_test)\n",
        "# print(f'Test loss: {test_loss:.4f}, Test accuracy: {test_acc:.4f}')\n",
        "# Train the model\n",
        "history = model.fit(X_train, y_train, epochs=200, batch_size=32, validation_data=(X_test, y_test))\n",
        "\n",
        "# Evaluate the model on the test set\n",
        "test_loss, test_acc = model.evaluate(X_test, y_test)\n",
        "print(f'Test loss: {test_loss:.4f}, Test accuracy: {test_acc:.4f}')\n",
        "\n"
      ]
    }
  ],
  "metadata": {
    "colab": {
      "provenance": []
    },
    "kernelspec": {
      "display_name": "Python 3 (ipykernel)",
      "language": "python",
      "name": "python3"
    },
    "language_info": {
      "codemirror_mode": {
        "name": "ipython",
        "version": 3
      },
      "file_extension": ".py",
      "mimetype": "text/x-python",
      "name": "python",
      "nbconvert_exporter": "python",
      "pygments_lexer": "ipython3",
      "version": "3.7.16"
    }
  },
  "nbformat": 4,
  "nbformat_minor": 5
}
