{
  "cells": [
    {
      "cell_type": "code",
      "execution_count": 1,
      "id": "J9Z0mVXGXgVk",
      "metadata": {
        "colab": {
          "base_uri": "https://localhost:8080/"
        },
        "id": "J9Z0mVXGXgVk",
        "outputId": "448aac7b-238f-4654-c31c-d0370b2a0512"
      },
      "outputs": [
        {
          "name": "stdout",
          "output_type": "stream",
          "text": [
            "Looking in indexes: https://pypi.org/simple, https://us-python.pkg.dev/colab-wheels/public/simple/\n",
            "Requirement already satisfied: PyPDF2 in /usr/local/lib/python3.7/dist-packages (2.11.1)\n",
            "Requirement already satisfied: typing-extensions>=3.10.0.0 in /usr/local/lib/python3.7/dist-packages (from PyPDF2) (4.1.1)\n",
            "Looking in indexes: https://pypi.org/simple, https://us-python.pkg.dev/colab-wheels/public/simple/\n",
            "Requirement already satisfied: googletrans==4.0.0rc1 in /usr/local/lib/python3.7/dist-packages (4.0.0rc1)\n",
            "Requirement already satisfied: httpx==0.13.3 in /usr/local/lib/python3.7/dist-packages (from googletrans==4.0.0rc1) (0.13.3)\n",
            "Requirement already satisfied: httpcore==0.9.* in /usr/local/lib/python3.7/dist-packages (from httpx==0.13.3->googletrans==4.0.0rc1) (0.9.1)\n",
            "Requirement already satisfied: sniffio in /usr/local/lib/python3.7/dist-packages (from httpx==0.13.3->googletrans==4.0.0rc1) (1.3.0)\n",
            "Requirement already satisfied: idna==2.* in /usr/local/lib/python3.7/dist-packages (from httpx==0.13.3->googletrans==4.0.0rc1) (2.10)\n",
            "Requirement already satisfied: hstspreload in /usr/local/lib/python3.7/dist-packages (from httpx==0.13.3->googletrans==4.0.0rc1) (2022.10.1)\n",
            "Requirement already satisfied: rfc3986<2,>=1.3 in /usr/local/lib/python3.7/dist-packages (from httpx==0.13.3->googletrans==4.0.0rc1) (1.5.0)\n",
            "Requirement already satisfied: chardet==3.* in /usr/local/lib/python3.7/dist-packages (from httpx==0.13.3->googletrans==4.0.0rc1) (3.0.4)\n",
            "Requirement already satisfied: certifi in /usr/local/lib/python3.7/dist-packages (from httpx==0.13.3->googletrans==4.0.0rc1) (2022.9.24)\n",
            "Requirement already satisfied: h11<0.10,>=0.8 in /usr/local/lib/python3.7/dist-packages (from httpcore==0.9.*->httpx==0.13.3->googletrans==4.0.0rc1) (0.9.0)\n",
            "Requirement already satisfied: h2==3.* in /usr/local/lib/python3.7/dist-packages (from httpcore==0.9.*->httpx==0.13.3->googletrans==4.0.0rc1) (3.2.0)\n",
            "Requirement already satisfied: hyperframe<6,>=5.2.0 in /usr/local/lib/python3.7/dist-packages (from h2==3.*->httpcore==0.9.*->httpx==0.13.3->googletrans==4.0.0rc1) (5.2.0)\n",
            "Requirement already satisfied: hpack<4,>=3.0 in /usr/local/lib/python3.7/dist-packages (from h2==3.*->httpcore==0.9.*->httpx==0.13.3->googletrans==4.0.0rc1) (3.0.0)\n"
          ]
        }
      ],
      "source": [
        "!pip install PyPDF2\n",
        "!pip install googletrans==4.0.0rc1\n",
        "# conda install PyPDF2"
      ]
    },
    {
      "attachments": {},
      "cell_type": "markdown",
      "id": "xi8Ho8HZa2SW",
      "metadata": {
        "id": "xi8Ho8HZa2SW"
      },
      "source": [
        "## Please find below the core functions of our program for performing the following actions\n",
        "\n",
        "*   Convert cv2 to image\n",
        "*   Convert Image to cv2\n",
        "*   Cartoonise the image\n",
        "*   Pass image list for generating row\n",
        "*   Read image names from folder\n",
        "*   Compress image\n",
        "*   List all folder items except hidden files"
      ]
    },
    {
      "cell_type": "code",
      "execution_count": 2,
      "id": "ru-Nr1YMvG_K",
      "metadata": {
        "colab": {
          "base_uri": "https://localhost:8080/"
        },
        "id": "ru-Nr1YMvG_K",
        "outputId": "bcbe7855-dec1-44a1-bfc5-7820958eb59f"
      },
      "outputs": [
        {
          "name": "stdout",
          "output_type": "stream",
          "text": [
            "Looking in indexes: https://pypi.org/simple, https://us-python.pkg.dev/colab-wheels/public/simple/\n",
            "Requirement already satisfied: fpdf in /usr/local/lib/python3.7/dist-packages (1.7.2)\n"
          ]
        }
      ],
      "source": [
        "!pip install fpdf"
      ]
    },
    {
      "attachments": {},
      "cell_type": "markdown",
      "id": "a20cd51d",
      "metadata": {
        "id": "a20cd51d"
      },
      "source": [
        "## Importing the requisite libraries"
      ]
    },
    {
      "cell_type": "code",
      "execution_count": 3,
      "id": "77a22f79",
      "metadata": {
        "id": "77a22f79"
      },
      "outputs": [],
      "source": [
        "import cv2\n",
        "import numpy as np\n",
        "import pandas as pd\n",
        "from fpdf import FPDF\n",
        "from PIL import Image as pili, ImageDraw as pild, ImageFont as pilf, ImageOps as piliops\n"
      ]
    },
    {
      "attachments": {},
      "cell_type": "markdown",
      "id": "6ad0fe5b",
      "metadata": {
        "id": "6ad0fe5b"
      },
      "source": [
        "## Defining the constant values"
      ]
    },
    {
      "cell_type": "code",
      "execution_count": 4,
      "id": "3a52cf72",
      "metadata": {
        "id": "3a52cf72"
      },
      "outputs": [],
      "source": [
        "TINT_COLOR = (0, 0, 0)  # Black\n",
        "OPACITY = int(255 * .90)\n",
        "FONT = pilf.truetype(\"Inkfree.ttf\", 24) # Font\n",
        "IMG_BASE_WIDTH = 600\n",
        "IMG_NUMBERS = 47"
      ]
    },
    {
      "attachments": {},
      "cell_type": "markdown",
      "id": "286e21dd",
      "metadata": {
        "id": "286e21dd"
      },
      "source": [
        "*   Convert cv2 to image\n",
        "*   Convert Image to cv2\n",
        "\n",
        "You have a RGB image represented by a 3d array, as in ex = numpy.array([ [ [1, 2, 3], [4, 5, 6] ], [ [7, 8, 9], [0, 1, 2] ] ]). So ex[0] is the first line of your image, ex[0][0] is the first column of the first line, ex[0][0][0] is the red component of the first pixel, ex[0][0][1] is the green component, and ex[0][0][2] is the blue component. In Order to work on the image you need to convert the format to ensure the other Libraries are able to make use of it.\n"
      ]
    },
    {
      "cell_type": "code",
      "execution_count": 5,
      "id": "Km6eaaCb83IZ",
      "metadata": {
        "id": "Km6eaaCb83IZ"
      },
      "outputs": [],
      "source": [
        "def convert_from_cv2_to_image(img: np.ndarray) -> pili:\n",
        "    return Image.fromarray(cv2.cvtColor(img, cv2.COLOR_BGR2RGB))\n",
        "\n",
        "def convert_from_image_to_cv2(img: pili) -> np.ndarray:\n",
        "    return cv2.cvtColor(np.array(img), cv2.COLOR_RGB2BGR)"
      ]
    },
    {
      "attachments": {},
      "cell_type": "markdown",
      "id": "5afcb5b2",
      "metadata": {
        "id": "5afcb5b2"
      },
      "source": [
        "## Next we define one of our most important function - cartoonise \n",
        "\n",
        "cartoonizeblt_mem_nb \n",
        "\n",
        "A drawing is made by drawing the shapes in a picture, and then adding the colors, right? So we detect the shapes in the picture, and then superimpose the picture on top of the shapes. \n",
        "\n",
        "Initially we use `cv2.cvtColor()` to convert the image to greyscale\n",
        "\n",
        "Then we use `cv2.medianBlur()` to blur the greyscale in order to remove details that are too fine (we need to trim the complexity of reality in order to create drawings!)\n",
        "\n",
        "Now we use `cv2.adaptiveThreshold()` to detect the edges of the shapes in the image\n",
        "\n",
        "Next we use `cv2.bitwise_and()` to **bitblt** (superimpose) the original image with its edges:\n",
        "\n",
        "Next we decide on a font \n",
        "\n",
        "We draw a semi transperant rectange and add our subtitles on top of the same using `pild.Draw(overlay)` and `draw.text` functionality"
      ]
    },
    {
      "cell_type": "code",
      "execution_count": 6,
      "id": "baf55e2b",
      "metadata": {
        "id": "baf55e2b"
      },
      "outputs": [],
      "source": [
        "# Controls blur amount and line size and number of text lines. No bold font!\n",
        "def cartoonizeblt_mem_nb(path_in, k, blur, line, text, nlines=1, font='verdana'):\n",
        "\n",
        "    imgc = imgcompress_mem(path_in, k)\n",
        "\n",
        "    line_size = line\n",
        "    blur_value = blur\n",
        "    gray = cv2.cvtColor(imgc, cv2.COLOR_BGR2GRAY)\n",
        "    gray_blur = cv2.medianBlur(gray, blur_value)\n",
        "    bigedges = cv2.adaptiveThreshold(gray_blur, 255, cv2.ADAPTIVE_THRESH_MEAN_C, cv2.THRESH_BINARY, line_size, blur_value)\n",
        "    bigedges_pil = cv2.cvtColor(bigedges, cv2.COLOR_BGR2RGB) # Converting BGR to RGB\n",
        "\n",
        "    toon = cv2.bitwise_and(imgc, imgc, mask=bigedges)\n",
        "    if 0 == len(text):\n",
        "        return toon\n",
        "    \n",
        "    myfont = (\n",
        "        pilf.truetype(\"ITCKRIST.TTF\", 6) if font=='ITCKRIST'\n",
        "        else\n",
        "            pilf.truetype(\"Inkfree.ttf\", \n",
        "                24 if k == 16 else 18 if k == 14 else 18 if k == 12 else 20 if k == 8 else 82) if font=='Inkfree'\n",
        "        else\n",
        "            pilf.truetype(font + \".ttf\", 9)\n",
        "    )\n",
        "\n",
        "    cblimg_pil = pili.fromarray(cv2.cvtColor(toon, cv2.COLOR_BGR2RGBA))\n",
        "\n",
        "    overlay = pili.new('RGBA', cblimg_pil.size, TINT_COLOR+(0,))\n",
        "    draw = pild.Draw(overlay)\n",
        "    \n",
        "    _, h = myfont.getsize(text)\n",
        "    num_lines = nlines\n",
        "    \n",
        "    x, y = 0, cblimg_pil.height - (num_lines)*h-10\n",
        "    draw.rectangle((x, y, x + cblimg_pil.width, y + (num_lines)*h+10), fill=TINT_COLOR+(OPACITY,))\n",
        "    if k == 1:\n",
        "        draw.text((x+10, y), text, fill=(255,255,255), font=myfont) #, stroke_width=1)\n",
        "    elif k < 8:\n",
        "        draw.text((x+10, y), text, fill=(255,255,255), font=myfont)\n",
        "    else:\n",
        "        draw.text((x+10, y), text, fill=(255,255,255), font=myfont) #, stroke_width=1)\n",
        "\n",
        "    cblimg_pil = pili.alpha_composite(cblimg_pil, overlay)\n",
        "    cblimg_pil = cblimg_pil.convert(\"RGB\")\n",
        "\n",
        "    return convert_from_image_to_cv2(cblimg_pil)"
      ]
    },
    {
      "attachments": {},
      "cell_type": "markdown",
      "id": "e55ed39f",
      "metadata": {
        "id": "e55ed39f"
      },
      "source": [
        "## Here we define our imgcompress_mem\n",
        "\n",
        "This helps us to resize the image without ever saving it. Performing the same task in memory"
      ]
    },
    {
      "cell_type": "code",
      "execution_count": 7,
      "id": "bc563ce4",
      "metadata": {
        "id": "bc563ce4"
      },
      "outputs": [],
      "source": [
        "def imgcompress_mem(path_in, k):\n",
        "    img = cv2.imread(path_in, cv2.IMREAD_UNCHANGED)\n",
        "    # set the ratio of resized image\n",
        "    width = int((img.shape[1])/k)\n",
        "    height = int((img.shape[0])/k)\n",
        "\n",
        "    # resize the image by resize() function of openCV library\n",
        "    return cv2.resize(img, (width, height), interpolation=cv2.INTER_AREA)"
      ]
    },
    {
      "attachments": {},
      "cell_type": "markdown",
      "id": "a34e0607",
      "metadata": {
        "id": "a34e0607"
      },
      "source": [
        "## Next, we have our simple row function\n",
        "\n",
        "Now, this is the driver function. \n",
        "    \n",
        "    Args:\n",
        "        folder: Folder name where the images are stored\n",
        "        list_im: List of image names\n",
        "        list_opt: List of opt tag\n",
        "        list_txt: List of subtitles for every image\n",
        "        list_nlines: Array of lines for subtitles\n",
        "        image_file_extension: the file extension of image (eg. png, jpeg, etc. )\n",
        "        font: the font to be used on the image\n",
        "        number_of_images_on_strip: the number of images which will make the strip ( eg. 3,4 )\n",
        "        orientation: horizontal vs vertical\n"
      ]
    },
    {
      "cell_type": "code",
      "execution_count": 8,
      "id": "50f058b1",
      "metadata": {
        "id": "50f058b1"
      },
      "outputs": [],
      "source": [
        "def simple_row(folder, list_im, list_opt, list_txt, list_nlines, image_file_extension='', font='Dengl', number_of_images_on_strip=3, orientation='horizontal'):\n",
        "    shape = len(list_im)\n",
        "    \n",
        "    # cartoonize them in memory with text\n",
        "    cimgs = [ cartoonizeblt_mem_nb(folder + '/' + i + image_file_extension, 14, 5, 3, k, nlines=n, font=font)\n",
        "              for i,j,k,n in zip(list_im, list_opt, list_txt, list_nlines) ]\n",
        "    \n",
        "    # resize\n",
        "    heighto = int(cimgs[0].shape[0])\n",
        "    widtho = int(cimgs[0].shape[1])\n",
        "    \n",
        "    # heighto / widtho = height / width ==> height = heighto / widtho * width\n",
        "    width = 1000//number_of_images_on_strip\n",
        "    height = int(heighto / widtho * width)\n",
        "    cimgs_dim = (width, height)\n",
        "    cimgsr = [ cv2.resize(cimgs[i], cimgs_dim, interpolation = cv2.INTER_AREA) for i in range(shape)]\n",
        "\n",
        "    # add borders\n",
        "    white = [255,255,255]\n",
        "    if orientation=='horizontal':\n",
        "        bcimgs = [ cv2.copyMakeBorder(i, 15, 15, 0, 0, cv2.BORDER_CONSTANT, value=white) for i in cimgsr ]\n",
        "    else:\n",
        "        bcimgs = [ cv2.copyMakeBorder(i, 15, 15, 15, 15, cv2.BORDER_CONSTANT, value=white) for i in cimgsr ]\n",
        "        \n",
        "    # stack them horizontally\n",
        "    return np.concatenate([ bcimgs[i] for i in range(0,len(list_im)) ], axis=1)"
      ]
    },
    {
      "attachments": {},
      "cell_type": "markdown",
      "id": "bc45ac39",
      "metadata": {
        "id": "bc45ac39"
      },
      "source": [
        "## And last but not the least we have our utility functions\n",
        "\n",
        "* listdir_nohidden - returns the files from a folder excluding the hidden files  \n",
        "* get_image_names - reuturns the names of files with a particular tag ( eg. jpeg in this scenario ) "
      ]
    },
    {
      "cell_type": "code",
      "execution_count": 9,
      "id": "df5a897a",
      "metadata": {
        "id": "df5a897a"
      },
      "outputs": [],
      "source": [
        "import os\n",
        "\n",
        "def listdir_nohidden(path):\n",
        "    for f in os.listdir(path):\n",
        "        if not f.startswith('.'):\n",
        "            yield f\n",
        "            \n",
        "def get_image_names(folder_path):\n",
        "    file_names = list(listdir_nohidden(folder_path))\n",
        "    file_names = [ i for i in file_names if 'jpeg' in i ]\n",
        "    file_names.sort()\n",
        "    return file_names"
      ]
    },
    {
      "attachments": {},
      "cell_type": "markdown",
      "id": "03952e24",
      "metadata": {
        "id": "03952e24"
      },
      "source": [
        "## Here we call our code with all the required parameters \n",
        "\n",
        "### This gives us 3 pdfs - for our english version"
      ]
    },
    {
      "cell_type": "code",
      "execution_count": 10,
      "id": "e7QKfF8y83r9",
      "metadata": {
        "colab": {
          "base_uri": "https://localhost:8080/"
        },
        "id": "e7QKfF8y83r9",
        "outputId": "2abaa95a-5188-4d08-9990-dcc1ec0036d6",
        "scrolled": false
      },
      "outputs": [
        {
          "name": "stdout",
          "output_type": "stream",
          "text": [
            "Done!\n"
          ]
        }
      ],
      "source": [
        "import os\n",
        "\n",
        "folder_name = 'Images'\n",
        "dir_list = get_image_names(folder_name)\n",
        "dir_list\n",
        "\n",
        "pencil = ['pencil' for i in range(len(dir_list))]\n",
        "dialogues = [i[:-1] for i in open('dialogues_final.txt', 'r').readlines()]\n",
        "dialogues_with_line_break = [i[0:20]+'\\n'+i[20:] for i in dialogues]\n",
        "\n",
        "start = 0\n",
        "end = 4\n",
        "flag = True\n",
        "final_row = None\n",
        "final_pil = None\n",
        "i=1\n",
        "pdf_page_arr = []\n",
        "\n",
        "while(flag):\n",
        "    list_opt = pencil\n",
        "    list_im = dir_list[start : end]\n",
        "    list_txt = dialogues_with_line_break[start : end]\n",
        "    list_nlines = [2]*len(dir_list)\n",
        "    font = \"nirmalas\"\n",
        "\n",
        "    rows4 = simple_row(\n",
        "        folder = folder_name, \n",
        "        list_im = list_im,\n",
        "        list_opt = list_opt,\n",
        "        list_txt = list_txt,\n",
        "        list_nlines = list_nlines,\n",
        "        number_of_images_on_strip=end-start,\n",
        "        font=font,\n",
        "    )\n",
        "    rows4_pil = cv2.cvtColor(rows4, cv2.COLOR_BGR2RGB) # Converting BGR to RGB\n",
        "#     display(pili.fromarray(rows4_pil))\n",
        "    final_pil = rows4_pil if final_pil is None else np.concatenate((final_pil, rows4_pil), axis=0)\n",
        "    start = end\n",
        "    end += min(np.random.choice([4], 1)[0], len(dir_list)-1)\n",
        "    if end > 20*i:\n",
        "        pili.fromarray(final_pil).save('english_page_{}.pdf'.format(i))\n",
        "        i += 1\n",
        "        final_pil = None\n",
        "\n",
        "    if start >= len(dir_list):\n",
        "        flag=False\n",
        "print(\"Done!\")\n"
      ]
    },
    {
      "attachments": {},
      "cell_type": "markdown",
      "id": "0b561201",
      "metadata": {
        "id": "0b561201"
      },
      "source": [
        "## Next we merge them to create our comic strip"
      ]
    },
    {
      "cell_type": "code",
      "execution_count": 11,
      "id": "pxWZWeSFDnrE",
      "metadata": {
        "colab": {
          "base_uri": "https://localhost:8080/"
        },
        "id": "pxWZWeSFDnrE",
        "outputId": "0af75795-c6d1-4c7c-e613-f5e611ac72b3"
      },
      "outputs": [
        {
          "name": "stdout",
          "output_type": "stream",
          "text": [
            "Done!\n"
          ]
        }
      ],
      "source": [
        "from PyPDF2 import PdfFileMerger, PdfFileReader\n",
        "merger = PdfFileMerger()\n",
        "\n",
        "merger.append(PdfFileReader(open(\"english_page_1.pdf\", 'rb')))\n",
        "merger.append(PdfFileReader(open(\"english_page_2.pdf\", 'rb')))\n",
        "merger.append(PdfFileReader(open(\"english_page_3.pdf\", 'rb')))\n",
        "\n",
        "merger.write(\"enlish_comic.pdf\") \n",
        "\n",
        "import os\n",
        "os.remove('english_page_1.pdf')\n",
        "os.remove('english_page_2.pdf')\n",
        "os.remove('english_page_3.pdf')\n",
        "print(\"Done!\")"
      ]
    },
    {
      "attachments": {},
      "cell_type": "markdown",
      "id": "ba-ZzJgAdTmT",
      "metadata": {
        "id": "ba-ZzJgAdTmT"
      },
      "source": [
        "Here we generate the Hindi Comic Book"
      ]
    },
    {
      "cell_type": "code",
      "execution_count": 14,
      "id": "Ewza6YB6x1VZ",
      "metadata": {
        "id": "Ewza6YB6x1VZ"
      },
      "outputs": [],
      "source": [
        "from googletrans import Translator"
      ]
    },
    {
      "cell_type": "code",
      "execution_count": 23,
      "id": "-3ZaZdcnvYwT",
      "metadata": {
        "colab": {
          "base_uri": "https://localhost:8080/"
        },
        "id": "-3ZaZdcnvYwT",
        "outputId": "c31cd663-1f65-477e-a172-3cffddce7a04"
      },
      "outputs": [
        {
          "name": "stdout",
          "output_type": "stream",
          "text": [
            "Done!\n"
          ]
        }
      ],
      "source": [
        "import os\n",
        "\n",
        "folder_name = 'Images'\n",
        "dir_list = get_image_names(folder_name)[0:68]\n",
        "dir_list\n",
        "\n",
        "pencil = ['pencil' for i in range(len(dir_list))]\n",
        "\n",
        "translator = Translator()\n",
        "dialogues = [ translator.translate(i[:-1], dest='hi', src='en').text for i in open('dialogues_final.txt', 'r').readlines()[0:68]]\n",
        "dialogues\n",
        "dialogues_with_line_break = [i[0:20]+'\\n'+i[20:] for i in dialogues]\n",
        "\n",
        "start = 0\n",
        "end = 4\n",
        "flag = True\n",
        "final_row = None\n",
        "final_pil = None\n",
        "i=1\n",
        "pdf_page_arr = []\n",
        "\n",
        "while(flag):\n",
        "    list_opt = pencil\n",
        "    list_im = dir_list[start : end]\n",
        "    list_txt = dialogues_with_line_break[start : end]\n",
        "    list_nlines = [2]*len(dir_list)\n",
        "    font = \"nirmalas\"\n",
        "\n",
        "    rows4 = simple_row(\n",
        "        folder = folder_name, \n",
        "        list_im = list_im,\n",
        "        list_opt = list_opt,\n",
        "        list_txt = list_txt,\n",
        "        list_nlines = list_nlines,\n",
        "        number_of_images_on_strip=end-start,\n",
        "        font=font,\n",
        "    )\n",
        "    rows4_pil = cv2.cvtColor(rows4, cv2.COLOR_BGR2RGB) # Converting BGR to RGB\n",
        "#     display(pili.fromarray(rows4_pil))\n",
        "    final_pil = rows4_pil if final_pil is None else np.concatenate((final_pil, rows4_pil), axis=0)\n",
        "    start = end\n",
        "    end += min(np.random.choice([4], 1)[0], len(dir_list)-1)\n",
        "    if end > 20*i:\n",
        "        pili.fromarray(final_pil).save('hindi_page_{}.pdf'.format(i))\n",
        "        i += 1\n",
        "        final_pil = None\n",
        "\n",
        "    if start >= len(dir_list):\n",
        "        flag=False\n",
        "print(\"Done!\")\n"
      ]
    }
  ],
  "metadata": {
    "colab": {
      "collapsed_sections": [],
      "provenance": []
    },
    "kernelspec": {
      "display_name": "Python 3 (ipykernel)",
      "language": "python",
      "name": "python3"
    },
    "language_info": {
      "codemirror_mode": {
        "name": "ipython",
        "version": 3
      },
      "file_extension": ".py",
      "mimetype": "text/x-python",
      "name": "python",
      "nbconvert_exporter": "python",
      "pygments_lexer": "ipython3",
      "version": "3.9.12"
    }
  },
  "nbformat": 4,
  "nbformat_minor": 5
}
