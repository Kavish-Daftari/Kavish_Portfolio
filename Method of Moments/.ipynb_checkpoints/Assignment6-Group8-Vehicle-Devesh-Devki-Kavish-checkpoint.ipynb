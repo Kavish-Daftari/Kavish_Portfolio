{
 "cells": [
  {
   "cell_type": "markdown",
   "id": "4ce4f9eb",
   "metadata": {},
   "source": [
    "1. Finish computing in just-mom-compute-me.ipynb. You can download it on Modules-> Week5 -> W5L2.zip.\n",
    "\n",
    "2. Find a simple dataset with a one-humped histogram and model it by matching with the pdfs we learned today. Find the most likely parameters for your pdf using MOM. Use the model to do a prediction.\n",
    "\n",
    "You will work with your teammates of assignment5.\n",
    "\n",
    "Please find an original dataset. Don't use a boring dataset that everyone can easily google for :-)\n",
    "\n",
    "Zipped your dataset and the code together (Don't forget the first part). Name your file as Assignment6-GroupNum-FirstNameOfEachMember.\n"
   ]
  },
  {
   "cell_type": "markdown",
   "id": "c7a1eac1",
   "metadata": {},
   "source": [
    "### Dataset details - \n",
    "\n",
    "Fuel Economy Data: How Efficient Are Today's Cars?\n",
    "From answer above, I propose 'Are Today's Cars Fuel Efficient?'\n",
    "\n",
    "About this dataset\n",
    "Would you like to know how much it costs to fill up your car's gas tank? What about how much CO2 your car emits? The Fuel Economy dataset has this information and more for over 35,000 cars! This dataset is the result of vehicle testing done by the Environmental Protection Agency's National Vehicle and Fuel Emissions Laboratory and by vehicle manufacturers.\n",
    "\n",
    "These fuel economy data are the result of vehicle testing done at the Environmental Protection Agency's National Vehicle and Fuel Emissions Laboratory in Ann Arbor, Michigan, and by vehicle manufacturers with oversight by EPA. The Find a Car vehicle table contains fuel economy information for 1984-current model year vehicles. The data are available for download in CSV.\n",
    "\n",
    "Credit the Department of Energy\n",
    "\n",
    "Column name\tDescription\n",
    "- barrels08\tThe number of barrels of fuel consumed in 2008. (Numeric)\n",
    "- barrelsA08\tThe number of barrels of fuel consumed in 2008. (Numeric)\n",
    "- charge120\tThe time it takes to charge an electric vehicle's battery at 120 volts. (Hours)\n",
    "- charge240\tThe time it takes to charge an electric vehicle's battery at 240 volts. (Hours)\n",
    "- city08\tFuel economy in the city in 2008. (Miles per gallon)\n",
    "- city08U\tFuel economy in the city in 2008. (Miles per gallon)\n",
    "- cityA08\tFuel economy in the city in 2008. (Miles per gallon)\n",
    "- cityA08U\tFuel economy in the city in 2008. (Miles per gallon)\n",
    "- cityCD\tThe type of city driving. (String)\n",
    "- cityE\tFuel economy in the city. (Miles per gallon)\n",
    "- cityUF\tThe units of fuel economy in the city. (String)\n",
    "- co2\tCarbon dioxide emissions in grams per mile. (Numeric)\n",
    "- co2A\tCarbon dioxide emissions in grams per mile. (Numeric)\n",
    "- co2TailpipeAGpm\tCarbon dioxide emissions in grams per mile. (Numeric)\n",
    "- co2TailpipeGpm\tCarbon dioxide emissions in grams per mile. (Numeric)\n",
    "- comb08\tCombined fuel economy in 2008. (Miles per gallon)\n",
    "- comb08U\tCombined fuel economy in 2008. (Miles per gallon)\n",
    "- combA08\tCombined fuel economy in 2008. (Miles per gallon)\n",
    "- combA08U\tCombined fuel economy in 2008. (Miles per gallon)\n",
    "- combE\tCombined fuel economy. (Miles per gallon)\n",
    "- combinedCD\tThe type of combined driving. (String)\n",
    "- combinedUF\tThe units of combined fuel economy. (String)\n",
    "- cylinders\tNumber of cylinders in the engine. (Numeric)\n",
    "- displ\tEngine displacement in liters. (Numeric)\n",
    "- drive\tDrivetrain. (String)\n"
   ]
  },
  {
   "cell_type": "markdown",
   "id": "d1d8f089",
   "metadata": {},
   "source": [
    "**Here we are importing the requisite libraries for the notebook**"
   ]
  },
  {
   "cell_type": "code",
   "execution_count": 1,
   "id": "c4afae91",
   "metadata": {},
   "outputs": [],
   "source": [
    "import numpy as np\n",
    "import pandas as pd\n",
    "import matplotlib.pyplot as plt\n",
    "from scipy.stats.distributions import gamma\n",
    "%matplotlib inline"
   ]
  },
  {
   "cell_type": "markdown",
   "id": "88c5e7b4",
   "metadata": {},
   "source": [
    "**Reading the dataset using the pandas read csv method**"
   ]
  },
  {
   "cell_type": "code",
   "execution_count": 2,
   "id": "845283bd",
   "metadata": {},
   "outputs": [
    {
     "name": "stderr",
     "output_type": "stream",
     "text": [
      "/var/folders/qm/2m60vf_d5z3b2hf93l6yznfr0000gn/T/ipykernel_10639/1067973442.py:2: DtypeWarning: Columns (71,72,73,74,75,77,80) have mixed types. Specify dtype option on import or set low_memory=False.\n",
      "  veh = pd.read_csv(\"data/vehicles.csv\")\n"
     ]
    }
   ],
   "source": [
    "import pandas as pd\n",
    "veh = pd.read_csv(\"data/vehicles.csv\")"
   ]
  },
  {
   "cell_type": "code",
   "execution_count": 3,
   "id": "934212c4",
   "metadata": {},
   "outputs": [
    {
     "data": {
      "text/html": [
       "<div>\n",
       "<style scoped>\n",
       "    .dataframe tbody tr th:only-of-type {\n",
       "        vertical-align: middle;\n",
       "    }\n",
       "\n",
       "    .dataframe tbody tr th {\n",
       "        vertical-align: top;\n",
       "    }\n",
       "\n",
       "    .dataframe thead th {\n",
       "        text-align: right;\n",
       "    }\n",
       "</style>\n",
       "<table border=\"1\" class=\"dataframe\">\n",
       "  <thead>\n",
       "    <tr style=\"text-align: right;\">\n",
       "      <th></th>\n",
       "      <th>index</th>\n",
       "      <th>barrels08</th>\n",
       "      <th>barrelsA08</th>\n",
       "      <th>charge120</th>\n",
       "      <th>charge240</th>\n",
       "      <th>city08</th>\n",
       "      <th>city08U</th>\n",
       "      <th>cityA08</th>\n",
       "      <th>cityA08U</th>\n",
       "      <th>cityCD</th>\n",
       "      <th>...</th>\n",
       "      <th>mfrCode</th>\n",
       "      <th>c240Dscr</th>\n",
       "      <th>charge240b</th>\n",
       "      <th>c240bDscr</th>\n",
       "      <th>createdOn</th>\n",
       "      <th>modifiedOn</th>\n",
       "      <th>startStop</th>\n",
       "      <th>phevCity</th>\n",
       "      <th>phevHwy</th>\n",
       "      <th>phevComb</th>\n",
       "    </tr>\n",
       "  </thead>\n",
       "  <tbody>\n",
       "    <tr>\n",
       "      <th>0</th>\n",
       "      <td>0</td>\n",
       "      <td>15.695714</td>\n",
       "      <td>0.0</td>\n",
       "      <td>0.0</td>\n",
       "      <td>0.0</td>\n",
       "      <td>19</td>\n",
       "      <td>0.0</td>\n",
       "      <td>0</td>\n",
       "      <td>0.0</td>\n",
       "      <td>0.0</td>\n",
       "      <td>...</td>\n",
       "      <td>NaN</td>\n",
       "      <td>NaN</td>\n",
       "      <td>0.0</td>\n",
       "      <td>NaN</td>\n",
       "      <td>Tue Jan 01 00:00:00 EST 2013</td>\n",
       "      <td>Tue Jan 01 00:00:00 EST 2013</td>\n",
       "      <td>NaN</td>\n",
       "      <td>0</td>\n",
       "      <td>0</td>\n",
       "      <td>0</td>\n",
       "    </tr>\n",
       "    <tr>\n",
       "      <th>1</th>\n",
       "      <td>1</td>\n",
       "      <td>29.964545</td>\n",
       "      <td>0.0</td>\n",
       "      <td>0.0</td>\n",
       "      <td>0.0</td>\n",
       "      <td>9</td>\n",
       "      <td>0.0</td>\n",
       "      <td>0</td>\n",
       "      <td>0.0</td>\n",
       "      <td>0.0</td>\n",
       "      <td>...</td>\n",
       "      <td>NaN</td>\n",
       "      <td>NaN</td>\n",
       "      <td>0.0</td>\n",
       "      <td>NaN</td>\n",
       "      <td>Tue Jan 01 00:00:00 EST 2013</td>\n",
       "      <td>Tue Jan 01 00:00:00 EST 2013</td>\n",
       "      <td>NaN</td>\n",
       "      <td>0</td>\n",
       "      <td>0</td>\n",
       "      <td>0</td>\n",
       "    </tr>\n",
       "    <tr>\n",
       "      <th>2</th>\n",
       "      <td>2</td>\n",
       "      <td>12.207778</td>\n",
       "      <td>0.0</td>\n",
       "      <td>0.0</td>\n",
       "      <td>0.0</td>\n",
       "      <td>23</td>\n",
       "      <td>0.0</td>\n",
       "      <td>0</td>\n",
       "      <td>0.0</td>\n",
       "      <td>0.0</td>\n",
       "      <td>...</td>\n",
       "      <td>NaN</td>\n",
       "      <td>NaN</td>\n",
       "      <td>0.0</td>\n",
       "      <td>NaN</td>\n",
       "      <td>Tue Jan 01 00:00:00 EST 2013</td>\n",
       "      <td>Tue Jan 01 00:00:00 EST 2013</td>\n",
       "      <td>NaN</td>\n",
       "      <td>0</td>\n",
       "      <td>0</td>\n",
       "      <td>0</td>\n",
       "    </tr>\n",
       "    <tr>\n",
       "      <th>3</th>\n",
       "      <td>3</td>\n",
       "      <td>29.964545</td>\n",
       "      <td>0.0</td>\n",
       "      <td>0.0</td>\n",
       "      <td>0.0</td>\n",
       "      <td>10</td>\n",
       "      <td>0.0</td>\n",
       "      <td>0</td>\n",
       "      <td>0.0</td>\n",
       "      <td>0.0</td>\n",
       "      <td>...</td>\n",
       "      <td>NaN</td>\n",
       "      <td>NaN</td>\n",
       "      <td>0.0</td>\n",
       "      <td>NaN</td>\n",
       "      <td>Tue Jan 01 00:00:00 EST 2013</td>\n",
       "      <td>Tue Jan 01 00:00:00 EST 2013</td>\n",
       "      <td>NaN</td>\n",
       "      <td>0</td>\n",
       "      <td>0</td>\n",
       "      <td>0</td>\n",
       "    </tr>\n",
       "    <tr>\n",
       "      <th>4</th>\n",
       "      <td>4</td>\n",
       "      <td>17.347895</td>\n",
       "      <td>0.0</td>\n",
       "      <td>0.0</td>\n",
       "      <td>0.0</td>\n",
       "      <td>17</td>\n",
       "      <td>0.0</td>\n",
       "      <td>0</td>\n",
       "      <td>0.0</td>\n",
       "      <td>0.0</td>\n",
       "      <td>...</td>\n",
       "      <td>NaN</td>\n",
       "      <td>NaN</td>\n",
       "      <td>0.0</td>\n",
       "      <td>NaN</td>\n",
       "      <td>Tue Jan 01 00:00:00 EST 2013</td>\n",
       "      <td>Tue Jan 01 00:00:00 EST 2013</td>\n",
       "      <td>NaN</td>\n",
       "      <td>0</td>\n",
       "      <td>0</td>\n",
       "      <td>0</td>\n",
       "    </tr>\n",
       "    <tr>\n",
       "      <th>...</th>\n",
       "      <td>...</td>\n",
       "      <td>...</td>\n",
       "      <td>...</td>\n",
       "      <td>...</td>\n",
       "      <td>...</td>\n",
       "      <td>...</td>\n",
       "      <td>...</td>\n",
       "      <td>...</td>\n",
       "      <td>...</td>\n",
       "      <td>...</td>\n",
       "      <td>...</td>\n",
       "      <td>...</td>\n",
       "      <td>...</td>\n",
       "      <td>...</td>\n",
       "      <td>...</td>\n",
       "      <td>...</td>\n",
       "      <td>...</td>\n",
       "      <td>...</td>\n",
       "      <td>...</td>\n",
       "      <td>...</td>\n",
       "      <td>...</td>\n",
       "    </tr>\n",
       "    <tr>\n",
       "      <th>37931</th>\n",
       "      <td>37931</td>\n",
       "      <td>14.982273</td>\n",
       "      <td>0.0</td>\n",
       "      <td>0.0</td>\n",
       "      <td>0.0</td>\n",
       "      <td>19</td>\n",
       "      <td>0.0</td>\n",
       "      <td>0</td>\n",
       "      <td>0.0</td>\n",
       "      <td>0.0</td>\n",
       "      <td>...</td>\n",
       "      <td>NaN</td>\n",
       "      <td>NaN</td>\n",
       "      <td>0.0</td>\n",
       "      <td>NaN</td>\n",
       "      <td>Tue Jan 01 00:00:00 EST 2013</td>\n",
       "      <td>Tue Jan 01 00:00:00 EST 2013</td>\n",
       "      <td>NaN</td>\n",
       "      <td>0</td>\n",
       "      <td>0</td>\n",
       "      <td>0</td>\n",
       "    </tr>\n",
       "    <tr>\n",
       "      <th>37932</th>\n",
       "      <td>37932</td>\n",
       "      <td>14.330870</td>\n",
       "      <td>0.0</td>\n",
       "      <td>0.0</td>\n",
       "      <td>0.0</td>\n",
       "      <td>20</td>\n",
       "      <td>0.0</td>\n",
       "      <td>0</td>\n",
       "      <td>0.0</td>\n",
       "      <td>0.0</td>\n",
       "      <td>...</td>\n",
       "      <td>NaN</td>\n",
       "      <td>NaN</td>\n",
       "      <td>0.0</td>\n",
       "      <td>NaN</td>\n",
       "      <td>Tue Jan 01 00:00:00 EST 2013</td>\n",
       "      <td>Tue Jan 01 00:00:00 EST 2013</td>\n",
       "      <td>NaN</td>\n",
       "      <td>0</td>\n",
       "      <td>0</td>\n",
       "      <td>0</td>\n",
       "    </tr>\n",
       "    <tr>\n",
       "      <th>37933</th>\n",
       "      <td>37933</td>\n",
       "      <td>15.695714</td>\n",
       "      <td>0.0</td>\n",
       "      <td>0.0</td>\n",
       "      <td>0.0</td>\n",
       "      <td>18</td>\n",
       "      <td>0.0</td>\n",
       "      <td>0</td>\n",
       "      <td>0.0</td>\n",
       "      <td>0.0</td>\n",
       "      <td>...</td>\n",
       "      <td>NaN</td>\n",
       "      <td>NaN</td>\n",
       "      <td>0.0</td>\n",
       "      <td>NaN</td>\n",
       "      <td>Tue Jan 01 00:00:00 EST 2013</td>\n",
       "      <td>Tue Jan 01 00:00:00 EST 2013</td>\n",
       "      <td>NaN</td>\n",
       "      <td>0</td>\n",
       "      <td>0</td>\n",
       "      <td>0</td>\n",
       "    </tr>\n",
       "    <tr>\n",
       "      <th>37934</th>\n",
       "      <td>37934</td>\n",
       "      <td>15.695714</td>\n",
       "      <td>0.0</td>\n",
       "      <td>0.0</td>\n",
       "      <td>0.0</td>\n",
       "      <td>18</td>\n",
       "      <td>0.0</td>\n",
       "      <td>0</td>\n",
       "      <td>0.0</td>\n",
       "      <td>0.0</td>\n",
       "      <td>...</td>\n",
       "      <td>NaN</td>\n",
       "      <td>NaN</td>\n",
       "      <td>0.0</td>\n",
       "      <td>NaN</td>\n",
       "      <td>Tue Jan 01 00:00:00 EST 2013</td>\n",
       "      <td>Tue Jan 01 00:00:00 EST 2013</td>\n",
       "      <td>NaN</td>\n",
       "      <td>0</td>\n",
       "      <td>0</td>\n",
       "      <td>0</td>\n",
       "    </tr>\n",
       "    <tr>\n",
       "      <th>37935</th>\n",
       "      <td>37935</td>\n",
       "      <td>18.311667</td>\n",
       "      <td>0.0</td>\n",
       "      <td>0.0</td>\n",
       "      <td>0.0</td>\n",
       "      <td>16</td>\n",
       "      <td>0.0</td>\n",
       "      <td>0</td>\n",
       "      <td>0.0</td>\n",
       "      <td>0.0</td>\n",
       "      <td>...</td>\n",
       "      <td>NaN</td>\n",
       "      <td>NaN</td>\n",
       "      <td>0.0</td>\n",
       "      <td>NaN</td>\n",
       "      <td>Tue Jan 01 00:00:00 EST 2013</td>\n",
       "      <td>Tue Jan 01 00:00:00 EST 2013</td>\n",
       "      <td>NaN</td>\n",
       "      <td>0</td>\n",
       "      <td>0</td>\n",
       "      <td>0</td>\n",
       "    </tr>\n",
       "  </tbody>\n",
       "</table>\n",
       "<p>37936 rows × 84 columns</p>\n",
       "</div>"
      ],
      "text/plain": [
       "       index  barrels08  barrelsA08  charge120  charge240  city08  city08U  \\\n",
       "0          0  15.695714         0.0        0.0        0.0      19      0.0   \n",
       "1          1  29.964545         0.0        0.0        0.0       9      0.0   \n",
       "2          2  12.207778         0.0        0.0        0.0      23      0.0   \n",
       "3          3  29.964545         0.0        0.0        0.0      10      0.0   \n",
       "4          4  17.347895         0.0        0.0        0.0      17      0.0   \n",
       "...      ...        ...         ...        ...        ...     ...      ...   \n",
       "37931  37931  14.982273         0.0        0.0        0.0      19      0.0   \n",
       "37932  37932  14.330870         0.0        0.0        0.0      20      0.0   \n",
       "37933  37933  15.695714         0.0        0.0        0.0      18      0.0   \n",
       "37934  37934  15.695714         0.0        0.0        0.0      18      0.0   \n",
       "37935  37935  18.311667         0.0        0.0        0.0      16      0.0   \n",
       "\n",
       "       cityA08  cityA08U  cityCD  ...  mfrCode  c240Dscr  charge240b  \\\n",
       "0            0       0.0     0.0  ...      NaN       NaN         0.0   \n",
       "1            0       0.0     0.0  ...      NaN       NaN         0.0   \n",
       "2            0       0.0     0.0  ...      NaN       NaN         0.0   \n",
       "3            0       0.0     0.0  ...      NaN       NaN         0.0   \n",
       "4            0       0.0     0.0  ...      NaN       NaN         0.0   \n",
       "...        ...       ...     ...  ...      ...       ...         ...   \n",
       "37931        0       0.0     0.0  ...      NaN       NaN         0.0   \n",
       "37932        0       0.0     0.0  ...      NaN       NaN         0.0   \n",
       "37933        0       0.0     0.0  ...      NaN       NaN         0.0   \n",
       "37934        0       0.0     0.0  ...      NaN       NaN         0.0   \n",
       "37935        0       0.0     0.0  ...      NaN       NaN         0.0   \n",
       "\n",
       "       c240bDscr                     createdOn                    modifiedOn  \\\n",
       "0            NaN  Tue Jan 01 00:00:00 EST 2013  Tue Jan 01 00:00:00 EST 2013   \n",
       "1            NaN  Tue Jan 01 00:00:00 EST 2013  Tue Jan 01 00:00:00 EST 2013   \n",
       "2            NaN  Tue Jan 01 00:00:00 EST 2013  Tue Jan 01 00:00:00 EST 2013   \n",
       "3            NaN  Tue Jan 01 00:00:00 EST 2013  Tue Jan 01 00:00:00 EST 2013   \n",
       "4            NaN  Tue Jan 01 00:00:00 EST 2013  Tue Jan 01 00:00:00 EST 2013   \n",
       "...          ...                           ...                           ...   \n",
       "37931        NaN  Tue Jan 01 00:00:00 EST 2013  Tue Jan 01 00:00:00 EST 2013   \n",
       "37932        NaN  Tue Jan 01 00:00:00 EST 2013  Tue Jan 01 00:00:00 EST 2013   \n",
       "37933        NaN  Tue Jan 01 00:00:00 EST 2013  Tue Jan 01 00:00:00 EST 2013   \n",
       "37934        NaN  Tue Jan 01 00:00:00 EST 2013  Tue Jan 01 00:00:00 EST 2013   \n",
       "37935        NaN  Tue Jan 01 00:00:00 EST 2013  Tue Jan 01 00:00:00 EST 2013   \n",
       "\n",
       "       startStop  phevCity  phevHwy  phevComb  \n",
       "0            NaN         0        0         0  \n",
       "1            NaN         0        0         0  \n",
       "2            NaN         0        0         0  \n",
       "3            NaN         0        0         0  \n",
       "4            NaN         0        0         0  \n",
       "...          ...       ...      ...       ...  \n",
       "37931        NaN         0        0         0  \n",
       "37932        NaN         0        0         0  \n",
       "37933        NaN         0        0         0  \n",
       "37934        NaN         0        0         0  \n",
       "37935        NaN         0        0         0  \n",
       "\n",
       "[37936 rows x 84 columns]"
      ]
     },
     "execution_count": 3,
     "metadata": {},
     "output_type": "execute_result"
    }
   ],
   "source": [
    "veh"
   ]
  },
  {
   "cell_type": "markdown",
   "id": "81f3f50a",
   "metadata": {},
   "source": [
    "**Creating a smaller dataset for ease of use**"
   ]
  },
  {
   "cell_type": "code",
   "execution_count": 4,
   "id": "1ebab09e",
   "metadata": {},
   "outputs": [],
   "source": [
    "list_col = [\"barrels08\", 'co2TailpipeGpm', 'fuelCost08', 'highway08', 'UHighway', 'youSaveSpend']\n",
    "df = veh[list_col]"
   ]
  },
  {
   "cell_type": "markdown",
   "id": "a16de79c",
   "metadata": {},
   "source": [
    "- Next, we perform the preprocessing steps on the data before we visualize the same \n",
    "- We start with the cleaning of dataset. \n",
    "- We do that by checking for null values in all columns for the dataset and replace them with mean values etc.**"
   ]
  },
  {
   "cell_type": "code",
   "execution_count": 5,
   "id": "a55aa84a",
   "metadata": {},
   "outputs": [
    {
     "data": {
      "text/plain": [
       "False"
      ]
     },
     "execution_count": 5,
     "metadata": {},
     "output_type": "execute_result"
    }
   ],
   "source": [
    "# Here we check if any of the columns have NaN values\n",
    "df.isnull().values.any()"
   ]
  },
  {
   "cell_type": "code",
   "execution_count": 6,
   "id": "109cd170",
   "metadata": {
    "scrolled": true
   },
   "outputs": [
    {
     "data": {
      "text/plain": [
       "['barrels08',\n",
       " 'co2TailpipeGpm',\n",
       " 'fuelCost08',\n",
       " 'highway08',\n",
       " 'UHighway',\n",
       " 'youSaveSpend']"
      ]
     },
     "execution_count": 6,
     "metadata": {},
     "output_type": "execute_result"
    }
   ],
   "source": [
    "list(df)"
   ]
  },
  {
   "cell_type": "code",
   "execution_count": 7,
   "id": "951a047d",
   "metadata": {},
   "outputs": [
    {
     "name": "stderr",
     "output_type": "stream",
     "text": [
      "/var/folders/qm/2m60vf_d5z3b2hf93l6yznfr0000gn/T/ipykernel_10639/67385516.py:2: SettingWithCopyWarning: \n",
      "A value is trying to be set on a copy of a slice from a DataFrame.\n",
      "Try using .loc[row_indexer,col_indexer] = value instead\n",
      "\n",
      "See the caveats in the documentation: https://pandas.pydata.org/pandas-docs/stable/user_guide/indexing.html#returning-a-view-versus-a-copy\n",
      "  df.fillna(value={str(i) : df[str(i)].mean()}, inplace=True)\n"
     ]
    },
    {
     "data": {
      "text/html": [
       "<div>\n",
       "<style scoped>\n",
       "    .dataframe tbody tr th:only-of-type {\n",
       "        vertical-align: middle;\n",
       "    }\n",
       "\n",
       "    .dataframe tbody tr th {\n",
       "        vertical-align: top;\n",
       "    }\n",
       "\n",
       "    .dataframe thead th {\n",
       "        text-align: right;\n",
       "    }\n",
       "</style>\n",
       "<table border=\"1\" class=\"dataframe\">\n",
       "  <thead>\n",
       "    <tr style=\"text-align: right;\">\n",
       "      <th></th>\n",
       "      <th>barrels08</th>\n",
       "      <th>co2TailpipeGpm</th>\n",
       "      <th>fuelCost08</th>\n",
       "      <th>highway08</th>\n",
       "      <th>UHighway</th>\n",
       "      <th>youSaveSpend</th>\n",
       "    </tr>\n",
       "  </thead>\n",
       "  <tbody>\n",
       "    <tr>\n",
       "      <th>0</th>\n",
       "      <td>15.695714</td>\n",
       "      <td>423.190476</td>\n",
       "      <td>1600</td>\n",
       "      <td>25</td>\n",
       "      <td>35.0000</td>\n",
       "      <td>-1250</td>\n",
       "    </tr>\n",
       "    <tr>\n",
       "      <th>1</th>\n",
       "      <td>29.964545</td>\n",
       "      <td>807.909091</td>\n",
       "      <td>3050</td>\n",
       "      <td>14</td>\n",
       "      <td>19.0000</td>\n",
       "      <td>-8500</td>\n",
       "    </tr>\n",
       "    <tr>\n",
       "      <th>2</th>\n",
       "      <td>12.207778</td>\n",
       "      <td>329.148148</td>\n",
       "      <td>1250</td>\n",
       "      <td>33</td>\n",
       "      <td>47.0000</td>\n",
       "      <td>500</td>\n",
       "    </tr>\n",
       "    <tr>\n",
       "      <th>3</th>\n",
       "      <td>29.964545</td>\n",
       "      <td>807.909091</td>\n",
       "      <td>3050</td>\n",
       "      <td>12</td>\n",
       "      <td>16.6667</td>\n",
       "      <td>-8500</td>\n",
       "    </tr>\n",
       "    <tr>\n",
       "      <th>4</th>\n",
       "      <td>17.347895</td>\n",
       "      <td>467.736842</td>\n",
       "      <td>2150</td>\n",
       "      <td>23</td>\n",
       "      <td>32.0000</td>\n",
       "      <td>-4000</td>\n",
       "    </tr>\n",
       "    <tr>\n",
       "      <th>...</th>\n",
       "      <td>...</td>\n",
       "      <td>...</td>\n",
       "      <td>...</td>\n",
       "      <td>...</td>\n",
       "      <td>...</td>\n",
       "      <td>...</td>\n",
       "    </tr>\n",
       "    <tr>\n",
       "      <th>37931</th>\n",
       "      <td>14.982273</td>\n",
       "      <td>403.954545</td>\n",
       "      <td>1550</td>\n",
       "      <td>26</td>\n",
       "      <td>37.0000</td>\n",
       "      <td>-1000</td>\n",
       "    </tr>\n",
       "    <tr>\n",
       "      <th>37932</th>\n",
       "      <td>14.330870</td>\n",
       "      <td>386.391304</td>\n",
       "      <td>1450</td>\n",
       "      <td>28</td>\n",
       "      <td>39.0000</td>\n",
       "      <td>-500</td>\n",
       "    </tr>\n",
       "    <tr>\n",
       "      <th>37933</th>\n",
       "      <td>15.695714</td>\n",
       "      <td>423.190476</td>\n",
       "      <td>1600</td>\n",
       "      <td>24</td>\n",
       "      <td>34.0000</td>\n",
       "      <td>-1250</td>\n",
       "    </tr>\n",
       "    <tr>\n",
       "      <th>37934</th>\n",
       "      <td>15.695714</td>\n",
       "      <td>423.190476</td>\n",
       "      <td>1600</td>\n",
       "      <td>24</td>\n",
       "      <td>34.0000</td>\n",
       "      <td>-1250</td>\n",
       "    </tr>\n",
       "    <tr>\n",
       "      <th>37935</th>\n",
       "      <td>18.311667</td>\n",
       "      <td>493.722222</td>\n",
       "      <td>2300</td>\n",
       "      <td>21</td>\n",
       "      <td>29.0000</td>\n",
       "      <td>-4750</td>\n",
       "    </tr>\n",
       "  </tbody>\n",
       "</table>\n",
       "<p>37936 rows × 6 columns</p>\n",
       "</div>"
      ],
      "text/plain": [
       "       barrels08  co2TailpipeGpm  fuelCost08  highway08  UHighway  \\\n",
       "0      15.695714      423.190476        1600         25   35.0000   \n",
       "1      29.964545      807.909091        3050         14   19.0000   \n",
       "2      12.207778      329.148148        1250         33   47.0000   \n",
       "3      29.964545      807.909091        3050         12   16.6667   \n",
       "4      17.347895      467.736842        2150         23   32.0000   \n",
       "...          ...             ...         ...        ...       ...   \n",
       "37931  14.982273      403.954545        1550         26   37.0000   \n",
       "37932  14.330870      386.391304        1450         28   39.0000   \n",
       "37933  15.695714      423.190476        1600         24   34.0000   \n",
       "37934  15.695714      423.190476        1600         24   34.0000   \n",
       "37935  18.311667      493.722222        2300         21   29.0000   \n",
       "\n",
       "       youSaveSpend  \n",
       "0             -1250  \n",
       "1             -8500  \n",
       "2               500  \n",
       "3             -8500  \n",
       "4             -4000  \n",
       "...             ...  \n",
       "37931         -1000  \n",
       "37932          -500  \n",
       "37933         -1250  \n",
       "37934         -1250  \n",
       "37935         -4750  \n",
       "\n",
       "[37936 rows x 6 columns]"
      ]
     },
     "execution_count": 7,
     "metadata": {},
     "output_type": "execute_result"
    }
   ],
   "source": [
    "for i in list(df):\n",
    "    df.fillna(value={str(i) : df[str(i)].mean()}, inplace=True)\n",
    "\n",
    "df\n",
    "# All columns "
   ]
  },
  {
   "cell_type": "code",
   "execution_count": 8,
   "id": "16e2fd4b",
   "metadata": {},
   "outputs": [
    {
     "data": {
      "text/plain": [
       "False"
      ]
     },
     "execution_count": 8,
     "metadata": {},
     "output_type": "execute_result"
    }
   ],
   "source": [
    "# Here we check if any of the columns have NaN values\n",
    "df.isnull().values.any()"
   ]
  },
  {
   "cell_type": "markdown",
   "id": "3c64dd25",
   "metadata": {},
   "source": [
    "### Plotting histogram"
   ]
  },
  {
   "cell_type": "code",
   "execution_count": 9,
   "id": "86caa152",
   "metadata": {},
   "outputs": [
    {
     "data": {
      "text/plain": [
       "array([[<AxesSubplot:title={'center':'barrels08'}>,\n",
       "        <AxesSubplot:title={'center':'co2TailpipeGpm'}>],\n",
       "       [<AxesSubplot:title={'center':'fuelCost08'}>,\n",
       "        <AxesSubplot:title={'center':'highway08'}>],\n",
       "       [<AxesSubplot:title={'center':'UHighway'}>,\n",
       "        <AxesSubplot:title={'center':'youSaveSpend'}>]], dtype=object)"
      ]
     },
     "execution_count": 9,
     "metadata": {},
     "output_type": "execute_result"
    },
    {
     "data": {
      "image/png": "[encoded data removed]",
      "text/plain": [
       "<Figure size 3600x2880 with 6 Axes>"
      ]
     },
     "metadata": {
      "needs_background": "light"
     },
     "output_type": "display_data"
    }
   ],
   "source": [
    "df.hist(figsize=(50, 40), grid=False)"
   ]
  },
  {
   "cell_type": "markdown",
   "id": "a01ef0ea",
   "metadata": {},
   "source": [
    "### 3. Method of Moments\n",
    "\n",
    "The **method of moments** simply assigns the **empirical** (coming from the data) **mean** and **variance** to their **theoretical counterparts** (coming from the *model*, in this case the Gamma!), so that we can ***solve for the parameters*** of the Gamma!\n",
    "\n",
    "So, for the gamma distribution, the mean and variance turn out to be (analytically derived):\n",
    "\n",
    "<br />\n",
    "<div style=\"font-size: 120%;\">  \n",
    "$$ \\hat{\\mu} = \\bar{X} = \\alpha \\beta $$\n",
    "$$ \\hat{\\sigma}^2 = S^2 = \\alpha \\beta^2 $$\n",
    "</div>"
   ]
  },
  {
   "cell_type": "markdown",
   "id": "057386db",
   "metadata": {},
   "source": [
    "So, if we solve for these parameters, we can use a gamma distribution to describe our data, with parameters:\n",
    "\n",
    "<br />\n",
    "<div style=\"font-size: 120%;\">  \n",
    "$$ \\alpha = \\frac{\\bar{X}^2}{S^2}, \\, \\beta = \\frac{S^2}{\\bar{X}} $$\n",
    "</div>\n",
    "\n",
    "($\\bar{X}$ is the mean, while $S^2$ is the variance of each column of the dataset)."
   ]
  },
  {
   "cell_type": "markdown",
   "id": "e9b6d8f3",
   "metadata": {},
   "source": [
    "Now, let's calculate the sample ***moments of interest***: the **means** and **variances**:"
   ]
  },
  {
   "cell_type": "code",
   "execution_count": 10,
   "id": "96abf28e",
   "metadata": {
    "scrolled": false
   },
   "outputs": [
    {
     "name": "stdout",
     "output_type": "stream",
     "text": [
      "\n",
      " Vehicle Var :\n",
      " barrels08         2.081115e+01\n",
      "co2TailpipeGpm    1.482766e+04\n",
      "fuelCost08        2.627528e+05\n",
      "highway08         4.721269e+01\n",
      "UHighway          1.004493e+02\n",
      "youSaveSpend      6.578705e+06\n",
      "dtype: float64\n",
      "\n",
      " Vehicle Mean:\n",
      " barrels08           17.538963\n",
      "co2TailpipeGpm     473.341854\n",
      "fuelCost08        1901.826761\n",
      "highway08           24.030261\n",
      "UHighway            33.602838\n",
      "youSaveSpend     -2757.716944\n",
      "dtype: float64\n",
      "\n",
      " Alpha Moment :\n",
      " barrels08         14.781273\n",
      "co2TailpipeGpm    15.110447\n",
      "fuelCost08        13.765580\n",
      "highway08         12.230896\n",
      "UHighway          11.241003\n",
      "youSaveSpend       1.156003\n",
      "dtype: float64\n",
      "\n",
      " Beta Moment :\n",
      " barrels08            1.186566\n",
      "co2TailpipeGpm      31.325470\n",
      "fuelCost08         138.158128\n",
      "highway08            1.964718\n",
      "UHighway             2.989310\n",
      "youSaveSpend     -2385.562131\n",
      "dtype: float64\n"
     ]
    }
   ],
   "source": [
    "from scipy.stats.distributions import *\n",
    "\n",
    "veh_var = df.var()\n",
    "print(\"\\n Vehicle Var :\\n\",veh_var)\n",
    "veh_mean = df.mean()\n",
    "print(\"\\n Vehicle Mean:\\n\",veh_mean)\n",
    "\n",
    "alpha_moms = veh_mean**2/veh_var\n",
    "print(\"\\n Alpha Moment :\\n\", alpha_moms)\n",
    "beta_moms = veh_var/veh_mean\n",
    "print(\"\\n Beta Moment :\\n\", beta_moms)\n"
   ]
  },
  {
   "cell_type": "markdown",
   "id": "10c3c08e",
   "metadata": {},
   "source": [
    "- Next, we step is to find which distribution most accurates fits our Features\n",
    "- We take the feature `barrels08`\n",
    "- Here, we try out non binary valued distributions such as uniform, normal, gamma function, exponential"
   ]
  },
  {
   "cell_type": "code",
   "execution_count": 11,
   "id": "7fbd59a2",
   "metadata": {},
   "outputs": [],
   "source": [
    "alpha_mom, beta_mom = alpha_moms[\"barrels08\"], beta_moms[\"barrels08\"]"
   ]
  },
  {
   "cell_type": "code",
   "execution_count": 12,
   "id": "27bddf9a",
   "metadata": {},
   "outputs": [
    {
     "data": {
      "text/plain": [
       "[<matplotlib.lines.Line2D at 0x7f94d23e9ca0>]"
      ]
     },
     "execution_count": 12,
     "metadata": {},
     "output_type": "execute_result"
    },
    {
     "data": {
      "image/png": "[encoded data removed]",
      "text/plain": [
       "<Figure size 720x576 with 1 Axes>"
      ]
     },
     "metadata": {
      "needs_background": "light"
     },
     "output_type": "display_data"
    }
   ],
   "source": [
    "df.barrels08.hist(density=True, figsize = (10, 8), label=\"test\")\n",
    "plt.plot(np.linspace(0, 45), norm.pdf(np.linspace(0, 45), alpha_mom, beta_mom))"
   ]
  },
  {
   "cell_type": "code",
   "execution_count": 25,
   "id": "4cb1eb18",
   "metadata": {},
   "outputs": [
    {
     "data": {
      "text/plain": [
       "[<matplotlib.lines.Line2D at 0x7f94b114f640>]"
      ]
     },
     "execution_count": 25,
     "metadata": {},
     "output_type": "execute_result"
    },
    {
     "data": {
      "image/png": "[encoded data removed]",
      "text/plain": [
       "<Figure size 1440x720 with 1 Axes>"
      ]
     },
     "metadata": {
      "needs_background": "light"
     },
     "output_type": "display_data"
    }
   ],
   "source": [
    "df.barrels08.hist(density=True, figsize = (20, 10), label=\"test\")\n",
    "plt.plot(np.linspace(0, 45), gamma.pdf(np.linspace(0, 45), alpha_mom, beta_mom))"
   ]
  },
  {
   "cell_type": "code",
   "execution_count": 14,
   "id": "75687a6d",
   "metadata": {},
   "outputs": [
    {
     "data": {
      "text/plain": [
       "[<matplotlib.lines.Line2D at 0x7f94c2668280>]"
      ]
     },
     "execution_count": 14,
     "metadata": {},
     "output_type": "execute_result"
    },
    {
     "data": {
      "image/png": "[encoded data removed]",
      "text/plain": [
       "<Figure size 1440x720 with 1 Axes>"
      ]
     },
     "metadata": {
      "needs_background": "light"
     },
     "output_type": "display_data"
    }
   ],
   "source": [
    "df.barrels08.hist(density=True, figsize = (20, 10), label=\"test\")\n",
    "plt.plot(np.linspace(0, 45), expon.pdf(np.linspace(0, 45), alpha_mom, beta_mom))"
   ]
  },
  {
   "cell_type": "code",
   "execution_count": 15,
   "id": "f7755361",
   "metadata": {},
   "outputs": [
    {
     "data": {
      "text/plain": [
       "[<matplotlib.lines.Line2D at 0x7f94b041a760>]"
      ]
     },
     "execution_count": 15,
     "metadata": {},
     "output_type": "execute_result"
    },
    {
     "data": {
      "image/png": "[encoded data removed]",
      "text/plain": [
       "<Figure size 1440x720 with 1 Axes>"
      ]
     },
     "metadata": {
      "needs_background": "light"
     },
     "output_type": "display_data"
    }
   ],
   "source": [
    "df.barrels08.hist(density=True, figsize = (20, 10), label=\"test\")\n",
    "plt.plot(np.linspace(0, 45), uniform.pdf(np.linspace(0, 45), alpha_mom, beta_mom))"
   ]
  },
  {
   "cell_type": "markdown",
   "id": "7492793c",
   "metadata": {},
   "source": [
    "## Using the best fit to find predictions"
   ]
  },
  {
   "cell_type": "markdown",
   "id": "95d05411",
   "metadata": {},
   "source": [
    "- We see that Gamma function turned out to give the best fit for our datamodel\n",
    "- We now make use of the same for finding out predictions for other data\n"
   ]
  },
  {
   "cell_type": "code",
   "execution_count": 46,
   "id": "2d7cd5b3",
   "metadata": {},
   "outputs": [],
   "source": [
    "## Creating the prediction function\n",
    "\n",
    "def predict_for_a_sample(sampleSize):\n",
    "    ''' Prediction function for the sample size of data'''\n",
    "    \n",
    "    predictions_dict = {}\n",
    "    \n",
    "    for key in veh_mean.to_dict().keys():\n",
    "        sigma_val = veh_var.to_dict()[key]\n",
    "        mu_val = veh_mean.to_dict()[key]\n",
    "        \n",
    "        key_new = key.replace(\"youPredictedSpend\", \"Predicted\")\n",
    "        \n",
    "        predictions_dict[key_new] = gamma.rvs(0.1, size=sampleSize, loc=mu, scale=sigma, random_state=0)\n",
    "        \n",
    "    return predictions_dict"
   ]
  },
  {
   "cell_type": "code",
   "execution_count": 45,
   "id": "96864dd9",
   "metadata": {},
   "outputs": [
    {
     "data": {
      "text/plain": [
       "{'barrels08': array([17.59055003, 17.67071682, 17.5428389 , 17.54431986]),\n",
       " 'co2TailpipeGpm': array([510.09718997, 567.21493567, 476.103664  , 477.15882365]),\n",
       " 'fuelCost08': array([2553.14806379, 3565.30054352, 1950.76729444, 1969.46520414]),\n",
       " 'highway08': array([24.14729403, 24.32916243, 24.03905536, 24.04241509]),\n",
       " 'UHighway': array([33.85183555, 34.23877713, 33.62154795, 33.62869608]),\n",
       " 'youPredictedSpend': array([13549.81767038, 38891.70580521, -1532.36251198, -1064.21137314])}"
      ]
     },
     "execution_count": 45,
     "metadata": {},
     "output_type": "execute_result"
    }
   ],
   "source": [
    "## Testing out the function\n",
    "\n",
    "predict_for_a_sample(4)"
   ]
  },
  {
   "cell_type": "code",
   "execution_count": null,
   "id": "f25a164a",
   "metadata": {},
   "outputs": [],
   "source": []
  },
  {
   "cell_type": "code",
   "execution_count": null,
   "id": "7307bb40",
   "metadata": {},
   "outputs": [],
   "source": []
  }
 ],
 "metadata": {
  "kernelspec": {
   "display_name": "Python 3 (ipykernel)",
   "language": "python",
   "name": "python3"
  },
  "language_info": {
   "codemirror_mode": {
    "name": "ipython",
    "version": 3
   },
   "file_extension": ".py",
   "mimetype": "text/x-python",
   "name": "python",
   "nbconvert_exporter": "python",
   "pygments_lexer": "ipython3",
   "version": "3.9.12"
  }
 },
 "nbformat": 4,
 "nbformat_minor": 5
}
